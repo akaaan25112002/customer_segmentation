{
 "cells": [
  {
   "cell_type": "markdown",
   "metadata": {},
   "source": [
    "# Topic: Customer Clustering with RFM "
   ]
  },
  {
   "cell_type": "code",
   "execution_count": 1,
   "metadata": {},
   "outputs": [],
   "source": [
    "import pandas as pd\n",
    "import numpy as np\n",
    "import matplotlib.pyplot as plt\n",
    "import seaborn as sns\n",
    "import plotly.express as px\n",
    "import squarify\n",
    "from datetime import datetime"
   ]
  },
  {
   "cell_type": "markdown",
   "metadata": {},
   "source": [
    "Data understanding"
   ]
  },
  {
   "cell_type": "code",
   "execution_count": 2,
   "metadata": {},
   "outputs": [],
   "source": [
    "products = pd.read_csv('Data/Products_with_Categories.csv')\n",
    "transactions = pd.read_csv('Data/Transactions.csv')"
   ]
  },
  {
   "cell_type": "code",
   "execution_count": 3,
   "metadata": {},
   "outputs": [
    {
     "name": "stdout",
     "output_type": "stream",
     "text": [
      "<class 'pandas.core.frame.DataFrame'>\n",
      "RangeIndex: 167 entries, 0 to 166\n",
      "Data columns (total 4 columns):\n",
      " #   Column       Non-Null Count  Dtype  \n",
      "---  ------       --------------  -----  \n",
      " 0   productId    167 non-null    int64  \n",
      " 1   productName  167 non-null    object \n",
      " 2   price        167 non-null    float64\n",
      " 3   Category     167 non-null    object \n",
      "dtypes: float64(1), int64(1), object(2)\n",
      "memory usage: 5.3+ KB\n"
     ]
    }
   ],
   "source": [
    "products.info()"
   ]
  },
  {
   "cell_type": "code",
   "execution_count": 4,
   "metadata": {},
   "outputs": [
    {
     "data": {
      "text/html": [
       "<div>\n",
       "<style scoped>\n",
       "    .dataframe tbody tr th:only-of-type {\n",
       "        vertical-align: middle;\n",
       "    }\n",
       "\n",
       "    .dataframe tbody tr th {\n",
       "        vertical-align: top;\n",
       "    }\n",
       "\n",
       "    .dataframe thead th {\n",
       "        text-align: right;\n",
       "    }\n",
       "</style>\n",
       "<table border=\"1\" class=\"dataframe\">\n",
       "  <thead>\n",
       "    <tr style=\"text-align: right;\">\n",
       "      <th></th>\n",
       "      <th>productId</th>\n",
       "      <th>productName</th>\n",
       "      <th>price</th>\n",
       "      <th>Category</th>\n",
       "    </tr>\n",
       "  </thead>\n",
       "  <tbody>\n",
       "    <tr>\n",
       "      <th>0</th>\n",
       "      <td>1</td>\n",
       "      <td>tropical fruit</td>\n",
       "      <td>7.8</td>\n",
       "      <td>Fresh Food</td>\n",
       "    </tr>\n",
       "    <tr>\n",
       "      <th>1</th>\n",
       "      <td>2</td>\n",
       "      <td>whole milk</td>\n",
       "      <td>1.8</td>\n",
       "      <td>Dairy</td>\n",
       "    </tr>\n",
       "    <tr>\n",
       "      <th>2</th>\n",
       "      <td>3</td>\n",
       "      <td>pip fruit</td>\n",
       "      <td>3.0</td>\n",
       "      <td>Fresh Food</td>\n",
       "    </tr>\n",
       "    <tr>\n",
       "      <th>3</th>\n",
       "      <td>4</td>\n",
       "      <td>other vegetables</td>\n",
       "      <td>0.8</td>\n",
       "      <td>Fresh Food</td>\n",
       "    </tr>\n",
       "    <tr>\n",
       "      <th>4</th>\n",
       "      <td>5</td>\n",
       "      <td>rolls/buns</td>\n",
       "      <td>1.2</td>\n",
       "      <td>Bakery &amp; Sweets</td>\n",
       "    </tr>\n",
       "  </tbody>\n",
       "</table>\n",
       "</div>"
      ],
      "text/plain": [
       "   productId       productName  price         Category\n",
       "0          1    tropical fruit    7.8       Fresh Food\n",
       "1          2        whole milk    1.8            Dairy\n",
       "2          3         pip fruit    3.0       Fresh Food\n",
       "3          4  other vegetables    0.8       Fresh Food\n",
       "4          5        rolls/buns    1.2  Bakery & Sweets"
      ]
     },
     "execution_count": 4,
     "metadata": {},
     "output_type": "execute_result"
    }
   ],
   "source": [
    "products.head(5)"
   ]
  },
  {
   "cell_type": "code",
   "execution_count": 5,
   "metadata": {},
   "outputs": [
    {
     "name": "stdout",
     "output_type": "stream",
     "text": [
      "<class 'pandas.core.frame.DataFrame'>\n",
      "RangeIndex: 38765 entries, 0 to 38764\n",
      "Data columns (total 4 columns):\n",
      " #   Column         Non-Null Count  Dtype \n",
      "---  ------         --------------  ----- \n",
      " 0   Member_number  38765 non-null  int64 \n",
      " 1   Date           38765 non-null  object\n",
      " 2   productId      38765 non-null  int64 \n",
      " 3   items          38765 non-null  int64 \n",
      "dtypes: int64(3), object(1)\n",
      "memory usage: 1.2+ MB\n"
     ]
    }
   ],
   "source": [
    "transactions.info()"
   ]
  },
  {
   "cell_type": "code",
   "execution_count": 6,
   "metadata": {},
   "outputs": [
    {
     "data": {
      "text/html": [
       "<div>\n",
       "<style scoped>\n",
       "    .dataframe tbody tr th:only-of-type {\n",
       "        vertical-align: middle;\n",
       "    }\n",
       "\n",
       "    .dataframe tbody tr th {\n",
       "        vertical-align: top;\n",
       "    }\n",
       "\n",
       "    .dataframe thead th {\n",
       "        text-align: right;\n",
       "    }\n",
       "</style>\n",
       "<table border=\"1\" class=\"dataframe\">\n",
       "  <thead>\n",
       "    <tr style=\"text-align: right;\">\n",
       "      <th></th>\n",
       "      <th>Member_number</th>\n",
       "      <th>Date</th>\n",
       "      <th>productId</th>\n",
       "      <th>items</th>\n",
       "    </tr>\n",
       "  </thead>\n",
       "  <tbody>\n",
       "    <tr>\n",
       "      <th>0</th>\n",
       "      <td>1808</td>\n",
       "      <td>21-07-2015</td>\n",
       "      <td>1</td>\n",
       "      <td>3</td>\n",
       "    </tr>\n",
       "    <tr>\n",
       "      <th>1</th>\n",
       "      <td>2552</td>\n",
       "      <td>05-01-2015</td>\n",
       "      <td>2</td>\n",
       "      <td>1</td>\n",
       "    </tr>\n",
       "    <tr>\n",
       "      <th>2</th>\n",
       "      <td>2300</td>\n",
       "      <td>19-09-2015</td>\n",
       "      <td>3</td>\n",
       "      <td>3</td>\n",
       "    </tr>\n",
       "    <tr>\n",
       "      <th>3</th>\n",
       "      <td>1187</td>\n",
       "      <td>12-12-2015</td>\n",
       "      <td>4</td>\n",
       "      <td>3</td>\n",
       "    </tr>\n",
       "    <tr>\n",
       "      <th>4</th>\n",
       "      <td>3037</td>\n",
       "      <td>01-02-2015</td>\n",
       "      <td>2</td>\n",
       "      <td>1</td>\n",
       "    </tr>\n",
       "  </tbody>\n",
       "</table>\n",
       "</div>"
      ],
      "text/plain": [
       "   Member_number        Date  productId  items\n",
       "0           1808  21-07-2015          1      3\n",
       "1           2552  05-01-2015          2      1\n",
       "2           2300  19-09-2015          3      3\n",
       "3           1187  12-12-2015          4      3\n",
       "4           3037  01-02-2015          2      1"
      ]
     },
     "execution_count": 6,
     "metadata": {},
     "output_type": "execute_result"
    }
   ],
   "source": [
    "transactions.head(5)"
   ]
  },
  {
   "cell_type": "markdown",
   "metadata": {},
   "source": [
    "Data Pre-processing"
   ]
  },
  {
   "cell_type": "code",
   "execution_count": 7,
   "metadata": {},
   "outputs": [],
   "source": [
    "string_to_date = lambda x : datetime.strptime(x, \"%d-%m-%Y\").date()\n",
    "transactions['Date'] = transactions['Date'].apply(string_to_date)\n",
    "transactions['Date'] = transactions['Date'].astype('datetime64[ns]')"
   ]
  },
  {
   "cell_type": "code",
   "execution_count": 8,
   "metadata": {},
   "outputs": [
    {
     "data": {
      "text/plain": [
       "Member_number    0\n",
       "Date             0\n",
       "productId        0\n",
       "items            0\n",
       "dtype: int64"
      ]
     },
     "execution_count": 8,
     "metadata": {},
     "output_type": "execute_result"
    }
   ],
   "source": [
    "transactions.isnull().sum()"
   ]
  },
  {
   "cell_type": "code",
   "execution_count": 9,
   "metadata": {},
   "outputs": [
    {
     "data": {
      "text/plain": [
       "productId      0\n",
       "productName    0\n",
       "price          0\n",
       "Category       0\n",
       "dtype: int64"
      ]
     },
     "execution_count": 9,
     "metadata": {},
     "output_type": "execute_result"
    }
   ],
   "source": [
    "products.isnull().sum()"
   ]
  },
  {
   "cell_type": "code",
   "execution_count": 10,
   "metadata": {},
   "outputs": [
    {
     "data": {
      "text/plain": [
       "Member_number    0\n",
       "Date             0\n",
       "productId        0\n",
       "items            0\n",
       "dtype: int64"
      ]
     },
     "execution_count": 10,
     "metadata": {},
     "output_type": "execute_result"
    }
   ],
   "source": [
    "transactions.isna().sum()"
   ]
  },
  {
   "cell_type": "code",
   "execution_count": 11,
   "metadata": {},
   "outputs": [
    {
     "data": {
      "text/plain": [
       "productId      0\n",
       "productName    0\n",
       "price          0\n",
       "Category       0\n",
       "dtype: int64"
      ]
     },
     "execution_count": 11,
     "metadata": {},
     "output_type": "execute_result"
    }
   ],
   "source": [
    "products.isna().sum()"
   ]
  },
  {
   "cell_type": "code",
   "execution_count": 12,
   "metadata": {},
   "outputs": [],
   "source": [
    "df = transactions.merge(products, on='productId', how='left')"
   ]
  },
  {
   "cell_type": "code",
   "execution_count": 13,
   "metadata": {},
   "outputs": [
    {
     "data": {
      "text/html": [
       "<div>\n",
       "<style scoped>\n",
       "    .dataframe tbody tr th:only-of-type {\n",
       "        vertical-align: middle;\n",
       "    }\n",
       "\n",
       "    .dataframe tbody tr th {\n",
       "        vertical-align: top;\n",
       "    }\n",
       "\n",
       "    .dataframe thead th {\n",
       "        text-align: right;\n",
       "    }\n",
       "</style>\n",
       "<table border=\"1\" class=\"dataframe\">\n",
       "  <thead>\n",
       "    <tr style=\"text-align: right;\">\n",
       "      <th></th>\n",
       "      <th>Member_number</th>\n",
       "      <th>Date</th>\n",
       "      <th>productId</th>\n",
       "      <th>items</th>\n",
       "      <th>productName</th>\n",
       "      <th>price</th>\n",
       "      <th>Category</th>\n",
       "    </tr>\n",
       "  </thead>\n",
       "  <tbody>\n",
       "    <tr>\n",
       "      <th>0</th>\n",
       "      <td>1808</td>\n",
       "      <td>2015-07-21</td>\n",
       "      <td>1</td>\n",
       "      <td>3</td>\n",
       "      <td>tropical fruit</td>\n",
       "      <td>7.8</td>\n",
       "      <td>Fresh Food</td>\n",
       "    </tr>\n",
       "    <tr>\n",
       "      <th>1</th>\n",
       "      <td>2552</td>\n",
       "      <td>2015-01-05</td>\n",
       "      <td>2</td>\n",
       "      <td>1</td>\n",
       "      <td>whole milk</td>\n",
       "      <td>1.8</td>\n",
       "      <td>Dairy</td>\n",
       "    </tr>\n",
       "    <tr>\n",
       "      <th>2</th>\n",
       "      <td>2300</td>\n",
       "      <td>2015-09-19</td>\n",
       "      <td>3</td>\n",
       "      <td>3</td>\n",
       "      <td>pip fruit</td>\n",
       "      <td>3.0</td>\n",
       "      <td>Fresh Food</td>\n",
       "    </tr>\n",
       "    <tr>\n",
       "      <th>3</th>\n",
       "      <td>1187</td>\n",
       "      <td>2015-12-12</td>\n",
       "      <td>4</td>\n",
       "      <td>3</td>\n",
       "      <td>other vegetables</td>\n",
       "      <td>0.8</td>\n",
       "      <td>Fresh Food</td>\n",
       "    </tr>\n",
       "    <tr>\n",
       "      <th>4</th>\n",
       "      <td>3037</td>\n",
       "      <td>2015-02-01</td>\n",
       "      <td>2</td>\n",
       "      <td>1</td>\n",
       "      <td>whole milk</td>\n",
       "      <td>1.8</td>\n",
       "      <td>Dairy</td>\n",
       "    </tr>\n",
       "  </tbody>\n",
       "</table>\n",
       "</div>"
      ],
      "text/plain": [
       "   Member_number       Date  productId  items       productName  price  \\\n",
       "0           1808 2015-07-21          1      3    tropical fruit    7.8   \n",
       "1           2552 2015-01-05          2      1        whole milk    1.8   \n",
       "2           2300 2015-09-19          3      3         pip fruit    3.0   \n",
       "3           1187 2015-12-12          4      3  other vegetables    0.8   \n",
       "4           3037 2015-02-01          2      1        whole milk    1.8   \n",
       "\n",
       "     Category  \n",
       "0  Fresh Food  \n",
       "1       Dairy  \n",
       "2  Fresh Food  \n",
       "3  Fresh Food  \n",
       "4       Dairy  "
      ]
     },
     "execution_count": 13,
     "metadata": {},
     "output_type": "execute_result"
    }
   ],
   "source": [
    "df.head(5)"
   ]
  },
  {
   "cell_type": "code",
   "execution_count": 14,
   "metadata": {},
   "outputs": [],
   "source": [
    "df['total_sales'] = df['items'] * df['price']"
   ]
  },
  {
   "cell_type": "code",
   "execution_count": 15,
   "metadata": {},
   "outputs": [],
   "source": [
    "df['transaction_id'] = range(1,len(df)+1)"
   ]
  },
  {
   "cell_type": "code",
   "execution_count": 16,
   "metadata": {},
   "outputs": [
    {
     "name": "stdout",
     "output_type": "stream",
     "text": [
      "<class 'pandas.core.frame.DataFrame'>\n",
      "Int64Index: 38765 entries, 0 to 38764\n",
      "Data columns (total 9 columns):\n",
      " #   Column          Non-Null Count  Dtype         \n",
      "---  ------          --------------  -----         \n",
      " 0   Member_number   38765 non-null  int64         \n",
      " 1   Date            38765 non-null  datetime64[ns]\n",
      " 2   productId       38765 non-null  int64         \n",
      " 3   items           38765 non-null  int64         \n",
      " 4   productName     38765 non-null  object        \n",
      " 5   price           38765 non-null  float64       \n",
      " 6   Category        38765 non-null  object        \n",
      " 7   total_sales     38765 non-null  float64       \n",
      " 8   transaction_id  38765 non-null  int64         \n",
      "dtypes: datetime64[ns](1), float64(2), int64(4), object(2)\n",
      "memory usage: 3.0+ MB\n"
     ]
    }
   ],
   "source": [
    "df.info()"
   ]
  },
  {
   "cell_type": "code",
   "execution_count": 17,
   "metadata": {},
   "outputs": [
    {
     "name": "stdout",
     "output_type": "stream",
     "text": [
      "3,898 unique member_number\n",
      "Transactions timeframe from 2014-01-01 00:00:00 to 2015-12-30 00:00:00\n"
     ]
    }
   ],
   "source": [
    "print('{:,} unique member_number'.format(transactions['Member_number'].nunique()))\n",
    "print('Transactions timeframe from {} to {}'.format(transactions['Date'].min(), transactions['Date'].max()))"
   ]
  },
  {
   "cell_type": "code",
   "execution_count": 18,
   "metadata": {},
   "outputs": [
    {
     "data": {
      "text/plain": [
       "Member_number     False\n",
       "Date              False\n",
       "productId         False\n",
       "items             False\n",
       "productName       False\n",
       "price             False\n",
       "Category          False\n",
       "total_sales       False\n",
       "transaction_id    False\n",
       "dtype: bool"
      ]
     },
     "execution_count": 18,
     "metadata": {},
     "output_type": "execute_result"
    }
   ],
   "source": [
    "df.where(df['price']<0).any()"
   ]
  },
  {
   "cell_type": "code",
   "execution_count": 19,
   "metadata": {},
   "outputs": [
    {
     "data": {
      "text/plain": [
       "Member_number     False\n",
       "Date              False\n",
       "productId         False\n",
       "items             False\n",
       "productName       False\n",
       "price             False\n",
       "Category          False\n",
       "total_sales       False\n",
       "transaction_id    False\n",
       "dtype: bool"
      ]
     },
     "execution_count": 19,
     "metadata": {},
     "output_type": "execute_result"
    }
   ],
   "source": [
    "df.where(df['items']<=0).any()"
   ]
  },
  {
   "cell_type": "markdown",
   "metadata": {},
   "source": [
    "RFM"
   ]
  },
  {
   "cell_type": "code",
   "execution_count": 20,
   "metadata": {},
   "outputs": [],
   "source": [
    "max_date = df['Date'].max().date()\n",
    "\n",
    "Recency = Recency = lambda x : (max_date - x.max().date()).days\n",
    "Frequency  = lambda x: len(x.unique())\n",
    "Monetary = lambda x: sum(x)\n",
    "\n",
    "df_RFM = df.groupby('Member_number').agg({'Date':Recency,\n",
    "                                          'transaction_id': Frequency,\n",
    "                                          'total_sales':Monetary})\n"
   ]
  },
  {
   "cell_type": "code",
   "execution_count": 21,
   "metadata": {},
   "outputs": [
    {
     "data": {
      "text/html": [
       "<div>\n",
       "<style scoped>\n",
       "    .dataframe tbody tr th:only-of-type {\n",
       "        vertical-align: middle;\n",
       "    }\n",
       "\n",
       "    .dataframe tbody tr th {\n",
       "        vertical-align: top;\n",
       "    }\n",
       "\n",
       "    .dataframe thead th {\n",
       "        text-align: right;\n",
       "    }\n",
       "</style>\n",
       "<table border=\"1\" class=\"dataframe\">\n",
       "  <thead>\n",
       "    <tr style=\"text-align: right;\">\n",
       "      <th></th>\n",
       "      <th>Date</th>\n",
       "      <th>transaction_id</th>\n",
       "      <th>total_sales</th>\n",
       "    </tr>\n",
       "    <tr>\n",
       "      <th>Member_number</th>\n",
       "      <th></th>\n",
       "      <th></th>\n",
       "      <th></th>\n",
       "    </tr>\n",
       "  </thead>\n",
       "  <tbody>\n",
       "    <tr>\n",
       "      <th>1000</th>\n",
       "      <td>35</td>\n",
       "      <td>13</td>\n",
       "      <td>53.80</td>\n",
       "    </tr>\n",
       "    <tr>\n",
       "      <th>1001</th>\n",
       "      <td>242</td>\n",
       "      <td>12</td>\n",
       "      <td>100.00</td>\n",
       "    </tr>\n",
       "    <tr>\n",
       "      <th>1002</th>\n",
       "      <td>122</td>\n",
       "      <td>8</td>\n",
       "      <td>70.30</td>\n",
       "    </tr>\n",
       "    <tr>\n",
       "      <th>1003</th>\n",
       "      <td>323</td>\n",
       "      <td>8</td>\n",
       "      <td>60.65</td>\n",
       "    </tr>\n",
       "    <tr>\n",
       "      <th>1004</th>\n",
       "      <td>28</td>\n",
       "      <td>21</td>\n",
       "      <td>204.96</td>\n",
       "    </tr>\n",
       "  </tbody>\n",
       "</table>\n",
       "</div>"
      ],
      "text/plain": [
       "               Date  transaction_id  total_sales\n",
       "Member_number                                   \n",
       "1000             35              13        53.80\n",
       "1001            242              12       100.00\n",
       "1002            122               8        70.30\n",
       "1003            323               8        60.65\n",
       "1004             28              21       204.96"
      ]
     },
     "execution_count": 21,
     "metadata": {},
     "output_type": "execute_result"
    }
   ],
   "source": [
    "df_RFM.head()"
   ]
  },
  {
   "cell_type": "code",
   "execution_count": 22,
   "metadata": {},
   "outputs": [],
   "source": [
    "df_RFM.columns = ['Recency', 'Frequency', 'Monetary']"
   ]
  },
  {
   "cell_type": "code",
   "execution_count": 23,
   "metadata": {},
   "outputs": [
    {
     "data": {
      "image/png": "[encoded data removed]",
      "text/plain": [
       "<Figure size 640x480 with 3 Axes>"
      ]
     },
     "metadata": {},
     "output_type": "display_data"
    }
   ],
   "source": [
    "# Vẽ phân phối của 'Recency'\n",
    "plt.subplot(3, 1, 1) # 3 hàng, 1 cột, vị trí thứ nhất\n",
    "plt.hist(df_RFM['Recency'], bins=20, edgecolor='black') # Chọn số lượng bins phù hợp\n",
    "plt.title('Distribution of Recency')\n",
    "plt.xlabel('Recency')\n",
    "\n",
    "# Vẽ phân phối của 'Frequency'\n",
    "plt.subplot(3, 1, 2) # 3 hàng, 1 cột, vị trí thứ hai\n",
    "plt.hist(df_RFM['Frequency'], bins=20, edgecolor='black') # Chọn số lượng bins phù hợp\n",
    "plt.title('Distribution of Frequency')\n",
    "plt.xlabel('Frequency')\n",
    "\n",
    "# Vẽ phân phối của 'Monetary'\n",
    "plt.subplot(3, 1, 3) # 3 hàng, 1 cột, vị trí thứ ba\n",
    "plt.hist(df_RFM['Monetary'], bins=20, edgecolor='black') # Chọn số lượng bins phù hợp\n",
    "plt.title('Distribution of Monetary')\n",
    "plt.xlabel('Monetary')\n",
    "\n",
    "plt.tight_layout()\n",
    "plt.show()"
   ]
  },
  {
   "cell_type": "markdown",
   "metadata": {},
   "source": [
    "Cả 3 Recency, Frequency and Monetary đều right skew và không phải normal distribution --> Log transfomation để giảm skewness"
   ]
  },
  {
   "cell_type": "code",
   "execution_count": 24,
   "metadata": {},
   "outputs": [],
   "source": [
    "df_log_transformed = df_RFM.apply(lambda x: np.log1p(x) if x.name in ['Recency', 'Frequency', 'Monetary'] else x)"
   ]
  },
  {
   "cell_type": "code",
   "execution_count": 25,
   "metadata": {},
   "outputs": [
    {
     "data": {
      "image/png": "[encoded data removed]",
      "text/plain": [
       "<Figure size 640x480 with 3 Axes>"
      ]
     },
     "metadata": {},
     "output_type": "display_data"
    }
   ],
   "source": [
    "# Vẽ phân phối của 'Recency'\n",
    "plt.subplot(3, 1, 1) # 3 hàng, 1 cột, vị trí thứ nhất\n",
    "plt.boxplot(df_RFM['Recency']) # Chọn số lượng bins phù hợp\n",
    "plt.title('Boxplot of Recency')\n",
    "plt.xlabel('Recency')\n",
    "\n",
    "# Vẽ phân phối của 'Frequency'\n",
    "plt.subplot(3, 1, 2) # 3 hàng, 1 cột, vị trí thứ hai\n",
    "plt.boxplot(df_RFM['Frequency']) # Chọn số lượng bins phù hợp\n",
    "plt.title('Boxplot of Frequency')\n",
    "plt.xlabel('Frequency')\n",
    "\n",
    "# Vẽ phân phối của 'Monetary'\n",
    "plt.subplot(3, 1, 3) # 3 hàng, 1 cột, vị trí thứ ba\n",
    "plt.boxplot(df_RFM['Monetary']) # Chọn số lượng bins phù hợp\n",
    "plt.title('Boxplot of Monetary')\n",
    "plt.xlabel('Monetary')\n",
    "\n",
    "plt.tight_layout()\n",
    "plt.show()"
   ]
  },
  {
   "cell_type": "markdown",
   "metadata": {},
   "source": [
    "Cả 3 Recency, Frequency and Monetary đều có nhiều upper outliers --> Robust Scaler để giảm ảnh hưởng của outliers"
   ]
  },
  {
   "cell_type": "code",
   "execution_count": 26,
   "metadata": {},
   "outputs": [],
   "source": [
    "from sklearn.preprocessing import RobustScaler\n",
    "robust = RobustScaler()\n",
    "df_scaled = pd.DataFrame(robust.fit_transform(df_log_transformed[['Recency', 'Frequency', 'Monetary']]), \n",
    "                         columns=['Recency_scaled', 'Frequency_scaled', 'Monetary_scaled'], \n",
    "                         index=df_RFM.index)"
   ]
  },
  {
   "cell_type": "code",
   "execution_count": 27,
   "metadata": {},
   "outputs": [
    {
     "data": {
      "image/png": "[encoded data removed]",
      "text/plain": [
       "<Figure size 640x480 with 3 Axes>"
      ]
     },
     "metadata": {},
     "output_type": "display_data"
    }
   ],
   "source": [
    "# Vẽ phân phối của 'Recency'\n",
    "plt.subplot(3, 1, 1) # 3 hàng, 1 cột, vị trí thứ nhất\n",
    "plt.hist(df_scaled['Recency_scaled'], bins=20, edgecolor='black') # Chọn số lượng bins phù hợp\n",
    "plt.title('Distribution of Recency')\n",
    "plt.xlabel('Recency')\n",
    "\n",
    "# Vẽ phân phối của 'Frequency'\n",
    "plt.subplot(3, 1, 2) # 3 hàng, 1 cột, vị trí thứ hai\n",
    "plt.hist(df_scaled['Frequency_scaled'], bins=20, edgecolor='black') # Chọn số lượng bins phù hợp\n",
    "plt.title('Distribution of Frequency')\n",
    "plt.xlabel('Frequency')\n",
    "\n",
    "# Vẽ phân phối của 'Monetary'\n",
    "plt.subplot(3, 1, 3) # 3 hàng, 1 cột, vị trí thứ ba\n",
    "plt.hist(df_scaled['Monetary_scaled'], bins=20, edgecolor='black') # Chọn số lượng bins phù hợp\n",
    "plt.title('Distribution of Monetary')\n",
    "plt.xlabel('Monetary')\n",
    "\n",
    "plt.tight_layout()\n",
    "plt.show()"
   ]
  },
  {
   "cell_type": "code",
   "execution_count": 28,
   "metadata": {},
   "outputs": [
    {
     "data": {
      "image/png": "[encoded data removed]",
      "text/plain": [
       "<Figure size 640x480 with 3 Axes>"
      ]
     },
     "metadata": {},
     "output_type": "display_data"
    }
   ],
   "source": [
    "# Vẽ phân phối của 'Recency'\n",
    "plt.subplot(3, 1, 1) # 3 hàng, 1 cột, vị trí thứ nhất\n",
    "plt.boxplot(df_scaled['Recency_scaled']) # Chọn số lượng bins phù hợp\n",
    "plt.title('Boxplot of Recency')\n",
    "plt.xlabel('Recency')\n",
    "\n",
    "# Vẽ phân phối của 'Frequency'\n",
    "plt.subplot(3, 1, 2) # 3 hàng, 1 cột, vị trí thứ hai\n",
    "plt.boxplot(df_scaled['Frequency_scaled']) # Chọn số lượng bins phù hợp\n",
    "plt.title('Boxplot of Frequency')\n",
    "plt.xlabel('Frequency')\n",
    "\n",
    "# Vẽ phân phối của 'Monetary'\n",
    "plt.subplot(3, 1, 3) # 3 hàng, 1 cột, vị trí thứ ba\n",
    "plt.boxplot(df_scaled['Monetary_scaled']) # Chọn số lượng bins phù hợp\n",
    "plt.title('Boxplot of Monetary')\n",
    "plt.xlabel('Monetary')\n",
    "\n",
    "plt.tight_layout()\n",
    "plt.show()"
   ]
  },
  {
   "cell_type": "markdown",
   "metadata": {},
   "source": [
    "Calculate RFM quartiles"
   ]
  },
  {
   "cell_type": "code",
   "execution_count": 29,
   "metadata": {},
   "outputs": [],
   "source": [
    "r_labels = range(4, 0, -1)\n",
    "f_labels = range(1, 5)\n",
    "m_labels = range(1, 5)"
   ]
  },
  {
   "cell_type": "code",
   "execution_count": 30,
   "metadata": {},
   "outputs": [],
   "source": [
    "r_groups = pd.qcut(df_RFM['Recency'].rank(method='first'), q=4, labels=r_labels)\n",
    "\n",
    "f_groups = pd.qcut(df_RFM['Frequency'].rank(method='first'), q=4, labels=f_labels)\n",
    "\n",
    "m_groups = pd.qcut(df_RFM['Monetary'].rank(method='first'), q=4, labels=m_labels)"
   ]
  },
  {
   "cell_type": "code",
   "execution_count": 31,
   "metadata": {},
   "outputs": [
    {
     "data": {
      "text/html": [
       "<div>\n",
       "<style scoped>\n",
       "    .dataframe tbody tr th:only-of-type {\n",
       "        vertical-align: middle;\n",
       "    }\n",
       "\n",
       "    .dataframe tbody tr th {\n",
       "        vertical-align: top;\n",
       "    }\n",
       "\n",
       "    .dataframe thead th {\n",
       "        text-align: right;\n",
       "    }\n",
       "</style>\n",
       "<table border=\"1\" class=\"dataframe\">\n",
       "  <thead>\n",
       "    <tr style=\"text-align: right;\">\n",
       "      <th></th>\n",
       "      <th>Recency</th>\n",
       "      <th>Frequency</th>\n",
       "      <th>Monetary</th>\n",
       "      <th>R</th>\n",
       "      <th>F</th>\n",
       "      <th>M</th>\n",
       "    </tr>\n",
       "    <tr>\n",
       "      <th>Member_number</th>\n",
       "      <th></th>\n",
       "      <th></th>\n",
       "      <th></th>\n",
       "      <th></th>\n",
       "      <th></th>\n",
       "      <th></th>\n",
       "    </tr>\n",
       "  </thead>\n",
       "  <tbody>\n",
       "    <tr>\n",
       "      <th>1000</th>\n",
       "      <td>35</td>\n",
       "      <td>13</td>\n",
       "      <td>53.80</td>\n",
       "      <td>4</td>\n",
       "      <td>3</td>\n",
       "      <td>2</td>\n",
       "    </tr>\n",
       "    <tr>\n",
       "      <th>1001</th>\n",
       "      <td>242</td>\n",
       "      <td>12</td>\n",
       "      <td>100.00</td>\n",
       "      <td>2</td>\n",
       "      <td>3</td>\n",
       "      <td>3</td>\n",
       "    </tr>\n",
       "    <tr>\n",
       "      <th>1002</th>\n",
       "      <td>122</td>\n",
       "      <td>8</td>\n",
       "      <td>70.30</td>\n",
       "      <td>3</td>\n",
       "      <td>2</td>\n",
       "      <td>2</td>\n",
       "    </tr>\n",
       "    <tr>\n",
       "      <th>1003</th>\n",
       "      <td>323</td>\n",
       "      <td>8</td>\n",
       "      <td>60.65</td>\n",
       "      <td>1</td>\n",
       "      <td>2</td>\n",
       "      <td>2</td>\n",
       "    </tr>\n",
       "    <tr>\n",
       "      <th>1004</th>\n",
       "      <td>28</td>\n",
       "      <td>21</td>\n",
       "      <td>204.96</td>\n",
       "      <td>4</td>\n",
       "      <td>4</td>\n",
       "      <td>4</td>\n",
       "    </tr>\n",
       "  </tbody>\n",
       "</table>\n",
       "</div>"
      ],
      "text/plain": [
       "               Recency  Frequency  Monetary  R  F  M\n",
       "Member_number                                       \n",
       "1000                35         13     53.80  4  3  2\n",
       "1001               242         12    100.00  2  3  3\n",
       "1002               122          8     70.30  3  2  2\n",
       "1003               323          8     60.65  1  2  2\n",
       "1004                28         21    204.96  4  4  4"
      ]
     },
     "execution_count": 31,
     "metadata": {},
     "output_type": "execute_result"
    }
   ],
   "source": [
    "df_RFM = df_RFM.assign(R = r_groups.values, F = f_groups.values,  M = m_groups.values)\n",
    "df_RFM.head()"
   ]
  },
  {
   "cell_type": "markdown",
   "metadata": {},
   "source": [
    "Concat RFM quartile values to create RFM Segments"
   ]
  },
  {
   "cell_type": "code",
   "execution_count": 32,
   "metadata": {},
   "outputs": [],
   "source": [
    "def join_rfm(x): return str(int(x['R'])) + str(int(x['F'])) + str(int(x['M']))\n",
    "df_RFM['RFM_Segment'] = df_RFM.apply(join_rfm, axis=1)"
   ]
  },
  {
   "cell_type": "code",
   "execution_count": 33,
   "metadata": {},
   "outputs": [
    {
     "data": {
      "text/html": [
       "<div>\n",
       "<style scoped>\n",
       "    .dataframe tbody tr th:only-of-type {\n",
       "        vertical-align: middle;\n",
       "    }\n",
       "\n",
       "    .dataframe tbody tr th {\n",
       "        vertical-align: top;\n",
       "    }\n",
       "\n",
       "    .dataframe thead th {\n",
       "        text-align: right;\n",
       "    }\n",
       "</style>\n",
       "<table border=\"1\" class=\"dataframe\">\n",
       "  <thead>\n",
       "    <tr style=\"text-align: right;\">\n",
       "      <th></th>\n",
       "      <th>Recency</th>\n",
       "      <th>Frequency</th>\n",
       "      <th>Monetary</th>\n",
       "      <th>R</th>\n",
       "      <th>F</th>\n",
       "      <th>M</th>\n",
       "      <th>RFM_Segment</th>\n",
       "    </tr>\n",
       "    <tr>\n",
       "      <th>Member_number</th>\n",
       "      <th></th>\n",
       "      <th></th>\n",
       "      <th></th>\n",
       "      <th></th>\n",
       "      <th></th>\n",
       "      <th></th>\n",
       "      <th></th>\n",
       "    </tr>\n",
       "  </thead>\n",
       "  <tbody>\n",
       "    <tr>\n",
       "      <th>1000</th>\n",
       "      <td>35</td>\n",
       "      <td>13</td>\n",
       "      <td>53.80</td>\n",
       "      <td>4</td>\n",
       "      <td>3</td>\n",
       "      <td>2</td>\n",
       "      <td>432</td>\n",
       "    </tr>\n",
       "    <tr>\n",
       "      <th>1001</th>\n",
       "      <td>242</td>\n",
       "      <td>12</td>\n",
       "      <td>100.00</td>\n",
       "      <td>2</td>\n",
       "      <td>3</td>\n",
       "      <td>3</td>\n",
       "      <td>233</td>\n",
       "    </tr>\n",
       "    <tr>\n",
       "      <th>1002</th>\n",
       "      <td>122</td>\n",
       "      <td>8</td>\n",
       "      <td>70.30</td>\n",
       "      <td>3</td>\n",
       "      <td>2</td>\n",
       "      <td>2</td>\n",
       "      <td>322</td>\n",
       "    </tr>\n",
       "    <tr>\n",
       "      <th>1003</th>\n",
       "      <td>323</td>\n",
       "      <td>8</td>\n",
       "      <td>60.65</td>\n",
       "      <td>1</td>\n",
       "      <td>2</td>\n",
       "      <td>2</td>\n",
       "      <td>122</td>\n",
       "    </tr>\n",
       "    <tr>\n",
       "      <th>1004</th>\n",
       "      <td>28</td>\n",
       "      <td>21</td>\n",
       "      <td>204.96</td>\n",
       "      <td>4</td>\n",
       "      <td>4</td>\n",
       "      <td>4</td>\n",
       "      <td>444</td>\n",
       "    </tr>\n",
       "  </tbody>\n",
       "</table>\n",
       "</div>"
      ],
      "text/plain": [
       "               Recency  Frequency  Monetary  R  F  M RFM_Segment\n",
       "Member_number                                                   \n",
       "1000                35         13     53.80  4  3  2         432\n",
       "1001               242         12    100.00  2  3  3         233\n",
       "1002               122          8     70.30  3  2  2         322\n",
       "1003               323          8     60.65  1  2  2         122\n",
       "1004                28         21    204.96  4  4  4         444"
      ]
     },
     "execution_count": 33,
     "metadata": {},
     "output_type": "execute_result"
    }
   ],
   "source": [
    "df_RFM.head()"
   ]
  },
  {
   "cell_type": "code",
   "execution_count": 34,
   "metadata": {},
   "outputs": [
    {
     "data": {
      "text/plain": [
       "57"
      ]
     },
     "execution_count": 34,
     "metadata": {},
     "output_type": "execute_result"
    }
   ],
   "source": [
    "df_RFM.groupby('RFM_Segment')['RFM_Segment'].nunique().count()"
   ]
  },
  {
   "cell_type": "markdown",
   "metadata": {},
   "source": [
    "Manual Segmentation"
   ]
  },
  {
   "cell_type": "code",
   "execution_count": 35,
   "metadata": {},
   "outputs": [],
   "source": [
    "def assign_segment(df):\n",
    "    # 1. Khách hàng VIP (giá trị nhất)\n",
    "    if df['R'] in [3, 4] and df['F'] in [3, 4] and df['M'] in [3, 4]:\n",
    "        return 'VIP Customers'\n",
    "    \n",
    "    # 2. Khách hàng trung thành\n",
    "    elif df['R'] in [2, 3] and df['F'] in [3, 4] and df['M'] in [2, 3]:\n",
    "        return 'Loyal Customers'\n",
    "    \n",
    "    # 3. Khách hàng mới\n",
    "    elif df['R'] == 4 and df['F'] == 1 and df['M'] in [1, 2]:\n",
    "        return 'New Customers'\n",
    "    \n",
    "    # 4. Khách hàng có nguy cơ rời bỏ\n",
    "    elif df['R'] in [1, 2] and df['F'] in [1, 2] and df['M'] in [2, 3]:\n",
    "        return 'At Risk Customers'\n",
    "    \n",
    "    # 5. Khách hàng đã rời bỏ\n",
    "    elif df['R'] == 1 and df['F'] in [1, 2] and df['M'] in [1, 2]:\n",
    "        return 'Churned Customers'\n",
    "    \n",
    "    # 6. Nhóm còn lại: Khách hàng bình thường\n",
    "    else:\n",
    "        return 'Regular Customers'\n",
    "\n",
    "# Áp dụng vào DataFrame\n",
    "df_RFM['Customer_Segment'] = df_RFM.apply(assign_segment, axis=1)\n"
   ]
  },
  {
   "cell_type": "code",
   "execution_count": 36,
   "metadata": {},
   "outputs": [
    {
     "data": {
      "text/html": [
       "<div>\n",
       "<style scoped>\n",
       "    .dataframe tbody tr th:only-of-type {\n",
       "        vertical-align: middle;\n",
       "    }\n",
       "\n",
       "    .dataframe tbody tr th {\n",
       "        vertical-align: top;\n",
       "    }\n",
       "\n",
       "    .dataframe thead th {\n",
       "        text-align: right;\n",
       "    }\n",
       "</style>\n",
       "<table border=\"1\" class=\"dataframe\">\n",
       "  <thead>\n",
       "    <tr style=\"text-align: right;\">\n",
       "      <th></th>\n",
       "      <th>Recency</th>\n",
       "      <th>Frequency</th>\n",
       "      <th>Monetary</th>\n",
       "      <th>R</th>\n",
       "      <th>F</th>\n",
       "      <th>M</th>\n",
       "      <th>RFM_Segment</th>\n",
       "      <th>Customer_Segment</th>\n",
       "    </tr>\n",
       "    <tr>\n",
       "      <th>Member_number</th>\n",
       "      <th></th>\n",
       "      <th></th>\n",
       "      <th></th>\n",
       "      <th></th>\n",
       "      <th></th>\n",
       "      <th></th>\n",
       "      <th></th>\n",
       "      <th></th>\n",
       "    </tr>\n",
       "  </thead>\n",
       "  <tbody>\n",
       "    <tr>\n",
       "      <th>1000</th>\n",
       "      <td>35</td>\n",
       "      <td>13</td>\n",
       "      <td>53.80</td>\n",
       "      <td>4</td>\n",
       "      <td>3</td>\n",
       "      <td>2</td>\n",
       "      <td>432</td>\n",
       "      <td>Regular Customers</td>\n",
       "    </tr>\n",
       "    <tr>\n",
       "      <th>1001</th>\n",
       "      <td>242</td>\n",
       "      <td>12</td>\n",
       "      <td>100.00</td>\n",
       "      <td>2</td>\n",
       "      <td>3</td>\n",
       "      <td>3</td>\n",
       "      <td>233</td>\n",
       "      <td>Loyal Customers</td>\n",
       "    </tr>\n",
       "    <tr>\n",
       "      <th>1002</th>\n",
       "      <td>122</td>\n",
       "      <td>8</td>\n",
       "      <td>70.30</td>\n",
       "      <td>3</td>\n",
       "      <td>2</td>\n",
       "      <td>2</td>\n",
       "      <td>322</td>\n",
       "      <td>Regular Customers</td>\n",
       "    </tr>\n",
       "    <tr>\n",
       "      <th>1003</th>\n",
       "      <td>323</td>\n",
       "      <td>8</td>\n",
       "      <td>60.65</td>\n",
       "      <td>1</td>\n",
       "      <td>2</td>\n",
       "      <td>2</td>\n",
       "      <td>122</td>\n",
       "      <td>At Risk Customers</td>\n",
       "    </tr>\n",
       "    <tr>\n",
       "      <th>1004</th>\n",
       "      <td>28</td>\n",
       "      <td>21</td>\n",
       "      <td>204.96</td>\n",
       "      <td>4</td>\n",
       "      <td>4</td>\n",
       "      <td>4</td>\n",
       "      <td>444</td>\n",
       "      <td>VIP Customers</td>\n",
       "    </tr>\n",
       "  </tbody>\n",
       "</table>\n",
       "</div>"
      ],
      "text/plain": [
       "               Recency  Frequency  Monetary  R  F  M RFM_Segment  \\\n",
       "Member_number                                                      \n",
       "1000                35         13     53.80  4  3  2         432   \n",
       "1001               242         12    100.00  2  3  3         233   \n",
       "1002               122          8     70.30  3  2  2         322   \n",
       "1003               323          8     60.65  1  2  2         122   \n",
       "1004                28         21    204.96  4  4  4         444   \n",
       "\n",
       "                Customer_Segment  \n",
       "Member_number                     \n",
       "1000           Regular Customers  \n",
       "1001             Loyal Customers  \n",
       "1002           Regular Customers  \n",
       "1003           At Risk Customers  \n",
       "1004               VIP Customers  "
      ]
     },
     "execution_count": 36,
     "metadata": {},
     "output_type": "execute_result"
    }
   ],
   "source": [
    "df_RFM.head()"
   ]
  },
  {
   "cell_type": "markdown",
   "metadata": {},
   "source": [
    "Number of segments"
   ]
  },
  {
   "cell_type": "code",
   "execution_count": 37,
   "metadata": {},
   "outputs": [
    {
     "data": {
      "text/plain": [
       "Regular Customers    1352\n",
       "VIP Customers        1071\n",
       "At Risk Customers     563\n",
       "Churned Customers     453\n",
       "Loyal Customers       369\n",
       "New Customers          90\n",
       "Name: Customer_Segment, dtype: int64"
      ]
     },
     "execution_count": 37,
     "metadata": {},
     "output_type": "execute_result"
    }
   ],
   "source": [
    "df_RFM['Customer_Segment'].value_counts()"
   ]
  },
  {
   "cell_type": "markdown",
   "metadata": {},
   "source": [
    "Calculate mean values for each segment"
   ]
  },
  {
   "cell_type": "code",
   "execution_count": 38,
   "metadata": {},
   "outputs": [],
   "source": [
    "# Calculate average values for each RFM_Level, and return a size of each segment\n",
    "rfm_agg = df_RFM.groupby('Customer_Segment').agg({\n",
    "    'Recency': 'mean',\n",
    "    'Frequency': 'mean',\n",
    "    'Monetary': ['mean', 'count']}).round(0)\n",
    "\n",
    "rfm_agg.columns = rfm_agg.columns.droplevel()\n",
    "rfm_agg.columns = ['RecencyMean','FrequencyMean','MonetaryMean', 'Count']\n",
    "rfm_agg['Percent'] = round((rfm_agg['Count']/rfm_agg.Count.sum())*100, 2)\n",
    "\n",
    "# Reset the index\n",
    "rfm_agg = rfm_agg.reset_index()"
   ]
  },
  {
   "cell_type": "code",
   "execution_count": 39,
   "metadata": {},
   "outputs": [
    {
     "data": {
      "text/html": [
       "<div>\n",
       "<style scoped>\n",
       "    .dataframe tbody tr th:only-of-type {\n",
       "        vertical-align: middle;\n",
       "    }\n",
       "\n",
       "    .dataframe tbody tr th {\n",
       "        vertical-align: top;\n",
       "    }\n",
       "\n",
       "    .dataframe thead th {\n",
       "        text-align: right;\n",
       "    }\n",
       "</style>\n",
       "<table border=\"1\" class=\"dataframe\">\n",
       "  <thead>\n",
       "    <tr style=\"text-align: right;\">\n",
       "      <th></th>\n",
       "      <th>Customer_Segment</th>\n",
       "      <th>RecencyMean</th>\n",
       "      <th>FrequencyMean</th>\n",
       "      <th>MonetaryMean</th>\n",
       "      <th>Count</th>\n",
       "      <th>Percent</th>\n",
       "    </tr>\n",
       "  </thead>\n",
       "  <tbody>\n",
       "    <tr>\n",
       "      <th>0</th>\n",
       "      <td>At Risk Customers</td>\n",
       "      <td>313.0</td>\n",
       "      <td>7.0</td>\n",
       "      <td>67.0</td>\n",
       "      <td>563</td>\n",
       "      <td>14.44</td>\n",
       "    </tr>\n",
       "    <tr>\n",
       "      <th>1</th>\n",
       "      <td>Churned Customers</td>\n",
       "      <td>460.0</td>\n",
       "      <td>4.0</td>\n",
       "      <td>23.0</td>\n",
       "      <td>453</td>\n",
       "      <td>11.62</td>\n",
       "    </tr>\n",
       "    <tr>\n",
       "      <th>2</th>\n",
       "      <td>Loyal Customers</td>\n",
       "      <td>177.0</td>\n",
       "      <td>12.0</td>\n",
       "      <td>77.0</td>\n",
       "      <td>369</td>\n",
       "      <td>9.47</td>\n",
       "    </tr>\n",
       "    <tr>\n",
       "      <th>3</th>\n",
       "      <td>New Customers</td>\n",
       "      <td>25.0</td>\n",
       "      <td>4.0</td>\n",
       "      <td>31.0</td>\n",
       "      <td>90</td>\n",
       "      <td>2.31</td>\n",
       "    </tr>\n",
       "    <tr>\n",
       "      <th>4</th>\n",
       "      <td>Regular Customers</td>\n",
       "      <td>160.0</td>\n",
       "      <td>9.0</td>\n",
       "      <td>77.0</td>\n",
       "      <td>1352</td>\n",
       "      <td>34.68</td>\n",
       "    </tr>\n",
       "    <tr>\n",
       "      <th>5</th>\n",
       "      <td>VIP Customers</td>\n",
       "      <td>60.0</td>\n",
       "      <td>15.0</td>\n",
       "      <td>139.0</td>\n",
       "      <td>1071</td>\n",
       "      <td>27.48</td>\n",
       "    </tr>\n",
       "  </tbody>\n",
       "</table>\n",
       "</div>"
      ],
      "text/plain": [
       "    Customer_Segment  RecencyMean  FrequencyMean  MonetaryMean  Count  Percent\n",
       "0  At Risk Customers        313.0            7.0          67.0    563    14.44\n",
       "1  Churned Customers        460.0            4.0          23.0    453    11.62\n",
       "2    Loyal Customers        177.0           12.0          77.0    369     9.47\n",
       "3      New Customers         25.0            4.0          31.0     90     2.31\n",
       "4  Regular Customers        160.0            9.0          77.0   1352    34.68\n",
       "5      VIP Customers         60.0           15.0         139.0   1071    27.48"
      ]
     },
     "execution_count": 39,
     "metadata": {},
     "output_type": "execute_result"
    }
   ],
   "source": [
    "rfm_agg"
   ]
  },
  {
   "cell_type": "markdown",
   "metadata": {},
   "source": [
    "Tree map"
   ]
  },
  {
   "cell_type": "code",
   "execution_count": 40,
   "metadata": {},
   "outputs": [
    {
     "data": {
      "image/png": "[encoded data removed]",
      "text/plain": [
       "<Figure size 1400x1000 with 1 Axes>"
      ]
     },
     "metadata": {},
     "output_type": "display_data"
    }
   ],
   "source": [
    "import matplotlib.pyplot as plt\n",
    "import squarify\n",
    "\n",
    "# Tạo figure và chỉnh kích thước\n",
    "fig = plt.figure(figsize=(14, 10))\n",
    "ax = fig.add_subplot()\n",
    "\n",
    "# Dictionary màu sắc mới chỉ với 6 phân khúc khách hàng\n",
    "colors_dict = {\n",
    "    'VIP Customers': 'gold',\n",
    "    'Loyal Customers': 'purple',\n",
    "    'New Customers': 'green',\n",
    "    'At Risk Customers': 'orange',\n",
    "    'Churned Customers': 'red',\n",
    "    'Regular Customers': 'gray'\n",
    "}\n",
    "\n",
    "# Vẽ TreeMap với 6 nhóm khách hàng\n",
    "squarify.plot(\n",
    "    sizes=rfm_agg['Count'],\n",
    "    text_kwargs={'fontsize': 12, 'weight': 'bold', 'fontname': \"sans-serif\"},\n",
    "    color=[colors_dict[label] for label in rfm_agg['Customer_Segment']],\n",
    "    label=[\n",
    "        f\"{rfm_agg['Customer_Segment'][i]}\\n\"\n",
    "        f\"{rfm_agg['RecencyMean'][i]:.0f} days\\n\"\n",
    "        f\"{rfm_agg['FrequencyMean'][i]:.0f} orders\\n\"\n",
    "        f\"{rfm_agg['MonetaryMean'][i]:.0f} $\\n\"\n",
    "        f\"{rfm_agg['Count'][i]:.0f} customers ({rfm_agg['Percent'][i]}%)\"\n",
    "        for i in range(len(rfm_agg['Customer_Segment']))\n",
    "    ],\n",
    "    alpha=0.7\n",
    ")\n",
    "\n",
    "# Tùy chỉnh hiển thị\n",
    "plt.title(\"Customer Segments - RFM Analysis\", fontsize=26, fontweight=\"bold\")\n",
    "plt.axis('off')\n",
    "\n",
    "# Lưu hình ảnh\n",
    "plt.savefig('RFM_Segments.png', dpi=300)\n",
    "plt.show()\n"
   ]
  },
  {
   "cell_type": "markdown",
   "metadata": {},
   "source": [
    "Dữ liệu được chia thành 6 nhóm khách hàng dựa trên mô hình RFM (Recency - Frequency - Monetary).\n",
    "\n",
    "Khách hàng thường xuyên (Regular Customers) - 63.7%: Đây là nhóm lớn nhất, duy trì mức độ mua sắm ổn định nhưng không quá nổi bật. Cần các chương trình duy trì tần suất mua hàng như tích điểm hoặc khuyến mãi nhẹ.\n",
    "\n",
    "Khách hàng VIP - 13.49%: Nhóm có giá trị cao nhất với tần suất mua lớn và đơn hàng có giá trị cao. Cần ưu đãi đặc biệt và dịch vụ cá nhân hóa.\n",
    "\n",
    "Khách hàng trung thành (Loyal Customers) - 9.98%: Quay lại mua hàng thường xuyên, có thể nâng cấp thành khách VIP nếu tiếp tục gia tăng giá trị đơn hàng. Nên khuyến khích bằng chương trình thành viên.\n",
    "\n",
    "Khách hàng có rủi ro rời đi (At Risk Customers) - 9.36%: Từng mua hàng đều đặn nhưng có dấu hiệu giảm tương tác. Cần kích hoạt lại bằng email nhắc nhở hoặc ưu đãi đặc biệt.\n",
    "\n",
    "Khách hàng mới (New Customers) - 2.31%: Nhóm mới mua hàng lần đầu, cần có chương trình chào mừng và chăm sóc để giữ chân.\n",
    "\n",
    "Khách hàng đã rời đi (Churned Customers) - 1.15%: Đã gần như rời bỏ. Cần chiến dịch khuyến mãi hấp dẫn để thu hút quay lại hoặc loại khỏi danh sách marketing để tối ưu chi phí."
   ]
  },
  {
   "cell_type": "code",
   "execution_count": 42,
   "metadata": {},
   "outputs": [
    {
     "data": {
      "application/vnd.plotly.v1+json": {
       "config": {
        "plotlyServerURL": "https://plot.ly"
       },
       "data": [
        {
         "customdata": {
          "bdata": "AAAAAAAAHEA=",
          "dtype": "f8",
          "shape": "1, 1"
         },
         "hovertemplate": "Customer_Segment=At Risk Customers<br>RecencyMean=%{x}<br>MonetaryMean=%{y}<br>FrequencyMean=%{customdata[0]}<extra></extra>",
         "legendgroup": "At Risk Customers",
         "marker": {
          "color": "rgb(228,26,28)",
          "size": {
           "bdata": "AAAAAAAAHEA=",
           "dtype": "f8"
          },
          "sizemode": "area",
          "sizeref": 0.006,
          "symbol": "circle"
         },
         "mode": "markers",
         "name": "At Risk Customers",
         "orientation": "v",
         "showlegend": true,
         "type": "scatter",
         "x": {
          "bdata": "AAAAAACQc0A=",
          "dtype": "f8"
         },
         "xaxis": "x",
         "y": {
          "bdata": "AAAAAADAUEA=",
          "dtype": "f8"
         },
         "yaxis": "y"
        },
        {
         "customdata": {
          "bdata": "AAAAAAAAEEA=",
          "dtype": "f8",
          "shape": "1, 1"
         },
         "hovertemplate": "Customer_Segment=Churned Customers<br>RecencyMean=%{x}<br>MonetaryMean=%{y}<br>FrequencyMean=%{customdata[0]}<extra></extra>",
         "legendgroup": "Churned Customers",
         "marker": {
          "color": "rgb(55,126,184)",
          "size": {
           "bdata": "AAAAAAAAEEA=",
           "dtype": "f8"
          },
          "sizemode": "area",
          "sizeref": 0.006,
          "symbol": "circle"
         },
         "mode": "markers",
         "name": "Churned Customers",
         "orientation": "v",
         "showlegend": true,
         "type": "scatter",
         "x": {
          "bdata": "AAAAAADAfEA=",
          "dtype": "f8"
         },
         "xaxis": "x",
         "y": {
          "bdata": "AAAAAAAAN0A=",
          "dtype": "f8"
         },
         "yaxis": "y"
        },
        {
         "customdata": {
          "bdata": "AAAAAAAAKEA=",
          "dtype": "f8",
          "shape": "1, 1"
         },
         "hovertemplate": "Customer_Segment=Loyal Customers<br>RecencyMean=%{x}<br>MonetaryMean=%{y}<br>FrequencyMean=%{customdata[0]}<extra></extra>",
         "legendgroup": "Loyal Customers",
         "marker": {
          "color": "rgb(77,175,74)",
          "size": {
           "bdata": "AAAAAAAAKEA=",
           "dtype": "f8"
          },
          "sizemode": "area",
          "sizeref": 0.006,
          "symbol": "circle"
         },
         "mode": "markers",
         "name": "Loyal Customers",
         "orientation": "v",
         "showlegend": true,
         "type": "scatter",
         "x": {
          "bdata": "AAAAAAAgZkA=",
          "dtype": "f8"
         },
         "xaxis": "x",
         "y": {
          "bdata": "AAAAAABAU0A=",
          "dtype": "f8"
         },
         "yaxis": "y"
        },
        {
         "customdata": {
          "bdata": "AAAAAAAAEEA=",
          "dtype": "f8",
          "shape": "1, 1"
         },
         "hovertemplate": "Customer_Segment=New Customers<br>RecencyMean=%{x}<br>MonetaryMean=%{y}<br>FrequencyMean=%{customdata[0]}<extra></extra>",
         "legendgroup": "New Customers",
         "marker": {
          "color": "rgb(152,78,163)",
          "size": {
           "bdata": "AAAAAAAAEEA=",
           "dtype": "f8"
          },
          "sizemode": "area",
          "sizeref": 0.006,
          "symbol": "circle"
         },
         "mode": "markers",
         "name": "New Customers",
         "orientation": "v",
         "showlegend": true,
         "type": "scatter",
         "x": {
          "bdata": "AAAAAAAAOUA=",
          "dtype": "f8"
         },
         "xaxis": "x",
         "y": {
          "bdata": "AAAAAAAAP0A=",
          "dtype": "f8"
         },
         "yaxis": "y"
        },
        {
         "customdata": {
          "bdata": "AAAAAAAAIkA=",
          "dtype": "f8",
          "shape": "1, 1"
         },
         "hovertemplate": "Customer_Segment=Regular Customers<br>RecencyMean=%{x}<br>MonetaryMean=%{y}<br>FrequencyMean=%{customdata[0]}<extra></extra>",
         "legendgroup": "Regular Customers",
         "marker": {
          "color": "rgb(255,127,0)",
          "size": {
           "bdata": "AAAAAAAAIkA=",
           "dtype": "f8"
          },
          "sizemode": "area",
          "sizeref": 0.006,
          "symbol": "circle"
         },
         "mode": "markers",
         "name": "Regular Customers",
         "orientation": "v",
         "showlegend": true,
         "type": "scatter",
         "x": {
          "bdata": "AAAAAAAAZEA=",
          "dtype": "f8"
         },
         "xaxis": "x",
         "y": {
          "bdata": "AAAAAABAU0A=",
          "dtype": "f8"
         },
         "yaxis": "y"
        },
        {
         "customdata": {
          "bdata": "AAAAAAAALkA=",
          "dtype": "f8",
          "shape": "1, 1"
         },
         "hovertemplate": "Customer_Segment=VIP Customers<br>RecencyMean=%{x}<br>MonetaryMean=%{y}<br>FrequencyMean=%{customdata[0]}<extra></extra>",
         "legendgroup": "VIP Customers",
         "marker": {
          "color": "rgb(255,255,51)",
          "size": {
           "bdata": "AAAAAAAALkA=",
           "dtype": "f8"
          },
          "sizemode": "area",
          "sizeref": 0.006,
          "symbol": "circle"
         },
         "mode": "markers",
         "name": "VIP Customers",
         "orientation": "v",
         "showlegend": true,
         "type": "scatter",
         "x": {
          "bdata": "AAAAAAAATkA=",
          "dtype": "f8"
         },
         "xaxis": "x",
         "y": {
          "bdata": "AAAAAABgYUA=",
          "dtype": "f8"
         },
         "yaxis": "y"
        }
       ],
       "layout": {
        "legend": {
         "itemsizing": "constant",
         "title": {
          "text": "Customer Segment"
         },
         "tracegroupgap": 0
        },
        "margin": {
         "t": 60
        },
        "template": {
         "data": {
          "bar": [
           {
            "error_x": {
             "color": "#2a3f5f"
            },
            "error_y": {
             "color": "#2a3f5f"
            },
            "marker": {
             "line": {
              "color": "#E5ECF6",
              "width": 0.5
             },
             "pattern": {
              "fillmode": "overlay",
              "size": 10,
              "solidity": 0.2
             }
            },
            "type": "bar"
           }
          ],
          "barpolar": [
           {
            "marker": {
             "line": {
              "color": "#E5ECF6",
              "width": 0.5
             },
             "pattern": {
              "fillmode": "overlay",
              "size": 10,
              "solidity": 0.2
             }
            },
            "type": "barpolar"
           }
          ],
          "carpet": [
           {
            "aaxis": {
             "endlinecolor": "#2a3f5f",
             "gridcolor": "white",
             "linecolor": "white",
             "minorgridcolor": "white",
             "startlinecolor": "#2a3f5f"
            },
            "baxis": {
             "endlinecolor": "#2a3f5f",
             "gridcolor": "white",
             "linecolor": "white",
             "minorgridcolor": "white",
             "startlinecolor": "#2a3f5f"
            },
            "type": "carpet"
           }
          ],
          "choropleth": [
           {
            "colorbar": {
             "outlinewidth": 0,
             "ticks": ""
            },
            "type": "choropleth"
           }
          ],
          "contour": [
           {
            "colorbar": {
             "outlinewidth": 0,
             "ticks": ""
            },
            "colorscale": [
             [
              0,
              "#0d0887"
             ],
             [
              0.1111111111111111,
              "#46039f"
             ],
             [
              0.2222222222222222,
              "#7201a8"
             ],
             [
              0.3333333333333333,
              "#9c179e"
             ],
             [
              0.4444444444444444,
              "#bd3786"
             ],
             [
              0.5555555555555556,
              "#d8576b"
             ],
             [
              0.6666666666666666,
              "#ed7953"
             ],
             [
              0.7777777777777778,
              "#fb9f3a"
             ],
             [
              0.8888888888888888,
              "#fdca26"
             ],
             [
              1,
              "#f0f921"
             ]
            ],
            "type": "contour"
           }
          ],
          "contourcarpet": [
           {
            "colorbar": {
             "outlinewidth": 0,
             "ticks": ""
            },
            "type": "contourcarpet"
           }
          ],
          "heatmap": [
           {
            "colorbar": {
             "outlinewidth": 0,
             "ticks": ""
            },
            "colorscale": [
             [
              0,
              "#0d0887"
             ],
             [
              0.1111111111111111,
              "#46039f"
             ],
             [
              0.2222222222222222,
              "#7201a8"
             ],
             [
              0.3333333333333333,
              "#9c179e"
             ],
             [
              0.4444444444444444,
              "#bd3786"
             ],
             [
              0.5555555555555556,
              "#d8576b"
             ],
             [
              0.6666666666666666,
              "#ed7953"
             ],
             [
              0.7777777777777778,
              "#fb9f3a"
             ],
             [
              0.8888888888888888,
              "#fdca26"
             ],
             [
              1,
              "#f0f921"
             ]
            ],
            "type": "heatmap"
           }
          ],
          "histogram": [
           {
            "marker": {
             "pattern": {
              "fillmode": "overlay",
              "size": 10,
              "solidity": 0.2
             }
            },
            "type": "histogram"
           }
          ],
          "histogram2d": [
           {
            "colorbar": {
             "outlinewidth": 0,
             "ticks": ""
            },
            "colorscale": [
             [
              0,
              "#0d0887"
             ],
             [
              0.1111111111111111,
              "#46039f"
             ],
             [
              0.2222222222222222,
              "#7201a8"
             ],
             [
              0.3333333333333333,
              "#9c179e"
             ],
             [
              0.4444444444444444,
              "#bd3786"
             ],
             [
              0.5555555555555556,
              "#d8576b"
             ],
             [
              0.6666666666666666,
              "#ed7953"
             ],
             [
              0.7777777777777778,
              "#fb9f3a"
             ],
             [
              0.8888888888888888,
              "#fdca26"
             ],
             [
              1,
              "#f0f921"
             ]
            ],
            "type": "histogram2d"
           }
          ],
          "histogram2dcontour": [
           {
            "colorbar": {
             "outlinewidth": 0,
             "ticks": ""
            },
            "colorscale": [
             [
              0,
              "#0d0887"
             ],
             [
              0.1111111111111111,
              "#46039f"
             ],
             [
              0.2222222222222222,
              "#7201a8"
             ],
             [
              0.3333333333333333,
              "#9c179e"
             ],
             [
              0.4444444444444444,
              "#bd3786"
             ],
             [
              0.5555555555555556,
              "#d8576b"
             ],
             [
              0.6666666666666666,
              "#ed7953"
             ],
             [
              0.7777777777777778,
              "#fb9f3a"
             ],
             [
              0.8888888888888888,
              "#fdca26"
             ],
             [
              1,
              "#f0f921"
             ]
            ],
            "type": "histogram2dcontour"
           }
          ],
          "mesh3d": [
           {
            "colorbar": {
             "outlinewidth": 0,
             "ticks": ""
            },
            "type": "mesh3d"
           }
          ],
          "parcoords": [
           {
            "line": {
             "colorbar": {
              "outlinewidth": 0,
              "ticks": ""
             }
            },
            "type": "parcoords"
           }
          ],
          "pie": [
           {
            "automargin": true,
            "type": "pie"
           }
          ],
          "scatter": [
           {
            "fillpattern": {
             "fillmode": "overlay",
             "size": 10,
             "solidity": 0.2
            },
            "type": "scatter"
           }
          ],
          "scatter3d": [
           {
            "line": {
             "colorbar": {
              "outlinewidth": 0,
              "ticks": ""
             }
            },
            "marker": {
             "colorbar": {
              "outlinewidth": 0,
              "ticks": ""
             }
            },
            "type": "scatter3d"
           }
          ],
          "scattercarpet": [
           {
            "marker": {
             "colorbar": {
              "outlinewidth": 0,
              "ticks": ""
             }
            },
            "type": "scattercarpet"
           }
          ],
          "scattergeo": [
           {
            "marker": {
             "colorbar": {
              "outlinewidth": 0,
              "ticks": ""
             }
            },
            "type": "scattergeo"
           }
          ],
          "scattergl": [
           {
            "marker": {
             "colorbar": {
              "outlinewidth": 0,
              "ticks": ""
             }
            },
            "type": "scattergl"
           }
          ],
          "scattermap": [
           {
            "marker": {
             "colorbar": {
              "outlinewidth": 0,
              "ticks": ""
             }
            },
            "type": "scattermap"
           }
          ],
          "scattermapbox": [
           {
            "marker": {
             "colorbar": {
              "outlinewidth": 0,
              "ticks": ""
             }
            },
            "type": "scattermapbox"
           }
          ],
          "scatterpolar": [
           {
            "marker": {
             "colorbar": {
              "outlinewidth": 0,
              "ticks": ""
             }
            },
            "type": "scatterpolar"
           }
          ],
          "scatterpolargl": [
           {
            "marker": {
             "colorbar": {
              "outlinewidth": 0,
              "ticks": ""
             }
            },
            "type": "scatterpolargl"
           }
          ],
          "scatterternary": [
           {
            "marker": {
             "colorbar": {
              "outlinewidth": 0,
              "ticks": ""
             }
            },
            "type": "scatterternary"
           }
          ],
          "surface": [
           {
            "colorbar": {
             "outlinewidth": 0,
             "ticks": ""
            },
            "colorscale": [
             [
              0,
              "#0d0887"
             ],
             [
              0.1111111111111111,
              "#46039f"
             ],
             [
              0.2222222222222222,
              "#7201a8"
             ],
             [
              0.3333333333333333,
              "#9c179e"
             ],
             [
              0.4444444444444444,
              "#bd3786"
             ],
             [
              0.5555555555555556,
              "#d8576b"
             ],
             [
              0.6666666666666666,
              "#ed7953"
             ],
             [
              0.7777777777777778,
              "#fb9f3a"
             ],
             [
              0.8888888888888888,
              "#fdca26"
             ],
             [
              1,
              "#f0f921"
             ]
            ],
            "type": "surface"
           }
          ],
          "table": [
           {
            "cells": {
             "fill": {
              "color": "#EBF0F8"
             },
             "line": {
              "color": "white"
             }
            },
            "header": {
             "fill": {
              "color": "#C8D4E3"
             },
             "line": {
              "color": "white"
             }
            },
            "type": "table"
           }
          ]
         },
         "layout": {
          "annotationdefaults": {
           "arrowcolor": "#2a3f5f",
           "arrowhead": 0,
           "arrowwidth": 1
          },
          "autotypenumbers": "strict",
          "coloraxis": {
           "colorbar": {
            "outlinewidth": 0,
            "ticks": ""
           }
          },
          "colorscale": {
           "diverging": [
            [
             0,
             "#8e0152"
            ],
            [
             0.1,
             "#c51b7d"
            ],
            [
             0.2,
             "#de77ae"
            ],
            [
             0.3,
             "#f1b6da"
            ],
            [
             0.4,
             "#fde0ef"
            ],
            [
             0.5,
             "#f7f7f7"
            ],
            [
             0.6,
             "#e6f5d0"
            ],
            [
             0.7,
             "#b8e186"
            ],
            [
             0.8,
             "#7fbc41"
            ],
            [
             0.9,
             "#4d9221"
            ],
            [
             1,
             "#276419"
            ]
           ],
           "sequential": [
            [
             0,
             "#0d0887"
            ],
            [
             0.1111111111111111,
             "#46039f"
            ],
            [
             0.2222222222222222,
             "#7201a8"
            ],
            [
             0.3333333333333333,
             "#9c179e"
            ],
            [
             0.4444444444444444,
             "#bd3786"
            ],
            [
             0.5555555555555556,
             "#d8576b"
            ],
            [
             0.6666666666666666,
             "#ed7953"
            ],
            [
             0.7777777777777778,
             "#fb9f3a"
            ],
            [
             0.8888888888888888,
             "#fdca26"
            ],
            [
             1,
             "#f0f921"
            ]
           ],
           "sequentialminus": [
            [
             0,
             "#0d0887"
            ],
            [
             0.1111111111111111,
             "#46039f"
            ],
            [
             0.2222222222222222,
             "#7201a8"
            ],
            [
             0.3333333333333333,
             "#9c179e"
            ],
            [
             0.4444444444444444,
             "#bd3786"
            ],
            [
             0.5555555555555556,
             "#d8576b"
            ],
            [
             0.6666666666666666,
             "#ed7953"
            ],
            [
             0.7777777777777778,
             "#fb9f3a"
            ],
            [
             0.8888888888888888,
             "#fdca26"
            ],
            [
             1,
             "#f0f921"
            ]
           ]
          },
          "colorway": [
           "#636efa",
           "#EF553B",
           "#00cc96",
           "#ab63fa",
           "#FFA15A",
           "#19d3f3",
           "#FF6692",
           "#B6E880",
           "#FF97FF",
           "#FECB52"
          ],
          "font": {
           "color": "#2a3f5f"
          },
          "geo": {
           "bgcolor": "white",
           "lakecolor": "white",
           "landcolor": "#E5ECF6",
           "showlakes": true,
           "showland": true,
           "subunitcolor": "white"
          },
          "hoverlabel": {
           "align": "left"
          },
          "hovermode": "closest",
          "mapbox": {
           "style": "light"
          },
          "paper_bgcolor": "white",
          "plot_bgcolor": "#E5ECF6",
          "polar": {
           "angularaxis": {
            "gridcolor": "white",
            "linecolor": "white",
            "ticks": ""
           },
           "bgcolor": "#E5ECF6",
           "radialaxis": {
            "gridcolor": "white",
            "linecolor": "white",
            "ticks": ""
           }
          },
          "scene": {
           "xaxis": {
            "backgroundcolor": "#E5ECF6",
            "gridcolor": "white",
            "gridwidth": 2,
            "linecolor": "white",
            "showbackground": true,
            "ticks": "",
            "zerolinecolor": "white"
           },
           "yaxis": {
            "backgroundcolor": "#E5ECF6",
            "gridcolor": "white",
            "gridwidth": 2,
            "linecolor": "white",
            "showbackground": true,
            "ticks": "",
            "zerolinecolor": "white"
           },
           "zaxis": {
            "backgroundcolor": "#E5ECF6",
            "gridcolor": "white",
            "gridwidth": 2,
            "linecolor": "white",
            "showbackground": true,
            "ticks": "",
            "zerolinecolor": "white"
           }
          },
          "shapedefaults": {
           "line": {
            "color": "#2a3f5f"
           }
          },
          "ternary": {
           "aaxis": {
            "gridcolor": "white",
            "linecolor": "white",
            "ticks": ""
           },
           "baxis": {
            "gridcolor": "white",
            "linecolor": "white",
            "ticks": ""
           },
           "bgcolor": "#E5ECF6",
           "caxis": {
            "gridcolor": "white",
            "linecolor": "white",
            "ticks": ""
           }
          },
          "title": {
           "x": 0.05
          },
          "xaxis": {
           "automargin": true,
           "gridcolor": "white",
           "linecolor": "white",
           "ticks": "",
           "title": {
            "standoff": 15
           },
           "zerolinecolor": "white",
           "zerolinewidth": 2
          },
          "yaxis": {
           "automargin": true,
           "gridcolor": "white",
           "linecolor": "white",
           "ticks": "",
           "title": {
            "standoff": 15
           },
           "zerolinecolor": "white",
           "zerolinewidth": 2
          }
         }
        },
        "title": {
         "text": "RFM Segments Distribution"
        },
        "xaxis": {
         "anchor": "y",
         "domain": [
          0,
          1
         ],
         "title": {
          "text": "Recency (days)"
         }
        },
        "yaxis": {
         "anchor": "x",
         "domain": [
          0,
          1
         ],
         "title": {
          "text": "Monetary (money)"
         }
        }
       }
      }
     },
     "metadata": {},
     "output_type": "display_data"
    }
   ],
   "source": [
    "import plotly.express as px\n",
    "\n",
    "fig = px.scatter(rfm_agg, \n",
    "                 x='RecencyMean', \n",
    "                 y='MonetaryMean', \n",
    "                 size='FrequencyMean', \n",
    "                 color='Customer_Segment',  # Dữ liệu phân loại\n",
    "                 hover_data=['RecencyMean', 'MonetaryMean', 'FrequencyMean'], \n",
    "                 size_max=50, \n",
    "                 color_discrete_sequence=px.colors.qualitative.Set1)  # Dùng bảng màu phù hợp\n",
    "\n",
    "fig.update_layout(title=\"RFM Segments Distribution\",\n",
    "                  xaxis_title=\"Recency (days)\",\n",
    "                  yaxis_title=\"Monetary (money)\",\n",
    "                  legend_title=\"Customer Segment\")\n",
    "\n",
    "fig.show()\n"
   ]
  },
  {
   "cell_type": "markdown",
   "metadata": {},
   "source": [
    "• Khách hàng VIP (màu vàng) có giá trị chi tiêu cao nhất (~140-160) và có thời gian quay lại gần đây (~50-60 ngày), cho thấy họ là khách hàng quan trọng và vẫn duy trì tương tác tốt. \n",
    "\n",
    "• Khách hàng trung thành (màu xanh lá cây) có chi tiêu khá cao (~80-90) với mức độ quay lại trung bình (~150 ngày), thể hiện sự gắn bó nhất định với thương hiệu. \n",
    "\n",
    "• Khách hàng thường xuyên (màu cam nhạt) có chi tiêu trung bình (~80) và thời gian quay lại khá dài (~200 ngày), cho thấy họ có thói quen mua hàng nhưng chưa đạt mức trung thành cao. \n",
    "\n",
    "• Khách hàng mới (màu tím) có thời gian mua gần đây (~20-30 ngày) nhưng giá trị chi tiêu thấp (~30-40), cần chiến lược thúc đẩy họ tiếp tục mua hàng để nâng cao giá trị lâu dài. \n",
    "\n",
    "• Khách hàng có nguy cơ rời bỏ (màu đỏ) từng có mức chi tiêu khá tốt (~70-80) nhưng đã lâu không quay lại (~300 ngày), cần các chương trình tái kích hoạt để thu hút họ trở lại. \n",
    "\n",
    "• Khách hàng đã rời bỏ (màu xanh dương đậm) có thời gian không quay lại rất dài (~400 ngày) và chi tiêu thấp (~30-40), có thể khó thu hút nếu không có ưu đãi mạnh. \n"
   ]
  }
 ],
 "metadata": {
  "kernelspec": {
   "display_name": "Python 3",
   "language": "python",
   "name": "python3"
  },
  "language_info": {
   "codemirror_mode": {
    "name": "ipython",
    "version": 3
   },
   "file_extension": ".py",
   "mimetype": "text/x-python",
   "name": "python",
   "nbconvert_exporter": "python",
   "pygments_lexer": "ipython3",
   "version": "3.10.0"
  }
 },
 "nbformat": 4,
 "nbformat_minor": 2
}
