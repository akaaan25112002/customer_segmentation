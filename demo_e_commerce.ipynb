{
 "cells": [
  {
   "cell_type": "markdown",
   "metadata": {
    "id": "fT2DzhusTJei"
   },
   "source": [
    "# Topic: Custumer Clustering with RFM & Clustering Algorithm\n",
    "## Demo: E-commerce Project\n",
    "### Tham khảo"
   ]
  },
  {
   "cell_type": "code",
   "execution_count": 1,
   "metadata": {
    "id": "gfQze0XhTJen"
   },
   "outputs": [],
   "source": [
    "import pandas as pd\n",
    "import numpy as np\n",
    "import matplotlib.pyplot as plt\n",
    "import seaborn as sns\n",
    "import plotly.express as px\n",
    "import squarify\n",
    "from datetime import datetime"
   ]
  },
  {
   "cell_type": "code",
   "execution_count": 2,
   "metadata": {
    "id": "XsP9tqjrTJeo"
   },
   "outputs": [],
   "source": [
    "df = pd.read_csv('Data/e-commerce.csv')"
   ]
  },
  {
   "cell_type": "code",
   "execution_count": 3,
   "metadata": {
    "colab": {
     "base_uri": "https://localhost:8080/"
    },
    "executionInfo": {
     "elapsed": 83,
     "status": "ok",
     "timestamp": 1742788462910,
     "user": {
      "displayName": "Phuong Khuat Thuy",
      "userId": "16807426118474640783"
     },
     "user_tz": -420
    },
    "id": "DkqZLTyzTJeo",
    "outputId": "7999fd8b-8cb2-412c-c69c-42457d9582cc"
   },
   "outputs": [
    {
     "name": "stdout",
     "output_type": "stream",
     "text": [
      "<class 'pandas.core.frame.DataFrame'>\n",
      "RangeIndex: 70052 entries, 0 to 70051\n",
      "Data columns (total 17 columns):\n",
      " #   Column                  Non-Null Count  Dtype  \n",
      "---  ------                  --------------  -----  \n",
      " 0   product_title           70052 non-null  object \n",
      " 1   product_type            70052 non-null  object \n",
      " 2   variant_title           70052 non-null  object \n",
      " 3   variant_sku             70052 non-null  object \n",
      " 4   variant_id              70052 non-null  int64  \n",
      " 5   customer_id             70052 non-null  int64  \n",
      " 6   order_id                70052 non-null  int64  \n",
      " 7   day                     70052 non-null  object \n",
      " 8   net_quantity            70052 non-null  int64  \n",
      " 9   gross_sales             70052 non-null  float64\n",
      " 10  discounts               70052 non-null  float64\n",
      " 11  returns                 70052 non-null  float64\n",
      " 12  net_sales               70052 non-null  float64\n",
      " 13  taxes                   70052 non-null  float64\n",
      " 14  total_sales             70052 non-null  float64\n",
      " 15  returned_item_quantity  70052 non-null  int64  \n",
      " 16  ordered_item_quantity   70052 non-null  int64  \n",
      "dtypes: float64(6), int64(6), object(5)\n",
      "memory usage: 9.1+ MB\n"
     ]
    }
   ],
   "source": [
    "df.info()"
   ]
  },
  {
   "cell_type": "code",
   "execution_count": 4,
   "metadata": {
    "colab": {
     "base_uri": "https://localhost:8080/",
     "height": 399
    },
    "executionInfo": {
     "elapsed": 306,
     "status": "ok",
     "timestamp": 1742788476833,
     "user": {
      "displayName": "Phuong Khuat Thuy",
      "userId": "16807426118474640783"
     },
     "user_tz": -420
    },
    "id": "9fDu5v2GSZwG",
    "outputId": "62874ec5-d54c-47e7-ad84-3619c2ef3700"
   },
   "outputs": [
    {
     "data": {
      "text/html": [
       "<div>\n",
       "<style scoped>\n",
       "    .dataframe tbody tr th:only-of-type {\n",
       "        vertical-align: middle;\n",
       "    }\n",
       "\n",
       "    .dataframe tbody tr th {\n",
       "        vertical-align: top;\n",
       "    }\n",
       "\n",
       "    .dataframe thead th {\n",
       "        text-align: right;\n",
       "    }\n",
       "</style>\n",
       "<table border=\"1\" class=\"dataframe\">\n",
       "  <thead>\n",
       "    <tr style=\"text-align: right;\">\n",
       "      <th></th>\n",
       "      <th>product_title</th>\n",
       "      <th>product_type</th>\n",
       "      <th>variant_title</th>\n",
       "      <th>variant_sku</th>\n",
       "      <th>variant_id</th>\n",
       "      <th>customer_id</th>\n",
       "      <th>order_id</th>\n",
       "      <th>day</th>\n",
       "      <th>net_quantity</th>\n",
       "      <th>gross_sales</th>\n",
       "      <th>discounts</th>\n",
       "      <th>returns</th>\n",
       "      <th>net_sales</th>\n",
       "      <th>taxes</th>\n",
       "      <th>total_sales</th>\n",
       "      <th>returned_item_quantity</th>\n",
       "      <th>ordered_item_quantity</th>\n",
       "    </tr>\n",
       "  </thead>\n",
       "  <tbody>\n",
       "    <tr>\n",
       "      <th>0</th>\n",
       "      <td>DPR</td>\n",
       "      <td>DPR</td>\n",
       "      <td>100</td>\n",
       "      <td>AD-982-708-895-F-6C894FB</td>\n",
       "      <td>52039657</td>\n",
       "      <td>1312378</td>\n",
       "      <td>83290718932496</td>\n",
       "      <td>04/12/2018</td>\n",
       "      <td>2</td>\n",
       "      <td>200.0</td>\n",
       "      <td>-200.00</td>\n",
       "      <td>0.00</td>\n",
       "      <td>0.0</td>\n",
       "      <td>0.0</td>\n",
       "      <td>0.0</td>\n",
       "      <td>0</td>\n",
       "      <td>2</td>\n",
       "    </tr>\n",
       "    <tr>\n",
       "      <th>1</th>\n",
       "      <td>RJF</td>\n",
       "      <td>Product P</td>\n",
       "      <td>28 / A / MTM</td>\n",
       "      <td>83-490-E49-8C8-8-3B100BC</td>\n",
       "      <td>56914686</td>\n",
       "      <td>3715657</td>\n",
       "      <td>36253792848113</td>\n",
       "      <td>01/04/2019</td>\n",
       "      <td>2</td>\n",
       "      <td>190.0</td>\n",
       "      <td>-190.00</td>\n",
       "      <td>0.00</td>\n",
       "      <td>0.0</td>\n",
       "      <td>0.0</td>\n",
       "      <td>0.0</td>\n",
       "      <td>0</td>\n",
       "      <td>2</td>\n",
       "    </tr>\n",
       "    <tr>\n",
       "      <th>2</th>\n",
       "      <td>CLH</td>\n",
       "      <td>Product B</td>\n",
       "      <td>32 / B / FtO</td>\n",
       "      <td>68-ECA-BC7-3B2-A-E73DE1B</td>\n",
       "      <td>24064862</td>\n",
       "      <td>9533448</td>\n",
       "      <td>73094559597229</td>\n",
       "      <td>05/11/2018</td>\n",
       "      <td>0</td>\n",
       "      <td>164.8</td>\n",
       "      <td>-156.56</td>\n",
       "      <td>-8.24</td>\n",
       "      <td>0.0</td>\n",
       "      <td>0.0</td>\n",
       "      <td>0.0</td>\n",
       "      <td>-2</td>\n",
       "      <td>2</td>\n",
       "    </tr>\n",
       "    <tr>\n",
       "      <th>3</th>\n",
       "      <td>NMA</td>\n",
       "      <td>Product F</td>\n",
       "      <td>40 / B / FtO</td>\n",
       "      <td>6C-1F1-226-1B3-2-3542B41</td>\n",
       "      <td>43823868</td>\n",
       "      <td>4121004</td>\n",
       "      <td>53616575668264</td>\n",
       "      <td>19/02/2019</td>\n",
       "      <td>1</td>\n",
       "      <td>119.0</td>\n",
       "      <td>-119.00</td>\n",
       "      <td>0.00</td>\n",
       "      <td>0.0</td>\n",
       "      <td>0.0</td>\n",
       "      <td>0.0</td>\n",
       "      <td>0</td>\n",
       "      <td>1</td>\n",
       "    </tr>\n",
       "    <tr>\n",
       "      <th>4</th>\n",
       "      <td>NMA</td>\n",
       "      <td>Product F</td>\n",
       "      <td>40 / B / FtO</td>\n",
       "      <td>6C-1F1-226-1B3-2-3542B41</td>\n",
       "      <td>43823868</td>\n",
       "      <td>4121004</td>\n",
       "      <td>29263220319421</td>\n",
       "      <td>19/02/2019</td>\n",
       "      <td>1</td>\n",
       "      <td>119.0</td>\n",
       "      <td>-119.00</td>\n",
       "      <td>0.00</td>\n",
       "      <td>0.0</td>\n",
       "      <td>0.0</td>\n",
       "      <td>0.0</td>\n",
       "      <td>0</td>\n",
       "      <td>1</td>\n",
       "    </tr>\n",
       "  </tbody>\n",
       "</table>\n",
       "</div>"
      ],
      "text/plain": [
       "  product_title product_type variant_title               variant_sku  \\\n",
       "0           DPR          DPR           100  AD-982-708-895-F-6C894FB   \n",
       "1           RJF    Product P  28 / A / MTM  83-490-E49-8C8-8-3B100BC   \n",
       "2           CLH    Product B  32 / B / FtO  68-ECA-BC7-3B2-A-E73DE1B   \n",
       "3           NMA    Product F  40 / B / FtO  6C-1F1-226-1B3-2-3542B41   \n",
       "4           NMA    Product F  40 / B / FtO  6C-1F1-226-1B3-2-3542B41   \n",
       "\n",
       "   variant_id  customer_id        order_id         day  net_quantity  \\\n",
       "0    52039657      1312378  83290718932496  04/12/2018             2   \n",
       "1    56914686      3715657  36253792848113  01/04/2019             2   \n",
       "2    24064862      9533448  73094559597229  05/11/2018             0   \n",
       "3    43823868      4121004  53616575668264  19/02/2019             1   \n",
       "4    43823868      4121004  29263220319421  19/02/2019             1   \n",
       "\n",
       "   gross_sales  discounts  returns  net_sales  taxes  total_sales  \\\n",
       "0        200.0    -200.00     0.00        0.0    0.0          0.0   \n",
       "1        190.0    -190.00     0.00        0.0    0.0          0.0   \n",
       "2        164.8    -156.56    -8.24        0.0    0.0          0.0   \n",
       "3        119.0    -119.00     0.00        0.0    0.0          0.0   \n",
       "4        119.0    -119.00     0.00        0.0    0.0          0.0   \n",
       "\n",
       "   returned_item_quantity  ordered_item_quantity  \n",
       "0                       0                      2  \n",
       "1                       0                      2  \n",
       "2                      -2                      2  \n",
       "3                       0                      1  \n",
       "4                       0                      1  "
      ]
     },
     "execution_count": 4,
     "metadata": {},
     "output_type": "execute_result"
    }
   ],
   "source": [
    "df.head()"
   ]
  },
  {
   "cell_type": "code",
   "execution_count": 5,
   "metadata": {
    "id": "dNV8BfqOTJep"
   },
   "outputs": [],
   "source": [
    "string_to_date = lambda x : datetime.strptime(x, \"%d/%m/%Y\").date()\n",
    "\n",
    "# Convert InvoiceDate from object to datetime format\n",
    "df['day'] = df['day'].apply(string_to_date)\n",
    "df['day'] = df['day'].astype('datetime64[ns]')\n",
    "\n",
    "# Drop NA values\n",
    "df = df.dropna()"
   ]
  },
  {
   "cell_type": "code",
   "execution_count": 6,
   "metadata": {
    "colab": {
     "base_uri": "https://localhost:8080/",
     "height": 267
    },
    "executionInfo": {
     "elapsed": 266,
     "status": "ok",
     "timestamp": 1742788501896,
     "user": {
      "displayName": "Phuong Khuat Thuy",
      "userId": "16807426118474640783"
     },
     "user_tz": -420
    },
    "id": "1Aq6UDzRTJeq",
    "outputId": "4198a4d8-3ff8-4305-851d-679c25ae37e2"
   },
   "outputs": [
    {
     "data": {
      "text/html": [
       "<div>\n",
       "<style scoped>\n",
       "    .dataframe tbody tr th:only-of-type {\n",
       "        vertical-align: middle;\n",
       "    }\n",
       "\n",
       "    .dataframe tbody tr th {\n",
       "        vertical-align: top;\n",
       "    }\n",
       "\n",
       "    .dataframe thead th {\n",
       "        text-align: right;\n",
       "    }\n",
       "</style>\n",
       "<table border=\"1\" class=\"dataframe\">\n",
       "  <thead>\n",
       "    <tr style=\"text-align: right;\">\n",
       "      <th></th>\n",
       "      <th>product_title</th>\n",
       "      <th>product_type</th>\n",
       "      <th>variant_title</th>\n",
       "      <th>variant_sku</th>\n",
       "      <th>variant_id</th>\n",
       "      <th>customer_id</th>\n",
       "      <th>order_id</th>\n",
       "      <th>day</th>\n",
       "      <th>net_quantity</th>\n",
       "      <th>gross_sales</th>\n",
       "      <th>discounts</th>\n",
       "      <th>returns</th>\n",
       "      <th>net_sales</th>\n",
       "      <th>taxes</th>\n",
       "      <th>total_sales</th>\n",
       "      <th>returned_item_quantity</th>\n",
       "      <th>ordered_item_quantity</th>\n",
       "    </tr>\n",
       "  </thead>\n",
       "  <tbody>\n",
       "    <tr>\n",
       "      <th>0</th>\n",
       "      <td>DPR</td>\n",
       "      <td>DPR</td>\n",
       "      <td>100</td>\n",
       "      <td>AD-982-708-895-F-6C894FB</td>\n",
       "      <td>52039657</td>\n",
       "      <td>1312378</td>\n",
       "      <td>83290718932496</td>\n",
       "      <td>2018-12-04</td>\n",
       "      <td>2</td>\n",
       "      <td>200.0</td>\n",
       "      <td>-200.00</td>\n",
       "      <td>0.00</td>\n",
       "      <td>0.0</td>\n",
       "      <td>0.0</td>\n",
       "      <td>0.0</td>\n",
       "      <td>0</td>\n",
       "      <td>2</td>\n",
       "    </tr>\n",
       "    <tr>\n",
       "      <th>1</th>\n",
       "      <td>RJF</td>\n",
       "      <td>Product P</td>\n",
       "      <td>28 / A / MTM</td>\n",
       "      <td>83-490-E49-8C8-8-3B100BC</td>\n",
       "      <td>56914686</td>\n",
       "      <td>3715657</td>\n",
       "      <td>36253792848113</td>\n",
       "      <td>2019-04-01</td>\n",
       "      <td>2</td>\n",
       "      <td>190.0</td>\n",
       "      <td>-190.00</td>\n",
       "      <td>0.00</td>\n",
       "      <td>0.0</td>\n",
       "      <td>0.0</td>\n",
       "      <td>0.0</td>\n",
       "      <td>0</td>\n",
       "      <td>2</td>\n",
       "    </tr>\n",
       "    <tr>\n",
       "      <th>2</th>\n",
       "      <td>CLH</td>\n",
       "      <td>Product B</td>\n",
       "      <td>32 / B / FtO</td>\n",
       "      <td>68-ECA-BC7-3B2-A-E73DE1B</td>\n",
       "      <td>24064862</td>\n",
       "      <td>9533448</td>\n",
       "      <td>73094559597229</td>\n",
       "      <td>2018-11-05</td>\n",
       "      <td>0</td>\n",
       "      <td>164.8</td>\n",
       "      <td>-156.56</td>\n",
       "      <td>-8.24</td>\n",
       "      <td>0.0</td>\n",
       "      <td>0.0</td>\n",
       "      <td>0.0</td>\n",
       "      <td>-2</td>\n",
       "      <td>2</td>\n",
       "    </tr>\n",
       "  </tbody>\n",
       "</table>\n",
       "</div>"
      ],
      "text/plain": [
       "  product_title product_type variant_title               variant_sku  \\\n",
       "0           DPR          DPR           100  AD-982-708-895-F-6C894FB   \n",
       "1           RJF    Product P  28 / A / MTM  83-490-E49-8C8-8-3B100BC   \n",
       "2           CLH    Product B  32 / B / FtO  68-ECA-BC7-3B2-A-E73DE1B   \n",
       "\n",
       "   variant_id  customer_id        order_id        day  net_quantity  \\\n",
       "0    52039657      1312378  83290718932496 2018-12-04             2   \n",
       "1    56914686      3715657  36253792848113 2019-04-01             2   \n",
       "2    24064862      9533448  73094559597229 2018-11-05             0   \n",
       "\n",
       "   gross_sales  discounts  returns  net_sales  taxes  total_sales  \\\n",
       "0        200.0    -200.00     0.00        0.0    0.0          0.0   \n",
       "1        190.0    -190.00     0.00        0.0    0.0          0.0   \n",
       "2        164.8    -156.56    -8.24        0.0    0.0          0.0   \n",
       "\n",
       "   returned_item_quantity  ordered_item_quantity  \n",
       "0                       0                      2  \n",
       "1                       0                      2  \n",
       "2                      -2                      2  "
      ]
     },
     "execution_count": 6,
     "metadata": {},
     "output_type": "execute_result"
    }
   ],
   "source": [
    "# Print DataFrame\n",
    "df.head(3)"
   ]
  },
  {
   "cell_type": "code",
   "execution_count": 7,
   "metadata": {
    "colab": {
     "base_uri": "https://localhost:8080/",
     "height": 267
    },
    "executionInfo": {
     "elapsed": 102,
     "status": "ok",
     "timestamp": 1742788504546,
     "user": {
      "displayName": "Phuong Khuat Thuy",
      "userId": "16807426118474640783"
     },
     "user_tz": -420
    },
    "id": "YBylNSsSTOiZ",
    "outputId": "aa7dc9c0-24a0-4f67-ef05-2e00cf8ae204"
   },
   "outputs": [
    {
     "data": {
      "text/html": [
       "<div>\n",
       "<style scoped>\n",
       "    .dataframe tbody tr th:only-of-type {\n",
       "        vertical-align: middle;\n",
       "    }\n",
       "\n",
       "    .dataframe tbody tr th {\n",
       "        vertical-align: top;\n",
       "    }\n",
       "\n",
       "    .dataframe thead th {\n",
       "        text-align: right;\n",
       "    }\n",
       "</style>\n",
       "<table border=\"1\" class=\"dataframe\">\n",
       "  <thead>\n",
       "    <tr style=\"text-align: right;\">\n",
       "      <th></th>\n",
       "      <th>product_title</th>\n",
       "      <th>product_type</th>\n",
       "      <th>variant_title</th>\n",
       "      <th>variant_sku</th>\n",
       "      <th>variant_id</th>\n",
       "      <th>customer_id</th>\n",
       "      <th>order_id</th>\n",
       "      <th>day</th>\n",
       "      <th>net_quantity</th>\n",
       "      <th>gross_sales</th>\n",
       "      <th>discounts</th>\n",
       "      <th>returns</th>\n",
       "      <th>net_sales</th>\n",
       "      <th>taxes</th>\n",
       "      <th>total_sales</th>\n",
       "      <th>returned_item_quantity</th>\n",
       "      <th>ordered_item_quantity</th>\n",
       "    </tr>\n",
       "  </thead>\n",
       "  <tbody>\n",
       "    <tr>\n",
       "      <th>70049</th>\n",
       "      <td>QID</td>\n",
       "      <td>Product H</td>\n",
       "      <td>33 / C / FtO</td>\n",
       "      <td>84-EB3-E68-8BF-1-F2EE65C</td>\n",
       "      <td>29857030</td>\n",
       "      <td>1201357</td>\n",
       "      <td>26287500138156</td>\n",
       "      <td>2018-11-19</td>\n",
       "      <td>-3</td>\n",
       "      <td>0.0</td>\n",
       "      <td>0.0</td>\n",
       "      <td>-222.50</td>\n",
       "      <td>-222.50</td>\n",
       "      <td>-44.5</td>\n",
       "      <td>-267.0</td>\n",
       "      <td>-3</td>\n",
       "      <td>0</td>\n",
       "    </tr>\n",
       "    <tr>\n",
       "      <th>70050</th>\n",
       "      <td>KNB</td>\n",
       "      <td>Product P</td>\n",
       "      <td>40 / B / FtO</td>\n",
       "      <td>DB-5D5-1F5-964-6-F33469E</td>\n",
       "      <td>81507405</td>\n",
       "      <td>9368488</td>\n",
       "      <td>59112081344038</td>\n",
       "      <td>2019-04-08</td>\n",
       "      <td>-3</td>\n",
       "      <td>0.0</td>\n",
       "      <td>0.0</td>\n",
       "      <td>-237.49</td>\n",
       "      <td>-237.49</td>\n",
       "      <td>-47.5</td>\n",
       "      <td>-285.0</td>\n",
       "      <td>-3</td>\n",
       "      <td>0</td>\n",
       "    </tr>\n",
       "    <tr>\n",
       "      <th>70051</th>\n",
       "      <td>WHX</td>\n",
       "      <td>Product P</td>\n",
       "      <td>38 / C / FtO</td>\n",
       "      <td>1C-F31-5C5-A71-9-E27F89C</td>\n",
       "      <td>23625707</td>\n",
       "      <td>7861225</td>\n",
       "      <td>34850379713899</td>\n",
       "      <td>2019-01-02</td>\n",
       "      <td>-3</td>\n",
       "      <td>0.0</td>\n",
       "      <td>0.0</td>\n",
       "      <td>-237.50</td>\n",
       "      <td>-237.50</td>\n",
       "      <td>-47.5</td>\n",
       "      <td>-285.0</td>\n",
       "      <td>-3</td>\n",
       "      <td>0</td>\n",
       "    </tr>\n",
       "  </tbody>\n",
       "</table>\n",
       "</div>"
      ],
      "text/plain": [
       "      product_title product_type variant_title               variant_sku  \\\n",
       "70049           QID    Product H  33 / C / FtO  84-EB3-E68-8BF-1-F2EE65C   \n",
       "70050           KNB    Product P  40 / B / FtO  DB-5D5-1F5-964-6-F33469E   \n",
       "70051           WHX    Product P  38 / C / FtO  1C-F31-5C5-A71-9-E27F89C   \n",
       "\n",
       "       variant_id  customer_id        order_id        day  net_quantity  \\\n",
       "70049    29857030      1201357  26287500138156 2018-11-19            -3   \n",
       "70050    81507405      9368488  59112081344038 2019-04-08            -3   \n",
       "70051    23625707      7861225  34850379713899 2019-01-02            -3   \n",
       "\n",
       "       gross_sales  discounts  returns  net_sales  taxes  total_sales  \\\n",
       "70049          0.0        0.0  -222.50    -222.50  -44.5       -267.0   \n",
       "70050          0.0        0.0  -237.49    -237.49  -47.5       -285.0   \n",
       "70051          0.0        0.0  -237.50    -237.50  -47.5       -285.0   \n",
       "\n",
       "       returned_item_quantity  ordered_item_quantity  \n",
       "70049                      -3                      0  \n",
       "70050                      -3                      0  \n",
       "70051                      -3                      0  "
      ]
     },
     "execution_count": 7,
     "metadata": {},
     "output_type": "execute_result"
    }
   ],
   "source": [
    "df.tail(3)"
   ]
  },
  {
   "cell_type": "code",
   "execution_count": 8,
   "metadata": {
    "colab": {
     "base_uri": "https://localhost:8080/"
    },
    "executionInfo": {
     "elapsed": 77,
     "status": "ok",
     "timestamp": 1742788507659,
     "user": {
      "displayName": "Phuong Khuat Thuy",
      "userId": "16807426118474640783"
     },
     "user_tz": -420
    },
    "id": "0uEh7t1FTJer",
    "outputId": "12a54ee8-e25e-4330-86e1-e0f4bd4bbe24"
   },
   "outputs": [
    {
     "name": "stdout",
     "output_type": "stream",
     "text": [
      "Transactions timeframe from 2018-11-01 00:00:00 to 2019-04-30 00:00:00\n",
      "0 transactions don't have a customer id\n",
      "25,543 unique customer_id\n"
     ]
    }
   ],
   "source": [
    "# Let’s take a closer look at the data we will need to manipulate.\n",
    "print('Transactions timeframe from {} to {}'.format(df['day'].min(), df['day'].max()))\n",
    "print('{:,} transactions don\\'t have a customer id'.format(df[df.customer_id.isnull()].shape[0]))\n",
    "print('{:,} unique customer_id'.format(len(df.customer_id.unique())))"
   ]
  },
  {
   "cell_type": "markdown",
   "metadata": {
    "id": "vljEBO9Vsb7W"
   },
   "source": [
    "## RFM"
   ]
  },
  {
   "cell_type": "markdown",
   "metadata": {
    "id": "E_Kym2--TJes"
   },
   "source": [
    "### Create RFM analysis for each customers"
   ]
  },
  {
   "cell_type": "code",
   "execution_count": 9,
   "metadata": {
    "id": "OZFii_SmTJes"
   },
   "outputs": [],
   "source": [
    "# RFM\n",
    "# Convert string to date, get max date of dataframe\n",
    "max_date = df['day'].max().date()\n",
    "\n",
    "Recency = lambda x : (max_date - x.max().date()).days\n",
    "Frequency  = lambda x: len(x.unique())\n",
    "Monetary = lambda x : round(sum(x), 2)\n",
    "\n",
    "df_RFM = df.groupby('customer_id').agg({'day': Recency,\n",
    "                                        'order_id': Frequency,\n",
    "                                        'gross_sales': Monetary })"
   ]
  },
  {
   "cell_type": "code",
   "execution_count": 10,
   "metadata": {
    "colab": {
     "base_uri": "https://localhost:8080/",
     "height": 237
    },
    "executionInfo": {
     "elapsed": 5,
     "status": "ok",
     "timestamp": 1742788562430,
     "user": {
      "displayName": "Phuong Khuat Thuy",
      "userId": "16807426118474640783"
     },
     "user_tz": -420
    },
    "id": "ym1Nuy0TTJet",
    "outputId": "74b96d42-0b1b-4361-e0dd-7e67d0cdf434"
   },
   "outputs": [
    {
     "data": {
      "text/html": [
       "<div>\n",
       "<style scoped>\n",
       "    .dataframe tbody tr th:only-of-type {\n",
       "        vertical-align: middle;\n",
       "    }\n",
       "\n",
       "    .dataframe tbody tr th {\n",
       "        vertical-align: top;\n",
       "    }\n",
       "\n",
       "    .dataframe thead th {\n",
       "        text-align: right;\n",
       "    }\n",
       "</style>\n",
       "<table border=\"1\" class=\"dataframe\">\n",
       "  <thead>\n",
       "    <tr style=\"text-align: right;\">\n",
       "      <th></th>\n",
       "      <th>day</th>\n",
       "      <th>order_id</th>\n",
       "      <th>gross_sales</th>\n",
       "    </tr>\n",
       "    <tr>\n",
       "      <th>customer_id</th>\n",
       "      <th></th>\n",
       "      <th></th>\n",
       "      <th></th>\n",
       "    </tr>\n",
       "  </thead>\n",
       "  <tbody>\n",
       "    <tr>\n",
       "      <th>1000661</th>\n",
       "      <td>141</td>\n",
       "      <td>1</td>\n",
       "      <td>237.53</td>\n",
       "    </tr>\n",
       "    <tr>\n",
       "      <th>1001914</th>\n",
       "      <td>158</td>\n",
       "      <td>1</td>\n",
       "      <td>82.50</td>\n",
       "    </tr>\n",
       "    <tr>\n",
       "      <th>1002167</th>\n",
       "      <td>53</td>\n",
       "      <td>4</td>\n",
       "      <td>211.67</td>\n",
       "    </tr>\n",
       "    <tr>\n",
       "      <th>1002387</th>\n",
       "      <td>44</td>\n",
       "      <td>1</td>\n",
       "      <td>74.17</td>\n",
       "    </tr>\n",
       "    <tr>\n",
       "      <th>1002419</th>\n",
       "      <td>95</td>\n",
       "      <td>1</td>\n",
       "      <td>106.67</td>\n",
       "    </tr>\n",
       "  </tbody>\n",
       "</table>\n",
       "</div>"
      ],
      "text/plain": [
       "             day  order_id  gross_sales\n",
       "customer_id                            \n",
       "1000661      141         1       237.53\n",
       "1001914      158         1        82.50\n",
       "1002167       53         4       211.67\n",
       "1002387       44         1        74.17\n",
       "1002419       95         1       106.67"
      ]
     },
     "execution_count": 10,
     "metadata": {},
     "output_type": "execute_result"
    }
   ],
   "source": [
    "df_RFM.head()"
   ]
  },
  {
   "cell_type": "code",
   "execution_count": 11,
   "metadata": {
    "id": "dEY24Q45TJet"
   },
   "outputs": [],
   "source": [
    "# Rename the columns of DataFrame\n",
    "df_RFM.columns = ['Recency', 'Frequency', 'Monetary']\n",
    "# Descending Sorting\n",
    "df_RFM = df_RFM.sort_values('Monetary', ascending=False)"
   ]
  },
  {
   "cell_type": "code",
   "execution_count": 12,
   "metadata": {
    "colab": {
     "base_uri": "https://localhost:8080/",
     "height": 237
    },
    "executionInfo": {
     "elapsed": 78,
     "status": "ok",
     "timestamp": 1742788584281,
     "user": {
      "displayName": "Phuong Khuat Thuy",
      "userId": "16807426118474640783"
     },
     "user_tz": -420
    },
    "id": "3QyDO8D5TJeu",
    "outputId": "4f566d49-cb07-4f56-d59f-f39a24aeed24"
   },
   "outputs": [
    {
     "data": {
      "text/html": [
       "<div>\n",
       "<style scoped>\n",
       "    .dataframe tbody tr th:only-of-type {\n",
       "        vertical-align: middle;\n",
       "    }\n",
       "\n",
       "    .dataframe tbody tr th {\n",
       "        vertical-align: top;\n",
       "    }\n",
       "\n",
       "    .dataframe thead th {\n",
       "        text-align: right;\n",
       "    }\n",
       "</style>\n",
       "<table border=\"1\" class=\"dataframe\">\n",
       "  <thead>\n",
       "    <tr style=\"text-align: right;\">\n",
       "      <th></th>\n",
       "      <th>Recency</th>\n",
       "      <th>Frequency</th>\n",
       "      <th>Monetary</th>\n",
       "    </tr>\n",
       "    <tr>\n",
       "      <th>customer_id</th>\n",
       "      <th></th>\n",
       "      <th></th>\n",
       "      <th></th>\n",
       "    </tr>\n",
       "  </thead>\n",
       "  <tbody>\n",
       "    <tr>\n",
       "      <th>8325158</th>\n",
       "      <td>4</td>\n",
       "      <td>17</td>\n",
       "      <td>2812.58</td>\n",
       "    </tr>\n",
       "    <tr>\n",
       "      <th>2028611</th>\n",
       "      <td>98</td>\n",
       "      <td>17</td>\n",
       "      <td>2661.72</td>\n",
       "    </tr>\n",
       "    <tr>\n",
       "      <th>6578818</th>\n",
       "      <td>5</td>\n",
       "      <td>16</td>\n",
       "      <td>2486.73</td>\n",
       "    </tr>\n",
       "    <tr>\n",
       "      <th>7843272</th>\n",
       "      <td>0</td>\n",
       "      <td>20</td>\n",
       "      <td>2325.06</td>\n",
       "    </tr>\n",
       "    <tr>\n",
       "      <th>8032770</th>\n",
       "      <td>50</td>\n",
       "      <td>13</td>\n",
       "      <td>2065.88</td>\n",
       "    </tr>\n",
       "  </tbody>\n",
       "</table>\n",
       "</div>"
      ],
      "text/plain": [
       "             Recency  Frequency  Monetary\n",
       "customer_id                              \n",
       "8325158            4         17   2812.58\n",
       "2028611           98         17   2661.72\n",
       "6578818            5         16   2486.73\n",
       "7843272            0         20   2325.06\n",
       "8032770           50         13   2065.88"
      ]
     },
     "execution_count": 12,
     "metadata": {},
     "output_type": "execute_result"
    }
   ],
   "source": [
    "df_RFM.head()"
   ]
  },
  {
   "cell_type": "code",
   "execution_count": 13,
   "metadata": {
    "colab": {
     "base_uri": "https://localhost:8080/"
    },
    "executionInfo": {
     "elapsed": 64,
     "status": "ok",
     "timestamp": 1742788589900,
     "user": {
      "displayName": "Phuong Khuat Thuy",
      "userId": "16807426118474640783"
     },
     "user_tz": -420
    },
    "id": "4Sr9zwuQfUqU",
    "outputId": "c927e4ad-7dbd-488d-a45e-74eb8a5dd8b1"
   },
   "outputs": [
    {
     "data": {
      "text/plain": [
       "(25543, 3)"
      ]
     },
     "execution_count": 13,
     "metadata": {},
     "output_type": "execute_result"
    }
   ],
   "source": [
    "df_RFM.shape"
   ]
  },
  {
   "cell_type": "code",
   "execution_count": 14,
   "metadata": {
    "colab": {
     "base_uri": "https://localhost:8080/",
     "height": 487
    },
    "executionInfo": {
     "elapsed": 427,
     "status": "ok",
     "timestamp": 1742788596740,
     "user": {
      "displayName": "Phuong Khuat Thuy",
      "userId": "16807426118474640783"
     },
     "user_tz": -420
    },
    "id": "eHHMcIzpTJeu",
    "outputId": "37e3290a-4bad-48a4-ab28-1eb083c18fa0"
   },
   "outputs": [
    {
     "data": {
      "image/png": "[encoded data removed]",
      "text/plain": [
       "<Figure size 640x480 with 3 Axes>"
      ]
     },
     "metadata": {},
     "output_type": "display_data"
    }
   ],
   "source": [
    "# Vẽ phân phối của 'Recency'\n",
    "plt.subplot(3, 1, 1) # 3 hàng, 1 cột, vị trí thứ nhất\n",
    "plt.hist(df_RFM['Recency'], bins=20, edgecolor='black') # Chọn số lượng bins phù hợp\n",
    "plt.title('Distribution of Recency')\n",
    "plt.xlabel('Recency')\n",
    "\n",
    "# Vẽ phân phối của 'Frequency'\n",
    "plt.subplot(3, 1, 2) # 3 hàng, 1 cột, vị trí thứ hai\n",
    "plt.hist(df_RFM['Frequency'], bins=20, edgecolor='black') # Chọn số lượng bins phù hợp\n",
    "plt.title('Distribution of Frequency')\n",
    "plt.xlabel('Frequency')\n",
    "\n",
    "# Vẽ phân phối của 'Monetary'\n",
    "plt.subplot(3, 1, 3) # 3 hàng, 1 cột, vị trí thứ ba\n",
    "plt.hist(df_RFM['Monetary'], bins=20, edgecolor='black') # Chọn số lượng bins phù hợp\n",
    "plt.title('Distribution of Monetary')\n",
    "plt.xlabel('Monetary')\n",
    "\n",
    "plt.tight_layout()\n",
    "plt.show()"
   ]
  },
  {
   "cell_type": "code",
   "execution_count": 15,
   "metadata": {
    "id": "9e-8_kgfTJev"
   },
   "outputs": [],
   "source": [
    "# Frequency, Monetary: right skew\n",
    "# Nhận xét các biều đồ"
   ]
  },
  {
   "cell_type": "markdown",
   "metadata": {
    "id": "em109FSsTJev"
   },
   "source": [
    "### Calculate RFM quartiles"
   ]
  },
  {
   "cell_type": "code",
   "execution_count": 16,
   "metadata": {
    "id": "-_4CzNiNTJev"
   },
   "outputs": [],
   "source": [
    "# Create labels for Recency, Frequency, Monetary\n",
    "r_labels = range(4, 0, -1) # số ngày tính từ lần cuối mua hàng lớn thì gán nhãn nhỏ, ngược lại thì nhãn lớn\n",
    "f_labels = range(1, 5)\n",
    "m_labels = range(1, 5)"
   ]
  },
  {
   "cell_type": "code",
   "execution_count": 17,
   "metadata": {
    "colab": {
     "base_uri": "https://localhost:8080/"
    },
    "executionInfo": {
     "elapsed": 60,
     "status": "ok",
     "timestamp": 1742788625172,
     "user": {
      "displayName": "Phuong Khuat Thuy",
      "userId": "16807426118474640783"
     },
     "user_tz": -420
    },
    "id": "dgWNvei3TJev",
    "outputId": "f7014752-266c-4d21-dcac-624f0e3599b2"
   },
   "outputs": [
    {
     "data": {
      "text/plain": [
       "[4, 3, 2, 1]"
      ]
     },
     "execution_count": 17,
     "metadata": {},
     "output_type": "execute_result"
    }
   ],
   "source": [
    "[*r_labels]"
   ]
  },
  {
   "cell_type": "code",
   "execution_count": 18,
   "metadata": {
    "id": "xOFEvYVrTJew"
   },
   "outputs": [],
   "source": [
    "# Assign these labels to 4 equal percentile groups\n",
    "r_groups = pd.qcut(df_RFM['Recency'].rank(method='first'), q=4, labels=r_labels)\n",
    "\n",
    "f_groups = pd.qcut(df_RFM['Frequency'].rank(method='first'), q=4, labels=f_labels)\n",
    "\n",
    "m_groups = pd.qcut(df_RFM['Monetary'].rank(method='first'), q=4, labels=m_labels)"
   ]
  },
  {
   "cell_type": "code",
   "execution_count": 19,
   "metadata": {
    "colab": {
     "base_uri": "https://localhost:8080/",
     "height": 237
    },
    "executionInfo": {
     "elapsed": 85,
     "status": "ok",
     "timestamp": 1742788639616,
     "user": {
      "displayName": "Phuong Khuat Thuy",
      "userId": "16807426118474640783"
     },
     "user_tz": -420
    },
    "id": "UqnY6x2TTJew",
    "outputId": "c7c42fef-35d6-4755-949f-bc286776f367"
   },
   "outputs": [
    {
     "data": {
      "text/html": [
       "<div>\n",
       "<style scoped>\n",
       "    .dataframe tbody tr th:only-of-type {\n",
       "        vertical-align: middle;\n",
       "    }\n",
       "\n",
       "    .dataframe tbody tr th {\n",
       "        vertical-align: top;\n",
       "    }\n",
       "\n",
       "    .dataframe thead th {\n",
       "        text-align: right;\n",
       "    }\n",
       "</style>\n",
       "<table border=\"1\" class=\"dataframe\">\n",
       "  <thead>\n",
       "    <tr style=\"text-align: right;\">\n",
       "      <th></th>\n",
       "      <th>Recency</th>\n",
       "      <th>Frequency</th>\n",
       "      <th>Monetary</th>\n",
       "      <th>R</th>\n",
       "      <th>F</th>\n",
       "      <th>M</th>\n",
       "    </tr>\n",
       "    <tr>\n",
       "      <th>customer_id</th>\n",
       "      <th></th>\n",
       "      <th></th>\n",
       "      <th></th>\n",
       "      <th></th>\n",
       "      <th></th>\n",
       "      <th></th>\n",
       "    </tr>\n",
       "  </thead>\n",
       "  <tbody>\n",
       "    <tr>\n",
       "      <th>8325158</th>\n",
       "      <td>4</td>\n",
       "      <td>17</td>\n",
       "      <td>2812.58</td>\n",
       "      <td>4</td>\n",
       "      <td>4</td>\n",
       "      <td>4</td>\n",
       "    </tr>\n",
       "    <tr>\n",
       "      <th>2028611</th>\n",
       "      <td>98</td>\n",
       "      <td>17</td>\n",
       "      <td>2661.72</td>\n",
       "      <td>2</td>\n",
       "      <td>4</td>\n",
       "      <td>4</td>\n",
       "    </tr>\n",
       "    <tr>\n",
       "      <th>6578818</th>\n",
       "      <td>5</td>\n",
       "      <td>16</td>\n",
       "      <td>2486.73</td>\n",
       "      <td>4</td>\n",
       "      <td>4</td>\n",
       "      <td>4</td>\n",
       "    </tr>\n",
       "    <tr>\n",
       "      <th>7843272</th>\n",
       "      <td>0</td>\n",
       "      <td>20</td>\n",
       "      <td>2325.06</td>\n",
       "      <td>4</td>\n",
       "      <td>4</td>\n",
       "      <td>4</td>\n",
       "    </tr>\n",
       "    <tr>\n",
       "      <th>8032770</th>\n",
       "      <td>50</td>\n",
       "      <td>13</td>\n",
       "      <td>2065.88</td>\n",
       "      <td>3</td>\n",
       "      <td>4</td>\n",
       "      <td>4</td>\n",
       "    </tr>\n",
       "  </tbody>\n",
       "</table>\n",
       "</div>"
      ],
      "text/plain": [
       "             Recency  Frequency  Monetary  R  F  M\n",
       "customer_id                                       \n",
       "8325158            4         17   2812.58  4  4  4\n",
       "2028611           98         17   2661.72  2  4  4\n",
       "6578818            5         16   2486.73  4  4  4\n",
       "7843272            0         20   2325.06  4  4  4\n",
       "8032770           50         13   2065.88  3  4  4"
      ]
     },
     "execution_count": 19,
     "metadata": {},
     "output_type": "execute_result"
    }
   ],
   "source": [
    "# Create new columns R, F, M\n",
    "df_RFM = df_RFM.assign(R = r_groups.values, F = f_groups.values,  M = m_groups.values)\n",
    "df_RFM.head()"
   ]
  },
  {
   "cell_type": "markdown",
   "metadata": {
    "id": "CDYtkQouTJew"
   },
   "source": [
    "### Concat RFM quartile values to create RFM Segments"
   ]
  },
  {
   "cell_type": "code",
   "execution_count": 20,
   "metadata": {
    "id": "Dq-290z4TJex"
   },
   "outputs": [],
   "source": [
    "def join_rfm(x): return str(int(x['R'])) + str(int(x['F'])) + str(int(x['M']))\n",
    "df_RFM['RFM_Segment'] = df_RFM.apply(join_rfm, axis=1)"
   ]
  },
  {
   "cell_type": "code",
   "execution_count": 21,
   "metadata": {
    "colab": {
     "base_uri": "https://localhost:8080/",
     "height": 237
    },
    "executionInfo": {
     "elapsed": 98,
     "status": "ok",
     "timestamp": 1742788657087,
     "user": {
      "displayName": "Phuong Khuat Thuy",
      "userId": "16807426118474640783"
     },
     "user_tz": -420
    },
    "id": "0NMfh3uPTJex",
    "outputId": "81a6a997-bf03-4e77-8163-5a3aba0d532f"
   },
   "outputs": [
    {
     "data": {
      "text/html": [
       "<div>\n",
       "<style scoped>\n",
       "    .dataframe tbody tr th:only-of-type {\n",
       "        vertical-align: middle;\n",
       "    }\n",
       "\n",
       "    .dataframe tbody tr th {\n",
       "        vertical-align: top;\n",
       "    }\n",
       "\n",
       "    .dataframe thead th {\n",
       "        text-align: right;\n",
       "    }\n",
       "</style>\n",
       "<table border=\"1\" class=\"dataframe\">\n",
       "  <thead>\n",
       "    <tr style=\"text-align: right;\">\n",
       "      <th></th>\n",
       "      <th>Recency</th>\n",
       "      <th>Frequency</th>\n",
       "      <th>Monetary</th>\n",
       "      <th>R</th>\n",
       "      <th>F</th>\n",
       "      <th>M</th>\n",
       "      <th>RFM_Segment</th>\n",
       "    </tr>\n",
       "    <tr>\n",
       "      <th>customer_id</th>\n",
       "      <th></th>\n",
       "      <th></th>\n",
       "      <th></th>\n",
       "      <th></th>\n",
       "      <th></th>\n",
       "      <th></th>\n",
       "      <th></th>\n",
       "    </tr>\n",
       "  </thead>\n",
       "  <tbody>\n",
       "    <tr>\n",
       "      <th>8325158</th>\n",
       "      <td>4</td>\n",
       "      <td>17</td>\n",
       "      <td>2812.58</td>\n",
       "      <td>4</td>\n",
       "      <td>4</td>\n",
       "      <td>4</td>\n",
       "      <td>444</td>\n",
       "    </tr>\n",
       "    <tr>\n",
       "      <th>2028611</th>\n",
       "      <td>98</td>\n",
       "      <td>17</td>\n",
       "      <td>2661.72</td>\n",
       "      <td>2</td>\n",
       "      <td>4</td>\n",
       "      <td>4</td>\n",
       "      <td>244</td>\n",
       "    </tr>\n",
       "    <tr>\n",
       "      <th>6578818</th>\n",
       "      <td>5</td>\n",
       "      <td>16</td>\n",
       "      <td>2486.73</td>\n",
       "      <td>4</td>\n",
       "      <td>4</td>\n",
       "      <td>4</td>\n",
       "      <td>444</td>\n",
       "    </tr>\n",
       "    <tr>\n",
       "      <th>7843272</th>\n",
       "      <td>0</td>\n",
       "      <td>20</td>\n",
       "      <td>2325.06</td>\n",
       "      <td>4</td>\n",
       "      <td>4</td>\n",
       "      <td>4</td>\n",
       "      <td>444</td>\n",
       "    </tr>\n",
       "    <tr>\n",
       "      <th>8032770</th>\n",
       "      <td>50</td>\n",
       "      <td>13</td>\n",
       "      <td>2065.88</td>\n",
       "      <td>3</td>\n",
       "      <td>4</td>\n",
       "      <td>4</td>\n",
       "      <td>344</td>\n",
       "    </tr>\n",
       "  </tbody>\n",
       "</table>\n",
       "</div>"
      ],
      "text/plain": [
       "             Recency  Frequency  Monetary  R  F  M RFM_Segment\n",
       "customer_id                                                   \n",
       "8325158            4         17   2812.58  4  4  4         444\n",
       "2028611           98         17   2661.72  2  4  4         244\n",
       "6578818            5         16   2486.73  4  4  4         444\n",
       "7843272            0         20   2325.06  4  4  4         444\n",
       "8032770           50         13   2065.88  3  4  4         344"
      ]
     },
     "execution_count": 21,
     "metadata": {},
     "output_type": "execute_result"
    }
   ],
   "source": [
    "df_RFM.head()"
   ]
  },
  {
   "cell_type": "markdown",
   "metadata": {
    "id": "cxJ0s75mTJex"
   },
   "source": [
    "#### Count num of unique segments"
   ]
  },
  {
   "cell_type": "code",
   "execution_count": 22,
   "metadata": {
    "id": "5w5uvnbuTJey"
   },
   "outputs": [],
   "source": [
    "rfm_count_unique = df_RFM.groupby('RFM_Segment')['RFM_Segment'].nunique()"
   ]
  },
  {
   "cell_type": "code",
   "execution_count": 23,
   "metadata": {
    "colab": {
     "base_uri": "https://localhost:8080/"
    },
    "executionInfo": {
     "elapsed": 64,
     "status": "ok",
     "timestamp": 1742788671237,
     "user": {
      "displayName": "Phuong Khuat Thuy",
      "userId": "16807426118474640783"
     },
     "user_tz": -420
    },
    "id": "vrHsKLLOTJey",
    "outputId": "409195eb-7d91-4619-b952-1ab364754214"
   },
   "outputs": [
    {
     "name": "stdout",
     "output_type": "stream",
     "text": [
      "48\n"
     ]
    }
   ],
   "source": [
    "print(rfm_count_unique.sum())"
   ]
  },
  {
   "cell_type": "markdown",
   "metadata": {
    "id": "j2tTltTFTJey"
   },
   "source": [
    "- Having 48 different segments using the concatenate method quickly becomes unwieldy for any practical use. We will need a more concise way to define our segments."
   ]
  },
  {
   "cell_type": "markdown",
   "metadata": {
    "id": "VXnQKlnWTJey"
   },
   "source": [
    "#### Calculate RFM score and level"
   ]
  },
  {
   "cell_type": "code",
   "execution_count": 24,
   "metadata": {
    "colab": {
     "base_uri": "https://localhost:8080/",
     "height": 237
    },
    "executionInfo": {
     "elapsed": 84,
     "status": "ok",
     "timestamp": 1742788677653,
     "user": {
      "displayName": "Phuong Khuat Thuy",
      "userId": "16807426118474640783"
     },
     "user_tz": -420
    },
    "id": "Q9mgD5cpTJey",
    "outputId": "9154b561-4274-42a4-9c00-725978a5e91a"
   },
   "outputs": [
    {
     "data": {
      "text/html": [
       "<div>\n",
       "<style scoped>\n",
       "    .dataframe tbody tr th:only-of-type {\n",
       "        vertical-align: middle;\n",
       "    }\n",
       "\n",
       "    .dataframe tbody tr th {\n",
       "        vertical-align: top;\n",
       "    }\n",
       "\n",
       "    .dataframe thead th {\n",
       "        text-align: right;\n",
       "    }\n",
       "</style>\n",
       "<table border=\"1\" class=\"dataframe\">\n",
       "  <thead>\n",
       "    <tr style=\"text-align: right;\">\n",
       "      <th></th>\n",
       "      <th>Recency</th>\n",
       "      <th>Frequency</th>\n",
       "      <th>Monetary</th>\n",
       "      <th>R</th>\n",
       "      <th>F</th>\n",
       "      <th>M</th>\n",
       "      <th>RFM_Segment</th>\n",
       "      <th>RFM_Score</th>\n",
       "    </tr>\n",
       "    <tr>\n",
       "      <th>customer_id</th>\n",
       "      <th></th>\n",
       "      <th></th>\n",
       "      <th></th>\n",
       "      <th></th>\n",
       "      <th></th>\n",
       "      <th></th>\n",
       "      <th></th>\n",
       "      <th></th>\n",
       "    </tr>\n",
       "  </thead>\n",
       "  <tbody>\n",
       "    <tr>\n",
       "      <th>8325158</th>\n",
       "      <td>4</td>\n",
       "      <td>17</td>\n",
       "      <td>2812.58</td>\n",
       "      <td>4</td>\n",
       "      <td>4</td>\n",
       "      <td>4</td>\n",
       "      <td>444</td>\n",
       "      <td>12</td>\n",
       "    </tr>\n",
       "    <tr>\n",
       "      <th>2028611</th>\n",
       "      <td>98</td>\n",
       "      <td>17</td>\n",
       "      <td>2661.72</td>\n",
       "      <td>2</td>\n",
       "      <td>4</td>\n",
       "      <td>4</td>\n",
       "      <td>244</td>\n",
       "      <td>10</td>\n",
       "    </tr>\n",
       "    <tr>\n",
       "      <th>6578818</th>\n",
       "      <td>5</td>\n",
       "      <td>16</td>\n",
       "      <td>2486.73</td>\n",
       "      <td>4</td>\n",
       "      <td>4</td>\n",
       "      <td>4</td>\n",
       "      <td>444</td>\n",
       "      <td>12</td>\n",
       "    </tr>\n",
       "    <tr>\n",
       "      <th>7843272</th>\n",
       "      <td>0</td>\n",
       "      <td>20</td>\n",
       "      <td>2325.06</td>\n",
       "      <td>4</td>\n",
       "      <td>4</td>\n",
       "      <td>4</td>\n",
       "      <td>444</td>\n",
       "      <td>12</td>\n",
       "    </tr>\n",
       "    <tr>\n",
       "      <th>8032770</th>\n",
       "      <td>50</td>\n",
       "      <td>13</td>\n",
       "      <td>2065.88</td>\n",
       "      <td>3</td>\n",
       "      <td>4</td>\n",
       "      <td>4</td>\n",
       "      <td>344</td>\n",
       "      <td>11</td>\n",
       "    </tr>\n",
       "  </tbody>\n",
       "</table>\n",
       "</div>"
      ],
      "text/plain": [
       "             Recency  Frequency  Monetary  R  F  M RFM_Segment  RFM_Score\n",
       "customer_id                                                              \n",
       "8325158            4         17   2812.58  4  4  4         444         12\n",
       "2028611           98         17   2661.72  2  4  4         244         10\n",
       "6578818            5         16   2486.73  4  4  4         444         12\n",
       "7843272            0         20   2325.06  4  4  4         444         12\n",
       "8032770           50         13   2065.88  3  4  4         344         11"
      ]
     },
     "execution_count": 24,
     "metadata": {},
     "output_type": "execute_result"
    }
   ],
   "source": [
    "# Calculate RFM_Score\n",
    "df_RFM['RFM_Score'] = df_RFM[['R','F','M']].sum(axis=1)\n",
    "df_RFM.head()"
   ]
  },
  {
   "cell_type": "markdown",
   "metadata": {
    "id": "kgo96J2BTJez"
   },
   "source": [
    "### Manual Segmentation"
   ]
  },
  {
   "cell_type": "code",
   "execution_count": 25,
   "metadata": {
    "id": "rFc-GieIneeh"
   },
   "outputs": [],
   "source": [
    "def rfm_level(df):\n",
    "    # Check for special 'STARS' and 'NEW' conditions first\n",
    "    if df['RFM_Score'] == 12:\n",
    "        return 'STARS'\n",
    "    elif df['R'] == 4 and df['F'] == 1 and df['M'] == 1:\n",
    "        return 'NEW'\n",
    "    # Then check for other conditions\n",
    "    elif df['M'] == 4:\n",
    "        return 'BIG SPENDER'\n",
    "    elif df['F'] == 4:\n",
    "        return 'LOYAL'\n",
    "    elif df['R'] == 4:\n",
    "        return 'ACTIVE'\n",
    "    elif df['R'] == 1:\n",
    "        return 'LOST'\n",
    "    elif df['M'] == 1:\n",
    "        return 'LIGHT'\n",
    "    else:\n",
    "        return 'REGULARS'"
   ]
  },
  {
   "cell_type": "code",
   "execution_count": 26,
   "metadata": {
    "id": "pYQTgSfhTJez"
   },
   "outputs": [],
   "source": [
    "# Create a new column RFM_Level\n",
    "df_RFM['RFM_Level'] = df_RFM.apply(rfm_level, axis=1)"
   ]
  },
  {
   "cell_type": "code",
   "execution_count": 27,
   "metadata": {
    "colab": {
     "base_uri": "https://localhost:8080/",
     "height": 237
    },
    "executionInfo": {
     "elapsed": 84,
     "status": "ok",
     "timestamp": 1742788701293,
     "user": {
      "displayName": "Phuong Khuat Thuy",
      "userId": "16807426118474640783"
     },
     "user_tz": -420
    },
    "id": "idKmVCRtTJez",
    "outputId": "fdd559cc-5b7e-4bc7-8016-03b7eeaded9b"
   },
   "outputs": [
    {
     "data": {
      "text/html": [
       "<div>\n",
       "<style scoped>\n",
       "    .dataframe tbody tr th:only-of-type {\n",
       "        vertical-align: middle;\n",
       "    }\n",
       "\n",
       "    .dataframe tbody tr th {\n",
       "        vertical-align: top;\n",
       "    }\n",
       "\n",
       "    .dataframe thead th {\n",
       "        text-align: right;\n",
       "    }\n",
       "</style>\n",
       "<table border=\"1\" class=\"dataframe\">\n",
       "  <thead>\n",
       "    <tr style=\"text-align: right;\">\n",
       "      <th></th>\n",
       "      <th>Recency</th>\n",
       "      <th>Frequency</th>\n",
       "      <th>Monetary</th>\n",
       "      <th>R</th>\n",
       "      <th>F</th>\n",
       "      <th>M</th>\n",
       "      <th>RFM_Segment</th>\n",
       "      <th>RFM_Score</th>\n",
       "      <th>RFM_Level</th>\n",
       "    </tr>\n",
       "    <tr>\n",
       "      <th>customer_id</th>\n",
       "      <th></th>\n",
       "      <th></th>\n",
       "      <th></th>\n",
       "      <th></th>\n",
       "      <th></th>\n",
       "      <th></th>\n",
       "      <th></th>\n",
       "      <th></th>\n",
       "      <th></th>\n",
       "    </tr>\n",
       "  </thead>\n",
       "  <tbody>\n",
       "    <tr>\n",
       "      <th>8325158</th>\n",
       "      <td>4</td>\n",
       "      <td>17</td>\n",
       "      <td>2812.58</td>\n",
       "      <td>4</td>\n",
       "      <td>4</td>\n",
       "      <td>4</td>\n",
       "      <td>444</td>\n",
       "      <td>12</td>\n",
       "      <td>STARS</td>\n",
       "    </tr>\n",
       "    <tr>\n",
       "      <th>2028611</th>\n",
       "      <td>98</td>\n",
       "      <td>17</td>\n",
       "      <td>2661.72</td>\n",
       "      <td>2</td>\n",
       "      <td>4</td>\n",
       "      <td>4</td>\n",
       "      <td>244</td>\n",
       "      <td>10</td>\n",
       "      <td>BIG SPENDER</td>\n",
       "    </tr>\n",
       "    <tr>\n",
       "      <th>6578818</th>\n",
       "      <td>5</td>\n",
       "      <td>16</td>\n",
       "      <td>2486.73</td>\n",
       "      <td>4</td>\n",
       "      <td>4</td>\n",
       "      <td>4</td>\n",
       "      <td>444</td>\n",
       "      <td>12</td>\n",
       "      <td>STARS</td>\n",
       "    </tr>\n",
       "    <tr>\n",
       "      <th>7843272</th>\n",
       "      <td>0</td>\n",
       "      <td>20</td>\n",
       "      <td>2325.06</td>\n",
       "      <td>4</td>\n",
       "      <td>4</td>\n",
       "      <td>4</td>\n",
       "      <td>444</td>\n",
       "      <td>12</td>\n",
       "      <td>STARS</td>\n",
       "    </tr>\n",
       "    <tr>\n",
       "      <th>8032770</th>\n",
       "      <td>50</td>\n",
       "      <td>13</td>\n",
       "      <td>2065.88</td>\n",
       "      <td>3</td>\n",
       "      <td>4</td>\n",
       "      <td>4</td>\n",
       "      <td>344</td>\n",
       "      <td>11</td>\n",
       "      <td>BIG SPENDER</td>\n",
       "    </tr>\n",
       "  </tbody>\n",
       "</table>\n",
       "</div>"
      ],
      "text/plain": [
       "             Recency  Frequency  Monetary  R  F  M RFM_Segment  RFM_Score  \\\n",
       "customer_id                                                                 \n",
       "8325158            4         17   2812.58  4  4  4         444         12   \n",
       "2028611           98         17   2661.72  2  4  4         244         10   \n",
       "6578818            5         16   2486.73  4  4  4         444         12   \n",
       "7843272            0         20   2325.06  4  4  4         444         12   \n",
       "8032770           50         13   2065.88  3  4  4         344         11   \n",
       "\n",
       "               RFM_Level  \n",
       "customer_id               \n",
       "8325158            STARS  \n",
       "2028611      BIG SPENDER  \n",
       "6578818            STARS  \n",
       "7843272            STARS  \n",
       "8032770      BIG SPENDER  "
      ]
     },
     "execution_count": 27,
     "metadata": {},
     "output_type": "execute_result"
    }
   ],
   "source": [
    "df_RFM.head()"
   ]
  },
  {
   "cell_type": "code",
   "execution_count": 28,
   "metadata": {
    "colab": {
     "base_uri": "https://localhost:8080/",
     "height": 488
    },
    "executionInfo": {
     "elapsed": 77,
     "status": "ok",
     "timestamp": 1742788705764,
     "user": {
      "displayName": "Phuong Khuat Thuy",
      "userId": "16807426118474640783"
     },
     "user_tz": -420
    },
    "id": "A84b6UcpTJez",
    "outputId": "dc80dce0-7bcd-47b0-ffc5-02d38ffc1b98"
   },
   "outputs": [
    {
     "data": {
      "text/html": [
       "<div>\n",
       "<style scoped>\n",
       "    .dataframe tbody tr th:only-of-type {\n",
       "        vertical-align: middle;\n",
       "    }\n",
       "\n",
       "    .dataframe tbody tr th {\n",
       "        vertical-align: top;\n",
       "    }\n",
       "\n",
       "    .dataframe thead th {\n",
       "        text-align: right;\n",
       "    }\n",
       "</style>\n",
       "<table border=\"1\" class=\"dataframe\">\n",
       "  <thead>\n",
       "    <tr style=\"text-align: right;\">\n",
       "      <th></th>\n",
       "      <th>Recency</th>\n",
       "      <th>Frequency</th>\n",
       "      <th>Monetary</th>\n",
       "      <th>R</th>\n",
       "      <th>F</th>\n",
       "      <th>M</th>\n",
       "      <th>RFM_Segment</th>\n",
       "      <th>RFM_Score</th>\n",
       "      <th>RFM_Level</th>\n",
       "    </tr>\n",
       "    <tr>\n",
       "      <th>customer_id</th>\n",
       "      <th></th>\n",
       "      <th></th>\n",
       "      <th></th>\n",
       "      <th></th>\n",
       "      <th></th>\n",
       "      <th></th>\n",
       "      <th></th>\n",
       "      <th></th>\n",
       "      <th></th>\n",
       "    </tr>\n",
       "  </thead>\n",
       "  <tbody>\n",
       "    <tr>\n",
       "      <th>8325158</th>\n",
       "      <td>4</td>\n",
       "      <td>17</td>\n",
       "      <td>2812.58</td>\n",
       "      <td>4</td>\n",
       "      <td>4</td>\n",
       "      <td>4</td>\n",
       "      <td>444</td>\n",
       "      <td>12</td>\n",
       "      <td>STARS</td>\n",
       "    </tr>\n",
       "    <tr>\n",
       "      <th>4193770</th>\n",
       "      <td>0</td>\n",
       "      <td>5</td>\n",
       "      <td>380.85</td>\n",
       "      <td>4</td>\n",
       "      <td>4</td>\n",
       "      <td>4</td>\n",
       "      <td>444</td>\n",
       "      <td>12</td>\n",
       "      <td>STARS</td>\n",
       "    </tr>\n",
       "    <tr>\n",
       "      <th>4597386</th>\n",
       "      <td>2</td>\n",
       "      <td>2</td>\n",
       "      <td>270.82</td>\n",
       "      <td>4</td>\n",
       "      <td>3</td>\n",
       "      <td>4</td>\n",
       "      <td>434</td>\n",
       "      <td>11</td>\n",
       "      <td>BIG SPENDER</td>\n",
       "    </tr>\n",
       "    <tr>\n",
       "      <th>3382250</th>\n",
       "      <td>131</td>\n",
       "      <td>2</td>\n",
       "      <td>222.52</td>\n",
       "      <td>2</td>\n",
       "      <td>3</td>\n",
       "      <td>4</td>\n",
       "      <td>234</td>\n",
       "      <td>9</td>\n",
       "      <td>BIG SPENDER</td>\n",
       "    </tr>\n",
       "    <tr>\n",
       "      <th>6258536</th>\n",
       "      <td>107</td>\n",
       "      <td>3</td>\n",
       "      <td>172.50</td>\n",
       "      <td>2</td>\n",
       "      <td>4</td>\n",
       "      <td>3</td>\n",
       "      <td>243</td>\n",
       "      <td>9</td>\n",
       "      <td>LOYAL</td>\n",
       "    </tr>\n",
       "    <tr>\n",
       "      <th>7214317</th>\n",
       "      <td>125</td>\n",
       "      <td>1</td>\n",
       "      <td>156.67</td>\n",
       "      <td>2</td>\n",
       "      <td>1</td>\n",
       "      <td>3</td>\n",
       "      <td>213</td>\n",
       "      <td>6</td>\n",
       "      <td>REGULARS</td>\n",
       "    </tr>\n",
       "    <tr>\n",
       "      <th>6860385</th>\n",
       "      <td>4</td>\n",
       "      <td>2</td>\n",
       "      <td>148.32</td>\n",
       "      <td>4</td>\n",
       "      <td>4</td>\n",
       "      <td>3</td>\n",
       "      <td>443</td>\n",
       "      <td>11</td>\n",
       "      <td>LOYAL</td>\n",
       "    </tr>\n",
       "    <tr>\n",
       "      <th>7792319</th>\n",
       "      <td>124</td>\n",
       "      <td>1</td>\n",
       "      <td>106.67</td>\n",
       "      <td>2</td>\n",
       "      <td>1</td>\n",
       "      <td>2</td>\n",
       "      <td>212</td>\n",
       "      <td>5</td>\n",
       "      <td>REGULARS</td>\n",
       "    </tr>\n",
       "    <tr>\n",
       "      <th>1586258</th>\n",
       "      <td>147</td>\n",
       "      <td>1</td>\n",
       "      <td>82.50</td>\n",
       "      <td>1</td>\n",
       "      <td>1</td>\n",
       "      <td>2</td>\n",
       "      <td>112</td>\n",
       "      <td>4</td>\n",
       "      <td>LOST</td>\n",
       "    </tr>\n",
       "    <tr>\n",
       "      <th>6705571</th>\n",
       "      <td>138</td>\n",
       "      <td>1</td>\n",
       "      <td>79.17</td>\n",
       "      <td>1</td>\n",
       "      <td>2</td>\n",
       "      <td>2</td>\n",
       "      <td>122</td>\n",
       "      <td>5</td>\n",
       "      <td>LOST</td>\n",
       "    </tr>\n",
       "    <tr>\n",
       "      <th>9384463</th>\n",
       "      <td>60</td>\n",
       "      <td>1</td>\n",
       "      <td>74.17</td>\n",
       "      <td>3</td>\n",
       "      <td>2</td>\n",
       "      <td>1</td>\n",
       "      <td>321</td>\n",
       "      <td>6</td>\n",
       "      <td>LIGHT</td>\n",
       "    </tr>\n",
       "    <tr>\n",
       "      <th>1299152</th>\n",
       "      <td>93</td>\n",
       "      <td>1</td>\n",
       "      <td>74.17</td>\n",
       "      <td>2</td>\n",
       "      <td>2</td>\n",
       "      <td>1</td>\n",
       "      <td>221</td>\n",
       "      <td>5</td>\n",
       "      <td>LIGHT</td>\n",
       "    </tr>\n",
       "    <tr>\n",
       "      <th>3777544</th>\n",
       "      <td>125</td>\n",
       "      <td>1</td>\n",
       "      <td>51.67</td>\n",
       "      <td>2</td>\n",
       "      <td>3</td>\n",
       "      <td>1</td>\n",
       "      <td>231</td>\n",
       "      <td>6</td>\n",
       "      <td>LIGHT</td>\n",
       "    </tr>\n",
       "  </tbody>\n",
       "</table>\n",
       "</div>"
      ],
      "text/plain": [
       "             Recency  Frequency  Monetary  R  F  M RFM_Segment  RFM_Score  \\\n",
       "customer_id                                                                 \n",
       "8325158            4         17   2812.58  4  4  4         444         12   \n",
       "4193770            0          5    380.85  4  4  4         444         12   \n",
       "4597386            2          2    270.82  4  3  4         434         11   \n",
       "3382250          131          2    222.52  2  3  4         234          9   \n",
       "6258536          107          3    172.50  2  4  3         243          9   \n",
       "7214317          125          1    156.67  2  1  3         213          6   \n",
       "6860385            4          2    148.32  4  4  3         443         11   \n",
       "7792319          124          1    106.67  2  1  2         212          5   \n",
       "1586258          147          1     82.50  1  1  2         112          4   \n",
       "6705571          138          1     79.17  1  2  2         122          5   \n",
       "9384463           60          1     74.17  3  2  1         321          6   \n",
       "1299152           93          1     74.17  2  2  1         221          5   \n",
       "3777544          125          1     51.67  2  3  1         231          6   \n",
       "\n",
       "               RFM_Level  \n",
       "customer_id               \n",
       "8325158            STARS  \n",
       "4193770            STARS  \n",
       "4597386      BIG SPENDER  \n",
       "3382250      BIG SPENDER  \n",
       "6258536            LOYAL  \n",
       "7214317         REGULARS  \n",
       "6860385            LOYAL  \n",
       "7792319         REGULARS  \n",
       "1586258             LOST  \n",
       "6705571             LOST  \n",
       "9384463            LIGHT  \n",
       "1299152            LIGHT  \n",
       "3777544            LIGHT  "
      ]
     },
     "execution_count": 28,
     "metadata": {},
     "output_type": "execute_result"
    }
   ],
   "source": [
    "# Print the header with top 5 rows\n",
    "df_RFM[::2000]"
   ]
  },
  {
   "cell_type": "markdown",
   "metadata": {
    "id": "3oryo3aVTJez"
   },
   "source": [
    "#### Number of segments"
   ]
  },
  {
   "cell_type": "code",
   "execution_count": 29,
   "metadata": {
    "colab": {
     "base_uri": "https://localhost:8080/",
     "height": 335
    },
    "executionInfo": {
     "elapsed": 8,
     "status": "ok",
     "timestamp": 1742788719482,
     "user": {
      "displayName": "Phuong Khuat Thuy",
      "userId": "16807426118474640783"
     },
     "user_tz": -420
    },
    "id": "QMSYfJwITJez",
    "outputId": "c6673872-d131-41db-f476-6326c512db0e"
   },
   "outputs": [
    {
     "data": {
      "text/plain": [
       "LOST           5303\n",
       "REGULARS       4855\n",
       "BIG SPENDER    4691\n",
       "LIGHT          3226\n",
       "ACTIVE         3024\n",
       "LOYAL          2749\n",
       "STARS          1695\n",
       "Name: RFM_Level, dtype: int64"
      ]
     },
     "execution_count": 29,
     "metadata": {},
     "output_type": "execute_result"
    }
   ],
   "source": [
    "df_RFM['RFM_Level'].value_counts()"
   ]
  },
  {
   "cell_type": "markdown",
   "metadata": {
    "id": "78jHZi0ZTJe0"
   },
   "source": [
    "#### Calculate mean values for each segment"
   ]
  },
  {
   "cell_type": "code",
   "execution_count": 30,
   "metadata": {
    "id": "3A85eEapTJe0"
   },
   "outputs": [],
   "source": [
    "# Calculate average values for each RFM_Level, and return a size of each segment\n",
    "rfm_agg = df_RFM.groupby('RFM_Level').agg({\n",
    "    'Recency': 'mean',\n",
    "    'Frequency': 'mean',\n",
    "    'Monetary': ['mean', 'count']}).round(0)\n",
    "\n",
    "rfm_agg.columns = rfm_agg.columns.droplevel()\n",
    "rfm_agg.columns = ['RecencyMean','FrequencyMean','MonetaryMean', 'Count']\n",
    "rfm_agg['Percent'] = round((rfm_agg['Count']/rfm_agg.Count.sum())*100, 2)\n",
    "\n",
    "# Reset the index\n",
    "rfm_agg = rfm_agg.reset_index()"
   ]
  },
  {
   "cell_type": "code",
   "execution_count": 31,
   "metadata": {
    "colab": {
     "base_uri": "https://localhost:8080/",
     "height": 269
    },
    "executionInfo": {
     "elapsed": 83,
     "status": "ok",
     "timestamp": 1742788736962,
     "user": {
      "displayName": "Phuong Khuat Thuy",
      "userId": "16807426118474640783"
     },
     "user_tz": -420
    },
    "id": "XCAVinEaTJe0",
    "outputId": "23bd6715-9c91-471a-99ca-72078ecac6c5"
   },
   "outputs": [
    {
     "data": {
      "text/html": [
       "<div>\n",
       "<style scoped>\n",
       "    .dataframe tbody tr th:only-of-type {\n",
       "        vertical-align: middle;\n",
       "    }\n",
       "\n",
       "    .dataframe tbody tr th {\n",
       "        vertical-align: top;\n",
       "    }\n",
       "\n",
       "    .dataframe thead th {\n",
       "        text-align: right;\n",
       "    }\n",
       "</style>\n",
       "<table border=\"1\" class=\"dataframe\">\n",
       "  <thead>\n",
       "    <tr style=\"text-align: right;\">\n",
       "      <th></th>\n",
       "      <th>RFM_Level</th>\n",
       "      <th>RecencyMean</th>\n",
       "      <th>FrequencyMean</th>\n",
       "      <th>MonetaryMean</th>\n",
       "      <th>Count</th>\n",
       "      <th>Percent</th>\n",
       "    </tr>\n",
       "  </thead>\n",
       "  <tbody>\n",
       "    <tr>\n",
       "      <th>0</th>\n",
       "      <td>ACTIVE</td>\n",
       "      <td>13.0</td>\n",
       "      <td>1.0</td>\n",
       "      <td>108.0</td>\n",
       "      <td>3024</td>\n",
       "      <td>11.84</td>\n",
       "    </tr>\n",
       "    <tr>\n",
       "      <th>1</th>\n",
       "      <td>BIG SPENDER</td>\n",
       "      <td>76.0</td>\n",
       "      <td>3.0</td>\n",
       "      <td>335.0</td>\n",
       "      <td>4691</td>\n",
       "      <td>18.37</td>\n",
       "    </tr>\n",
       "    <tr>\n",
       "      <th>2</th>\n",
       "      <td>LIGHT</td>\n",
       "      <td>90.0</td>\n",
       "      <td>1.0</td>\n",
       "      <td>60.0</td>\n",
       "      <td>3226</td>\n",
       "      <td>12.63</td>\n",
       "    </tr>\n",
       "    <tr>\n",
       "      <th>3</th>\n",
       "      <td>LOST</td>\n",
       "      <td>158.0</td>\n",
       "      <td>1.0</td>\n",
       "      <td>91.0</td>\n",
       "      <td>5303</td>\n",
       "      <td>20.76</td>\n",
       "    </tr>\n",
       "    <tr>\n",
       "      <th>4</th>\n",
       "      <td>LOYAL</td>\n",
       "      <td>71.0</td>\n",
       "      <td>2.0</td>\n",
       "      <td>140.0</td>\n",
       "      <td>2749</td>\n",
       "      <td>10.76</td>\n",
       "    </tr>\n",
       "    <tr>\n",
       "      <th>5</th>\n",
       "      <td>REGULARS</td>\n",
       "      <td>84.0</td>\n",
       "      <td>1.0</td>\n",
       "      <td>122.0</td>\n",
       "      <td>4855</td>\n",
       "      <td>19.01</td>\n",
       "    </tr>\n",
       "    <tr>\n",
       "      <th>6</th>\n",
       "      <td>STARS</td>\n",
       "      <td>12.0</td>\n",
       "      <td>4.0</td>\n",
       "      <td>456.0</td>\n",
       "      <td>1695</td>\n",
       "      <td>6.64</td>\n",
       "    </tr>\n",
       "  </tbody>\n",
       "</table>\n",
       "</div>"
      ],
      "text/plain": [
       "     RFM_Level  RecencyMean  FrequencyMean  MonetaryMean  Count  Percent\n",
       "0       ACTIVE         13.0            1.0         108.0   3024    11.84\n",
       "1  BIG SPENDER         76.0            3.0         335.0   4691    18.37\n",
       "2        LIGHT         90.0            1.0          60.0   3226    12.63\n",
       "3         LOST        158.0            1.0          91.0   5303    20.76\n",
       "4        LOYAL         71.0            2.0         140.0   2749    10.76\n",
       "5     REGULARS         84.0            1.0         122.0   4855    19.01\n",
       "6        STARS         12.0            4.0         456.0   1695     6.64"
      ]
     },
     "execution_count": 31,
     "metadata": {},
     "output_type": "execute_result"
    }
   ],
   "source": [
    "rfm_agg"
   ]
  },
  {
   "cell_type": "markdown",
   "metadata": {
    "id": "_nNFtffGTJe0"
   },
   "source": [
    "#### TreeMap"
   ]
  },
  {
   "cell_type": "code",
   "execution_count": 32,
   "metadata": {
    "colab": {
     "base_uri": "https://localhost:8080/",
     "height": 842
    },
    "executionInfo": {
     "elapsed": 503,
     "status": "ok",
     "timestamp": 1742788750548,
     "user": {
      "displayName": "Phuong Khuat Thuy",
      "userId": "16807426118474640783"
     },
     "user_tz": -420
    },
    "id": "Ae9-_O9iTJe0",
    "outputId": "bd379ac6-3947-4e2e-bfe2-9696f6eb2276"
   },
   "outputs": [
    {
     "data": {
      "image/png": "[encoded data removed]",
      "text/plain": [
       "<Figure size 1400x1000 with 1 Axes>"
      ]
     },
     "metadata": {},
     "output_type": "display_data"
    }
   ],
   "source": [
    "#Create our plot and resize it.\n",
    "fig = plt.gcf()\n",
    "ax = fig.add_subplot()\n",
    "fig.set_size_inches(14, 10)\n",
    "\n",
    "colors_dict = {'ACTIVE':'yellow','BIG SPENDER':'royalblue', 'LIGHT':'cyan',\n",
    "               'LOST':'red', 'LOYAL':'purple', 'NEW':'green', 'STARS':'gold'}\n",
    "\n",
    "squarify.plot(sizes=rfm_agg['Count'],\n",
    "              text_kwargs={'fontsize':12,'weight':'bold', 'fontname':\"sans serif\"},\n",
    "              color=colors_dict.values(),\n",
    "              label=['{} \\n{:.0f} days \\n{:.0f} orders \\n{:.0f} $ \\n{:.0f} customers ({}%)'.format(*rfm_agg.iloc[i])\n",
    "                      for i in range(0, len(rfm_agg))], alpha=0.5 )\n",
    "\n",
    "\n",
    "plt.title(\"Customers Segments\",fontsize=26,fontweight=\"bold\")\n",
    "plt.axis('off')\n",
    "\n",
    "plt.savefig('RFM Segments.png')\n",
    "plt.show()"
   ]
  },
  {
   "cell_type": "markdown",
   "metadata": {
    "id": "P_PrPn1kTJe1"
   },
   "source": [
    "#### Scatter Plot (RFM)"
   ]
  },
  {
   "cell_type": "code",
   "execution_count": 33,
   "metadata": {
    "colab": {
     "base_uri": "https://localhost:8080/",
     "height": 542
    },
    "executionInfo": {
     "elapsed": 2659,
     "status": "ok",
     "timestamp": 1742788778497,
     "user": {
      "displayName": "Phuong Khuat Thuy",
      "userId": "16807426118474640783"
     },
     "user_tz": -420
    },
    "id": "FHqY61-5TJe1",
    "outputId": "fdf000d4-3dd4-4c14-e07f-b78807fcc74c"
   },
   "outputs": [
    {
     "data": {
      "application/vnd.plotly.v1+json": {
       "config": {
        "plotlyServerURL": "https://plot.ly"
       },
       "data": [
        {
         "hovertemplate": "<b>%{hovertext}</b><br><br>RFM_Level=ACTIVE<br>RecencyMean=%{x}<br>MonetaryMean=%{y}<br>FrequencyMean=%{marker.size}<extra></extra>",
         "hovertext": [
          "ACTIVE"
         ],
         "legendgroup": "ACTIVE",
         "marker": {
          "color": "#636efa",
          "size": {
           "bdata": "AAAAAAAA8D8=",
           "dtype": "f8"
          },
          "sizemode": "area",
          "sizeref": 0.0004,
          "symbol": "circle"
         },
         "mode": "markers",
         "name": "ACTIVE",
         "orientation": "v",
         "showlegend": true,
         "type": "scatter",
         "x": {
          "bdata": "AAAAAAAAKkA=",
          "dtype": "f8"
         },
         "xaxis": "x",
         "y": {
          "bdata": "AAAAAAAAW0A=",
          "dtype": "f8"
         },
         "yaxis": "y"
        },
        {
         "hovertemplate": "<b>%{hovertext}</b><br><br>RFM_Level=BIG SPENDER<br>RecencyMean=%{x}<br>MonetaryMean=%{y}<br>FrequencyMean=%{marker.size}<extra></extra>",
         "hovertext": [
          "BIG SPENDER"
         ],
         "legendgroup": "BIG SPENDER",
         "marker": {
          "color": "#EF553B",
          "size": {
           "bdata": "AAAAAAAACEA=",
           "dtype": "f8"
          },
          "sizemode": "area",
          "sizeref": 0.0004,
          "symbol": "circle"
         },
         "mode": "markers",
         "name": "BIG SPENDER",
         "orientation": "v",
         "showlegend": true,
         "type": "scatter",
         "x": {
          "bdata": "AAAAAAAAU0A=",
          "dtype": "f8"
         },
         "xaxis": "x",
         "y": {
          "bdata": "AAAAAADwdEA=",
          "dtype": "f8"
         },
         "yaxis": "y"
        },
        {
         "hovertemplate": "<b>%{hovertext}</b><br><br>RFM_Level=LIGHT<br>RecencyMean=%{x}<br>MonetaryMean=%{y}<br>FrequencyMean=%{marker.size}<extra></extra>",
         "hovertext": [
          "LIGHT"
         ],
         "legendgroup": "LIGHT",
         "marker": {
          "color": "#00cc96",
          "size": {
           "bdata": "AAAAAAAA8D8=",
           "dtype": "f8"
          },
          "sizemode": "area",
          "sizeref": 0.0004,
          "symbol": "circle"
         },
         "mode": "markers",
         "name": "LIGHT",
         "orientation": "v",
         "showlegend": true,
         "type": "scatter",
         "x": {
          "bdata": "AAAAAACAVkA=",
          "dtype": "f8"
         },
         "xaxis": "x",
         "y": {
          "bdata": "AAAAAAAATkA=",
          "dtype": "f8"
         },
         "yaxis": "y"
        },
        {
         "hovertemplate": "<b>%{hovertext}</b><br><br>RFM_Level=LOST<br>RecencyMean=%{x}<br>MonetaryMean=%{y}<br>FrequencyMean=%{marker.size}<extra></extra>",
         "hovertext": [
          "LOST"
         ],
         "legendgroup": "LOST",
         "marker": {
          "color": "#ab63fa",
          "size": {
           "bdata": "AAAAAAAA8D8=",
           "dtype": "f8"
          },
          "sizemode": "area",
          "sizeref": 0.0004,
          "symbol": "circle"
         },
         "mode": "markers",
         "name": "LOST",
         "orientation": "v",
         "showlegend": true,
         "type": "scatter",
         "x": {
          "bdata": "AAAAAADAY0A=",
          "dtype": "f8"
         },
         "xaxis": "x",
         "y": {
          "bdata": "AAAAAADAVkA=",
          "dtype": "f8"
         },
         "yaxis": "y"
        },
        {
         "hovertemplate": "<b>%{hovertext}</b><br><br>RFM_Level=LOYAL<br>RecencyMean=%{x}<br>MonetaryMean=%{y}<br>FrequencyMean=%{marker.size}<extra></extra>",
         "hovertext": [
          "LOYAL"
         ],
         "legendgroup": "LOYAL",
         "marker": {
          "color": "#FFA15A",
          "size": {
           "bdata": "AAAAAAAAAEA=",
           "dtype": "f8"
          },
          "sizemode": "area",
          "sizeref": 0.0004,
          "symbol": "circle"
         },
         "mode": "markers",
         "name": "LOYAL",
         "orientation": "v",
         "showlegend": true,
         "type": "scatter",
         "x": {
          "bdata": "AAAAAADAUUA=",
          "dtype": "f8"
         },
         "xaxis": "x",
         "y": {
          "bdata": "AAAAAACAYUA=",
          "dtype": "f8"
         },
         "yaxis": "y"
        },
        {
         "hovertemplate": "<b>%{hovertext}</b><br><br>RFM_Level=REGULARS<br>RecencyMean=%{x}<br>MonetaryMean=%{y}<br>FrequencyMean=%{marker.size}<extra></extra>",
         "hovertext": [
          "REGULARS"
         ],
         "legendgroup": "REGULARS",
         "marker": {
          "color": "#19d3f3",
          "size": {
           "bdata": "AAAAAAAA8D8=",
           "dtype": "f8"
          },
          "sizemode": "area",
          "sizeref": 0.0004,
          "symbol": "circle"
         },
         "mode": "markers",
         "name": "REGULARS",
         "orientation": "v",
         "showlegend": true,
         "type": "scatter",
         "x": {
          "bdata": "AAAAAAAAVUA=",
          "dtype": "f8"
         },
         "xaxis": "x",
         "y": {
          "bdata": "AAAAAACAXkA=",
          "dtype": "f8"
         },
         "yaxis": "y"
        },
        {
         "hovertemplate": "<b>%{hovertext}</b><br><br>RFM_Level=STARS<br>RecencyMean=%{x}<br>MonetaryMean=%{y}<br>FrequencyMean=%{marker.size}<extra></extra>",
         "hovertext": [
          "STARS"
         ],
         "legendgroup": "STARS",
         "marker": {
          "color": "#FF6692",
          "size": {
           "bdata": "AAAAAAAAEEA=",
           "dtype": "f8"
          },
          "sizemode": "area",
          "sizeref": 0.0004,
          "symbol": "circle"
         },
         "mode": "markers",
         "name": "STARS",
         "orientation": "v",
         "showlegend": true,
         "type": "scatter",
         "x": {
          "bdata": "AAAAAAAAKEA=",
          "dtype": "f8"
         },
         "xaxis": "x",
         "y": {
          "bdata": "AAAAAACAfEA=",
          "dtype": "f8"
         },
         "yaxis": "y"
        }
       ],
       "layout": {
        "legend": {
         "itemsizing": "constant",
         "title": {
          "text": "RFM_Level"
         },
         "tracegroupgap": 0
        },
        "margin": {
         "t": 60
        },
        "template": {
         "data": {
          "bar": [
           {
            "error_x": {
             "color": "#2a3f5f"
            },
            "error_y": {
             "color": "#2a3f5f"
            },
            "marker": {
             "line": {
              "color": "#E5ECF6",
              "width": 0.5
             },
             "pattern": {
              "fillmode": "overlay",
              "size": 10,
              "solidity": 0.2
             }
            },
            "type": "bar"
           }
          ],
          "barpolar": [
           {
            "marker": {
             "line": {
              "color": "#E5ECF6",
              "width": 0.5
             },
             "pattern": {
              "fillmode": "overlay",
              "size": 10,
              "solidity": 0.2
             }
            },
            "type": "barpolar"
           }
          ],
          "carpet": [
           {
            "aaxis": {
             "endlinecolor": "#2a3f5f",
             "gridcolor": "white",
             "linecolor": "white",
             "minorgridcolor": "white",
             "startlinecolor": "#2a3f5f"
            },
            "baxis": {
             "endlinecolor": "#2a3f5f",
             "gridcolor": "white",
             "linecolor": "white",
             "minorgridcolor": "white",
             "startlinecolor": "#2a3f5f"
            },
            "type": "carpet"
           }
          ],
          "choropleth": [
           {
            "colorbar": {
             "outlinewidth": 0,
             "ticks": ""
            },
            "type": "choropleth"
           }
          ],
          "contour": [
           {
            "colorbar": {
             "outlinewidth": 0,
             "ticks": ""
            },
            "colorscale": [
             [
              0,
              "#0d0887"
             ],
             [
              0.1111111111111111,
              "#46039f"
             ],
             [
              0.2222222222222222,
              "#7201a8"
             ],
             [
              0.3333333333333333,
              "#9c179e"
             ],
             [
              0.4444444444444444,
              "#bd3786"
             ],
             [
              0.5555555555555556,
              "#d8576b"
             ],
             [
              0.6666666666666666,
              "#ed7953"
             ],
             [
              0.7777777777777778,
              "#fb9f3a"
             ],
             [
              0.8888888888888888,
              "#fdca26"
             ],
             [
              1,
              "#f0f921"
             ]
            ],
            "type": "contour"
           }
          ],
          "contourcarpet": [
           {
            "colorbar": {
             "outlinewidth": 0,
             "ticks": ""
            },
            "type": "contourcarpet"
           }
          ],
          "heatmap": [
           {
            "colorbar": {
             "outlinewidth": 0,
             "ticks": ""
            },
            "colorscale": [
             [
              0,
              "#0d0887"
             ],
             [
              0.1111111111111111,
              "#46039f"
             ],
             [
              0.2222222222222222,
              "#7201a8"
             ],
             [
              0.3333333333333333,
              "#9c179e"
             ],
             [
              0.4444444444444444,
              "#bd3786"
             ],
             [
              0.5555555555555556,
              "#d8576b"
             ],
             [
              0.6666666666666666,
              "#ed7953"
             ],
             [
              0.7777777777777778,
              "#fb9f3a"
             ],
             [
              0.8888888888888888,
              "#fdca26"
             ],
             [
              1,
              "#f0f921"
             ]
            ],
            "type": "heatmap"
           }
          ],
          "histogram": [
           {
            "marker": {
             "pattern": {
              "fillmode": "overlay",
              "size": 10,
              "solidity": 0.2
             }
            },
            "type": "histogram"
           }
          ],
          "histogram2d": [
           {
            "colorbar": {
             "outlinewidth": 0,
             "ticks": ""
            },
            "colorscale": [
             [
              0,
              "#0d0887"
             ],
             [
              0.1111111111111111,
              "#46039f"
             ],
             [
              0.2222222222222222,
              "#7201a8"
             ],
             [
              0.3333333333333333,
              "#9c179e"
             ],
             [
              0.4444444444444444,
              "#bd3786"
             ],
             [
              0.5555555555555556,
              "#d8576b"
             ],
             [
              0.6666666666666666,
              "#ed7953"
             ],
             [
              0.7777777777777778,
              "#fb9f3a"
             ],
             [
              0.8888888888888888,
              "#fdca26"
             ],
             [
              1,
              "#f0f921"
             ]
            ],
            "type": "histogram2d"
           }
          ],
          "histogram2dcontour": [
           {
            "colorbar": {
             "outlinewidth": 0,
             "ticks": ""
            },
            "colorscale": [
             [
              0,
              "#0d0887"
             ],
             [
              0.1111111111111111,
              "#46039f"
             ],
             [
              0.2222222222222222,
              "#7201a8"
             ],
             [
              0.3333333333333333,
              "#9c179e"
             ],
             [
              0.4444444444444444,
              "#bd3786"
             ],
             [
              0.5555555555555556,
              "#d8576b"
             ],
             [
              0.6666666666666666,
              "#ed7953"
             ],
             [
              0.7777777777777778,
              "#fb9f3a"
             ],
             [
              0.8888888888888888,
              "#fdca26"
             ],
             [
              1,
              "#f0f921"
             ]
            ],
            "type": "histogram2dcontour"
           }
          ],
          "mesh3d": [
           {
            "colorbar": {
             "outlinewidth": 0,
             "ticks": ""
            },
            "type": "mesh3d"
           }
          ],
          "parcoords": [
           {
            "line": {
             "colorbar": {
              "outlinewidth": 0,
              "ticks": ""
             }
            },
            "type": "parcoords"
           }
          ],
          "pie": [
           {
            "automargin": true,
            "type": "pie"
           }
          ],
          "scatter": [
           {
            "fillpattern": {
             "fillmode": "overlay",
             "size": 10,
             "solidity": 0.2
            },
            "type": "scatter"
           }
          ],
          "scatter3d": [
           {
            "line": {
             "colorbar": {
              "outlinewidth": 0,
              "ticks": ""
             }
            },
            "marker": {
             "colorbar": {
              "outlinewidth": 0,
              "ticks": ""
             }
            },
            "type": "scatter3d"
           }
          ],
          "scattercarpet": [
           {
            "marker": {
             "colorbar": {
              "outlinewidth": 0,
              "ticks": ""
             }
            },
            "type": "scattercarpet"
           }
          ],
          "scattergeo": [
           {
            "marker": {
             "colorbar": {
              "outlinewidth": 0,
              "ticks": ""
             }
            },
            "type": "scattergeo"
           }
          ],
          "scattergl": [
           {
            "marker": {
             "colorbar": {
              "outlinewidth": 0,
              "ticks": ""
             }
            },
            "type": "scattergl"
           }
          ],
          "scattermap": [
           {
            "marker": {
             "colorbar": {
              "outlinewidth": 0,
              "ticks": ""
             }
            },
            "type": "scattermap"
           }
          ],
          "scattermapbox": [
           {
            "marker": {
             "colorbar": {
              "outlinewidth": 0,
              "ticks": ""
             }
            },
            "type": "scattermapbox"
           }
          ],
          "scatterpolar": [
           {
            "marker": {
             "colorbar": {
              "outlinewidth": 0,
              "ticks": ""
             }
            },
            "type": "scatterpolar"
           }
          ],
          "scatterpolargl": [
           {
            "marker": {
             "colorbar": {
              "outlinewidth": 0,
              "ticks": ""
             }
            },
            "type": "scatterpolargl"
           }
          ],
          "scatterternary": [
           {
            "marker": {
             "colorbar": {
              "outlinewidth": 0,
              "ticks": ""
             }
            },
            "type": "scatterternary"
           }
          ],
          "surface": [
           {
            "colorbar": {
             "outlinewidth": 0,
             "ticks": ""
            },
            "colorscale": [
             [
              0,
              "#0d0887"
             ],
             [
              0.1111111111111111,
              "#46039f"
             ],
             [
              0.2222222222222222,
              "#7201a8"
             ],
             [
              0.3333333333333333,
              "#9c179e"
             ],
             [
              0.4444444444444444,
              "#bd3786"
             ],
             [
              0.5555555555555556,
              "#d8576b"
             ],
             [
              0.6666666666666666,
              "#ed7953"
             ],
             [
              0.7777777777777778,
              "#fb9f3a"
             ],
             [
              0.8888888888888888,
              "#fdca26"
             ],
             [
              1,
              "#f0f921"
             ]
            ],
            "type": "surface"
           }
          ],
          "table": [
           {
            "cells": {
             "fill": {
              "color": "#EBF0F8"
             },
             "line": {
              "color": "white"
             }
            },
            "header": {
             "fill": {
              "color": "#C8D4E3"
             },
             "line": {
              "color": "white"
             }
            },
            "type": "table"
           }
          ]
         },
         "layout": {
          "annotationdefaults": {
           "arrowcolor": "#2a3f5f",
           "arrowhead": 0,
           "arrowwidth": 1
          },
          "autotypenumbers": "strict",
          "coloraxis": {
           "colorbar": {
            "outlinewidth": 0,
            "ticks": ""
           }
          },
          "colorscale": {
           "diverging": [
            [
             0,
             "#8e0152"
            ],
            [
             0.1,
             "#c51b7d"
            ],
            [
             0.2,
             "#de77ae"
            ],
            [
             0.3,
             "#f1b6da"
            ],
            [
             0.4,
             "#fde0ef"
            ],
            [
             0.5,
             "#f7f7f7"
            ],
            [
             0.6,
             "#e6f5d0"
            ],
            [
             0.7,
             "#b8e186"
            ],
            [
             0.8,
             "#7fbc41"
            ],
            [
             0.9,
             "#4d9221"
            ],
            [
             1,
             "#276419"
            ]
           ],
           "sequential": [
            [
             0,
             "#0d0887"
            ],
            [
             0.1111111111111111,
             "#46039f"
            ],
            [
             0.2222222222222222,
             "#7201a8"
            ],
            [
             0.3333333333333333,
             "#9c179e"
            ],
            [
             0.4444444444444444,
             "#bd3786"
            ],
            [
             0.5555555555555556,
             "#d8576b"
            ],
            [
             0.6666666666666666,
             "#ed7953"
            ],
            [
             0.7777777777777778,
             "#fb9f3a"
            ],
            [
             0.8888888888888888,
             "#fdca26"
            ],
            [
             1,
             "#f0f921"
            ]
           ],
           "sequentialminus": [
            [
             0,
             "#0d0887"
            ],
            [
             0.1111111111111111,
             "#46039f"
            ],
            [
             0.2222222222222222,
             "#7201a8"
            ],
            [
             0.3333333333333333,
             "#9c179e"
            ],
            [
             0.4444444444444444,
             "#bd3786"
            ],
            [
             0.5555555555555556,
             "#d8576b"
            ],
            [
             0.6666666666666666,
             "#ed7953"
            ],
            [
             0.7777777777777778,
             "#fb9f3a"
            ],
            [
             0.8888888888888888,
             "#fdca26"
            ],
            [
             1,
             "#f0f921"
            ]
           ]
          },
          "colorway": [
           "#636efa",
           "#EF553B",
           "#00cc96",
           "#ab63fa",
           "#FFA15A",
           "#19d3f3",
           "#FF6692",
           "#B6E880",
           "#FF97FF",
           "#FECB52"
          ],
          "font": {
           "color": "#2a3f5f"
          },
          "geo": {
           "bgcolor": "white",
           "lakecolor": "white",
           "landcolor": "#E5ECF6",
           "showlakes": true,
           "showland": true,
           "subunitcolor": "white"
          },
          "hoverlabel": {
           "align": "left"
          },
          "hovermode": "closest",
          "mapbox": {
           "style": "light"
          },
          "paper_bgcolor": "white",
          "plot_bgcolor": "#E5ECF6",
          "polar": {
           "angularaxis": {
            "gridcolor": "white",
            "linecolor": "white",
            "ticks": ""
           },
           "bgcolor": "#E5ECF6",
           "radialaxis": {
            "gridcolor": "white",
            "linecolor": "white",
            "ticks": ""
           }
          },
          "scene": {
           "xaxis": {
            "backgroundcolor": "#E5ECF6",
            "gridcolor": "white",
            "gridwidth": 2,
            "linecolor": "white",
            "showbackground": true,
            "ticks": "",
            "zerolinecolor": "white"
           },
           "yaxis": {
            "backgroundcolor": "#E5ECF6",
            "gridcolor": "white",
            "gridwidth": 2,
            "linecolor": "white",
            "showbackground": true,
            "ticks": "",
            "zerolinecolor": "white"
           },
           "zaxis": {
            "backgroundcolor": "#E5ECF6",
            "gridcolor": "white",
            "gridwidth": 2,
            "linecolor": "white",
            "showbackground": true,
            "ticks": "",
            "zerolinecolor": "white"
           }
          },
          "shapedefaults": {
           "line": {
            "color": "#2a3f5f"
           }
          },
          "ternary": {
           "aaxis": {
            "gridcolor": "white",
            "linecolor": "white",
            "ticks": ""
           },
           "baxis": {
            "gridcolor": "white",
            "linecolor": "white",
            "ticks": ""
           },
           "bgcolor": "#E5ECF6",
           "caxis": {
            "gridcolor": "white",
            "linecolor": "white",
            "ticks": ""
           }
          },
          "title": {
           "x": 0.05
          },
          "xaxis": {
           "automargin": true,
           "gridcolor": "white",
           "linecolor": "white",
           "ticks": "",
           "title": {
            "standoff": 15
           },
           "zerolinecolor": "white",
           "zerolinewidth": 2
          },
          "yaxis": {
           "automargin": true,
           "gridcolor": "white",
           "linecolor": "white",
           "ticks": "",
           "title": {
            "standoff": 15
           },
           "zerolinecolor": "white",
           "zerolinewidth": 2
          }
         }
        },
        "xaxis": {
         "anchor": "y",
         "domain": [
          0,
          1
         ],
         "title": {
          "text": "RecencyMean"
         }
        },
        "yaxis": {
         "anchor": "x",
         "domain": [
          0,
          1
         ],
         "title": {
          "text": "MonetaryMean"
         }
        }
       }
      }
     },
     "metadata": {},
     "output_type": "display_data"
    }
   ],
   "source": [
    "import plotly.express as px\n",
    "\n",
    "fig = px.scatter(rfm_agg, x=\"RecencyMean\", y=\"MonetaryMean\", size=\"FrequencyMean\", color=\"RFM_Level\",\n",
    "           hover_name=\"RFM_Level\", size_max=100)\n",
    "fig.show()"
   ]
  },
  {
   "cell_type": "markdown",
   "metadata": {
    "id": "huLLRb0YTJe1"
   },
   "source": [
    "### Summary:\n",
    "- Hãy nhận xét chi tiết cho từng nhóm khách hàng!"
   ]
  },
  {
   "cell_type": "markdown",
   "metadata": {
    "id": "cIjSCWXyTJe1"
   },
   "source": [
    "## RFM + KMeans\n",
    "### Kmeans clusters with the Elbow Method"
   ]
  },
  {
   "cell_type": "code",
   "execution_count": 34,
   "metadata": {
    "id": "BHXVc3pnTJe1"
   },
   "outputs": [],
   "source": [
    "df_now = df_RFM[['Recency','Frequency','Monetary']]"
   ]
  },
  {
   "cell_type": "code",
   "execution_count": 35,
   "metadata": {
    "colab": {
     "base_uri": "https://localhost:8080/",
     "height": 237
    },
    "executionInfo": {
     "elapsed": 90,
     "status": "ok",
     "timestamp": 1742788812516,
     "user": {
      "displayName": "Phuong Khuat Thuy",
      "userId": "16807426118474640783"
     },
     "user_tz": -420
    },
    "id": "gzCF3af3mr1A",
    "outputId": "d0ae0b24-ac52-4d8e-b75c-87b92753b37b"
   },
   "outputs": [
    {
     "data": {
      "text/html": [
       "<div>\n",
       "<style scoped>\n",
       "    .dataframe tbody tr th:only-of-type {\n",
       "        vertical-align: middle;\n",
       "    }\n",
       "\n",
       "    .dataframe tbody tr th {\n",
       "        vertical-align: top;\n",
       "    }\n",
       "\n",
       "    .dataframe thead th {\n",
       "        text-align: right;\n",
       "    }\n",
       "</style>\n",
       "<table border=\"1\" class=\"dataframe\">\n",
       "  <thead>\n",
       "    <tr style=\"text-align: right;\">\n",
       "      <th></th>\n",
       "      <th>Recency</th>\n",
       "      <th>Frequency</th>\n",
       "      <th>Monetary</th>\n",
       "    </tr>\n",
       "    <tr>\n",
       "      <th>customer_id</th>\n",
       "      <th></th>\n",
       "      <th></th>\n",
       "      <th></th>\n",
       "    </tr>\n",
       "  </thead>\n",
       "  <tbody>\n",
       "    <tr>\n",
       "      <th>8325158</th>\n",
       "      <td>4</td>\n",
       "      <td>17</td>\n",
       "      <td>2812.58</td>\n",
       "    </tr>\n",
       "    <tr>\n",
       "      <th>2028611</th>\n",
       "      <td>98</td>\n",
       "      <td>17</td>\n",
       "      <td>2661.72</td>\n",
       "    </tr>\n",
       "    <tr>\n",
       "      <th>6578818</th>\n",
       "      <td>5</td>\n",
       "      <td>16</td>\n",
       "      <td>2486.73</td>\n",
       "    </tr>\n",
       "    <tr>\n",
       "      <th>7843272</th>\n",
       "      <td>0</td>\n",
       "      <td>20</td>\n",
       "      <td>2325.06</td>\n",
       "    </tr>\n",
       "    <tr>\n",
       "      <th>8032770</th>\n",
       "      <td>50</td>\n",
       "      <td>13</td>\n",
       "      <td>2065.88</td>\n",
       "    </tr>\n",
       "  </tbody>\n",
       "</table>\n",
       "</div>"
      ],
      "text/plain": [
       "             Recency  Frequency  Monetary\n",
       "customer_id                              \n",
       "8325158            4         17   2812.58\n",
       "2028611           98         17   2661.72\n",
       "6578818            5         16   2486.73\n",
       "7843272            0         20   2325.06\n",
       "8032770           50         13   2065.88"
      ]
     },
     "execution_count": 35,
     "metadata": {},
     "output_type": "execute_result"
    }
   ],
   "source": [
    "df_now.head()"
   ]
  },
  {
   "cell_type": "code",
   "execution_count": 36,
   "metadata": {
    "colab": {
     "base_uri": "https://localhost:8080/",
     "height": 237
    },
    "executionInfo": {
     "elapsed": 89,
     "status": "ok",
     "timestamp": 1742788815482,
     "user": {
      "displayName": "Phuong Khuat Thuy",
      "userId": "16807426118474640783"
     },
     "user_tz": -420
    },
    "id": "EvEbMF4kmzOv",
    "outputId": "7944883a-dfe7-4fed-b95e-08035c0eac77"
   },
   "outputs": [
    {
     "data": {
      "text/html": [
       "<div>\n",
       "<style scoped>\n",
       "    .dataframe tbody tr th:only-of-type {\n",
       "        vertical-align: middle;\n",
       "    }\n",
       "\n",
       "    .dataframe tbody tr th {\n",
       "        vertical-align: top;\n",
       "    }\n",
       "\n",
       "    .dataframe thead th {\n",
       "        text-align: right;\n",
       "    }\n",
       "</style>\n",
       "<table border=\"1\" class=\"dataframe\">\n",
       "  <thead>\n",
       "    <tr style=\"text-align: right;\">\n",
       "      <th></th>\n",
       "      <th>Recency</th>\n",
       "      <th>Frequency</th>\n",
       "      <th>Monetary</th>\n",
       "    </tr>\n",
       "    <tr>\n",
       "      <th>customer_id</th>\n",
       "      <th></th>\n",
       "      <th></th>\n",
       "      <th></th>\n",
       "    </tr>\n",
       "  </thead>\n",
       "  <tbody>\n",
       "    <tr>\n",
       "      <th>4745717</th>\n",
       "      <td>167</td>\n",
       "      <td>1</td>\n",
       "      <td>0.0</td>\n",
       "    </tr>\n",
       "    <tr>\n",
       "      <th>4766692</th>\n",
       "      <td>169</td>\n",
       "      <td>1</td>\n",
       "      <td>0.0</td>\n",
       "    </tr>\n",
       "    <tr>\n",
       "      <th>4767380</th>\n",
       "      <td>179</td>\n",
       "      <td>1</td>\n",
       "      <td>0.0</td>\n",
       "    </tr>\n",
       "    <tr>\n",
       "      <th>4772878</th>\n",
       "      <td>155</td>\n",
       "      <td>1</td>\n",
       "      <td>0.0</td>\n",
       "    </tr>\n",
       "    <tr>\n",
       "      <th>99774092719790</th>\n",
       "      <td>169</td>\n",
       "      <td>1</td>\n",
       "      <td>0.0</td>\n",
       "    </tr>\n",
       "  </tbody>\n",
       "</table>\n",
       "</div>"
      ],
      "text/plain": [
       "                Recency  Frequency  Monetary\n",
       "customer_id                                 \n",
       "4745717             167          1       0.0\n",
       "4766692             169          1       0.0\n",
       "4767380             179          1       0.0\n",
       "4772878             155          1       0.0\n",
       "99774092719790      169          1       0.0"
      ]
     },
     "execution_count": 36,
     "metadata": {},
     "output_type": "execute_result"
    }
   ],
   "source": [
    "df_now.tail()"
   ]
  },
  {
   "cell_type": "code",
   "execution_count": 37,
   "metadata": {
    "id": "oQ6d9zhzTJe2"
   },
   "outputs": [],
   "source": [
    "from sklearn.cluster import KMeans\n",
    "sse = {}\n",
    "for k in range(1, 20):\n",
    "    kmeans = KMeans(n_clusters=k, random_state=42)\n",
    "    kmeans.fit(df_now)\n",
    "    sse[k] = kmeans.inertia_ # SSE to closest cluster centroid"
   ]
  },
  {
   "cell_type": "code",
   "execution_count": 38,
   "metadata": {
    "colab": {
     "base_uri": "https://localhost:8080/",
     "height": 470
    },
    "executionInfo": {
     "elapsed": 245,
     "status": "ok",
     "timestamp": 1742788828531,
     "user": {
      "displayName": "Phuong Khuat Thuy",
      "userId": "16807426118474640783"
     },
     "user_tz": -420
    },
    "id": "up3nOGxDTJe2",
    "outputId": "846e6f53-f423-4879-92e7-c6fa84d65273"
   },
   "outputs": [
    {
     "data": {
      "image/png": "[encoded data removed]",
      "text/plain": [
       "<Figure size 640x480 with 1 Axes>"
      ]
     },
     "metadata": {},
     "output_type": "display_data"
    }
   ],
   "source": [
    "plt.title('The Elbow Method')\n",
    "plt.xlabel('k')\n",
    "plt.ylabel('SSE')\n",
    "\n",
    "plt.plot(list(sse.keys()), list(sse.values()), marker='o')\n",
    "plt.show()"
   ]
  },
  {
   "cell_type": "code",
   "execution_count": 39,
   "metadata": {
    "colab": {
     "base_uri": "https://localhost:8080/"
    },
    "executionInfo": {
     "elapsed": 98,
     "status": "ok",
     "timestamp": 1742788844842,
     "user": {
      "displayName": "Phuong Khuat Thuy",
      "userId": "16807426118474640783"
     },
     "user_tz": -420
    },
    "id": "hmHXV_9eTJe2",
    "outputId": "1ff627fe-d93a-4a8b-b090-937dfc9918bb"
   },
   "outputs": [
    {
     "data": {
      "text/plain": [
       "(25543,)"
      ]
     },
     "execution_count": 39,
     "metadata": {},
     "output_type": "execute_result"
    }
   ],
   "source": [
    "# Build model with k=5\n",
    "model = KMeans(n_clusters=5, random_state=42)\n",
    "model.fit(df_now)\n",
    "model.labels_.shape"
   ]
  },
  {
   "cell_type": "code",
   "execution_count": 40,
   "metadata": {
    "colab": {
     "base_uri": "https://localhost:8080/",
     "height": 407
    },
    "executionInfo": {
     "elapsed": 95,
     "status": "ok",
     "timestamp": 1742788847392,
     "user": {
      "displayName": "Phuong Khuat Thuy",
      "userId": "16807426118474640783"
     },
     "user_tz": -420
    },
    "id": "2TND1mMcTJe2",
    "outputId": "a6229fb0-8423-47ab-946a-addf6796daa7"
   },
   "outputs": [
    {
     "name": "stderr",
     "output_type": "stream",
     "text": [
      "C:\\Users\\khoah\\AppData\\Local\\Temp\\ipykernel_1444\\1766179631.py:1: SettingWithCopyWarning:\n",
      "\n",
      "\n",
      "A value is trying to be set on a copy of a slice from a DataFrame.\n",
      "Try using .loc[row_indexer,col_indexer] = value instead\n",
      "\n",
      "See the caveats in the documentation: https://pandas.pydata.org/pandas-docs/stable/user_guide/indexing.html#returning-a-view-versus-a-copy\n",
      "\n"
     ]
    },
    {
     "data": {
      "text/html": [
       "<div>\n",
       "<style scoped>\n",
       "    .dataframe tbody tr th:only-of-type {\n",
       "        vertical-align: middle;\n",
       "    }\n",
       "\n",
       "    .dataframe tbody tr th {\n",
       "        vertical-align: top;\n",
       "    }\n",
       "\n",
       "    .dataframe thead tr th {\n",
       "        text-align: left;\n",
       "    }\n",
       "\n",
       "    .dataframe thead tr:last-of-type th {\n",
       "        text-align: right;\n",
       "    }\n",
       "</style>\n",
       "<table border=\"1\" class=\"dataframe\">\n",
       "  <thead>\n",
       "    <tr>\n",
       "      <th></th>\n",
       "      <th>Recency</th>\n",
       "      <th>Frequency</th>\n",
       "      <th colspan=\"2\" halign=\"left\">Monetary</th>\n",
       "    </tr>\n",
       "    <tr>\n",
       "      <th></th>\n",
       "      <th>mean</th>\n",
       "      <th>mean</th>\n",
       "      <th>mean</th>\n",
       "      <th>count</th>\n",
       "    </tr>\n",
       "    <tr>\n",
       "      <th>Cluster</th>\n",
       "      <th></th>\n",
       "      <th></th>\n",
       "      <th></th>\n",
       "      <th></th>\n",
       "    </tr>\n",
       "  </thead>\n",
       "  <tbody>\n",
       "    <tr>\n",
       "      <th>0</th>\n",
       "      <td>65.91</td>\n",
       "      <td>2.42</td>\n",
       "      <td>272.79</td>\n",
       "      <td>5364</td>\n",
       "    </tr>\n",
       "    <tr>\n",
       "      <th>1</th>\n",
       "      <td>44.35</td>\n",
       "      <td>4.18</td>\n",
       "      <td>535.70</td>\n",
       "      <td>1503</td>\n",
       "    </tr>\n",
       "    <tr>\n",
       "      <th>2</th>\n",
       "      <td>29.53</td>\n",
       "      <td>7.69</td>\n",
       "      <td>1125.21</td>\n",
       "      <td>189</td>\n",
       "    </tr>\n",
       "    <tr>\n",
       "      <th>3</th>\n",
       "      <td>136.81</td>\n",
       "      <td>1.14</td>\n",
       "      <td>90.29</td>\n",
       "      <td>10202</td>\n",
       "    </tr>\n",
       "    <tr>\n",
       "      <th>4</th>\n",
       "      <td>39.00</td>\n",
       "      <td>1.32</td>\n",
       "      <td>111.69</td>\n",
       "      <td>8285</td>\n",
       "    </tr>\n",
       "  </tbody>\n",
       "</table>\n",
       "</div>"
      ],
      "text/plain": [
       "        Recency Frequency Monetary       \n",
       "           mean      mean     mean  count\n",
       "Cluster                                  \n",
       "0         65.91      2.42   272.79   5364\n",
       "1         44.35      4.18   535.70   1503\n",
       "2         29.53      7.69  1125.21    189\n",
       "3        136.81      1.14    90.29  10202\n",
       "4         39.00      1.32   111.69   8285"
      ]
     },
     "execution_count": 40,
     "metadata": {},
     "output_type": "execute_result"
    }
   ],
   "source": [
    "df_now[\"Cluster\"] = model.labels_\n",
    "df_now.groupby('Cluster').agg({\n",
    "    'Recency':'mean',\n",
    "    'Frequency':'mean',\n",
    "    'Monetary':['mean', 'count']}).round(2)"
   ]
  },
  {
   "cell_type": "code",
   "execution_count": 41,
   "metadata": {
    "colab": {
     "base_uri": "https://localhost:8080/",
     "height": 206
    },
    "executionInfo": {
     "elapsed": 81,
     "status": "ok",
     "timestamp": 1742788860540,
     "user": {
      "displayName": "Phuong Khuat Thuy",
      "userId": "16807426118474640783"
     },
     "user_tz": -420
    },
    "id": "KjbPyPmrTJe2",
    "outputId": "32cdc78d-33db-4713-89e6-bc72f8480345"
   },
   "outputs": [
    {
     "data": {
      "text/html": [
       "<div>\n",
       "<style scoped>\n",
       "    .dataframe tbody tr th:only-of-type {\n",
       "        vertical-align: middle;\n",
       "    }\n",
       "\n",
       "    .dataframe tbody tr th {\n",
       "        vertical-align: top;\n",
       "    }\n",
       "\n",
       "    .dataframe thead th {\n",
       "        text-align: right;\n",
       "    }\n",
       "</style>\n",
       "<table border=\"1\" class=\"dataframe\">\n",
       "  <thead>\n",
       "    <tr style=\"text-align: right;\">\n",
       "      <th></th>\n",
       "      <th>Cluster</th>\n",
       "      <th>RecencyMean</th>\n",
       "      <th>FrequencyMean</th>\n",
       "      <th>MonetaryMean</th>\n",
       "      <th>Count</th>\n",
       "      <th>Percent</th>\n",
       "    </tr>\n",
       "  </thead>\n",
       "  <tbody>\n",
       "    <tr>\n",
       "      <th>0</th>\n",
       "      <td>Cluster 0</td>\n",
       "      <td>66.0</td>\n",
       "      <td>2.0</td>\n",
       "      <td>273.0</td>\n",
       "      <td>5364</td>\n",
       "      <td>21.00</td>\n",
       "    </tr>\n",
       "    <tr>\n",
       "      <th>1</th>\n",
       "      <td>Cluster 1</td>\n",
       "      <td>44.0</td>\n",
       "      <td>4.0</td>\n",
       "      <td>536.0</td>\n",
       "      <td>1503</td>\n",
       "      <td>5.88</td>\n",
       "    </tr>\n",
       "    <tr>\n",
       "      <th>2</th>\n",
       "      <td>Cluster 2</td>\n",
       "      <td>30.0</td>\n",
       "      <td>8.0</td>\n",
       "      <td>1125.0</td>\n",
       "      <td>189</td>\n",
       "      <td>0.74</td>\n",
       "    </tr>\n",
       "    <tr>\n",
       "      <th>3</th>\n",
       "      <td>Cluster 3</td>\n",
       "      <td>137.0</td>\n",
       "      <td>1.0</td>\n",
       "      <td>90.0</td>\n",
       "      <td>10202</td>\n",
       "      <td>39.94</td>\n",
       "    </tr>\n",
       "    <tr>\n",
       "      <th>4</th>\n",
       "      <td>Cluster 4</td>\n",
       "      <td>39.0</td>\n",
       "      <td>1.0</td>\n",
       "      <td>112.0</td>\n",
       "      <td>8285</td>\n",
       "      <td>32.44</td>\n",
       "    </tr>\n",
       "  </tbody>\n",
       "</table>\n",
       "</div>"
      ],
      "text/plain": [
       "     Cluster  RecencyMean  FrequencyMean  MonetaryMean  Count  Percent\n",
       "0  Cluster 0         66.0            2.0         273.0   5364    21.00\n",
       "1  Cluster 1         44.0            4.0         536.0   1503     5.88\n",
       "2  Cluster 2         30.0            8.0        1125.0    189     0.74\n",
       "3  Cluster 3        137.0            1.0          90.0  10202    39.94\n",
       "4  Cluster 4         39.0            1.0         112.0   8285    32.44"
      ]
     },
     "execution_count": 41,
     "metadata": {},
     "output_type": "execute_result"
    }
   ],
   "source": [
    "# Calculate average values for each RFM_Level, and return a size of each segment\n",
    "rfm_agg2 = df_now.groupby('Cluster').agg({\n",
    "    'Recency': 'mean',\n",
    "    'Frequency': 'mean',\n",
    "    'Monetary': ['mean', 'count']}).round(0)\n",
    "\n",
    "rfm_agg2.columns = rfm_agg2.columns.droplevel()\n",
    "rfm_agg2.columns = ['RecencyMean','FrequencyMean','MonetaryMean', 'Count']\n",
    "rfm_agg2['Percent'] = round((rfm_agg2['Count']/rfm_agg2.Count.sum())*100, 2)\n",
    "\n",
    "# Reset the index\n",
    "rfm_agg2 = rfm_agg2.reset_index()\n",
    "\n",
    "# Change thr Cluster Columns Datatype into discrete values\n",
    "rfm_agg2['Cluster'] = 'Cluster '+ rfm_agg2['Cluster'].astype('str')\n",
    "\n",
    "# Print the aggregated dataset\n",
    "rfm_agg2"
   ]
  },
  {
   "cell_type": "code",
   "execution_count": 42,
   "metadata": {
    "colab": {
     "base_uri": "https://localhost:8080/",
     "height": 842
    },
    "executionInfo": {
     "elapsed": 613,
     "status": "ok",
     "timestamp": 1742788865420,
     "user": {
      "displayName": "Phuong Khuat Thuy",
      "userId": "16807426118474640783"
     },
     "user_tz": -420
    },
    "id": "znq_Vbr1TJe2",
    "outputId": "a3e7eea5-d8e1-44a8-bcc5-5b1d65c8fe6b"
   },
   "outputs": [
    {
     "data": {
      "image/png": "[encoded data removed]",
      "text/plain": [
       "<Figure size 1400x1000 with 1 Axes>"
      ]
     },
     "metadata": {},
     "output_type": "display_data"
    }
   ],
   "source": [
    "#Create our plot and resize it.\n",
    "fig = plt.gcf()\n",
    "ax = fig.add_subplot()\n",
    "fig.set_size_inches(14, 10)\n",
    "\n",
    "colors_dict2 = {'Cluster0':'yellow','Cluster1':'royalblue', 'Cluster2':'cyan',\n",
    "               'Cluster3':'red', 'Cluster4':'purple', 'Cluster5':'green', 'Cluster6':'gold'}\n",
    "\n",
    "squarify.plot(sizes=rfm_agg2['Count'],\n",
    "              text_kwargs={'fontsize':12,'weight':'bold', 'fontname':\"sans serif\"},\n",
    "              color=colors_dict2.values(),\n",
    "              label=['{} \\n{:.0f} days \\n{:.0f} orders \\n{:.0f} $ \\n{:.0f} customers ({}%)'.format(*rfm_agg2.iloc[i])\n",
    "                      for i in range(0, len(rfm_agg2))], alpha=0.5 )\n",
    "\n",
    "\n",
    "plt.title(\"Customers Segments\",fontsize=26,fontweight=\"bold\")\n",
    "plt.axis('off')\n",
    "\n",
    "plt.savefig('Unsupervised Segments.png')\n",
    "plt.show()"
   ]
  },
  {
   "cell_type": "code",
   "execution_count": 43,
   "metadata": {
    "colab": {
     "base_uri": "https://localhost:8080/",
     "height": 542
    },
    "executionInfo": {
     "elapsed": 90,
     "status": "ok",
     "timestamp": 1742788887809,
     "user": {
      "displayName": "Phuong Khuat Thuy",
      "userId": "16807426118474640783"
     },
     "user_tz": -420
    },
    "id": "6tLJSJDSTJe3",
    "outputId": "9ad59bab-2317-4fcd-f3ad-bcafe377fd7e"
   },
   "outputs": [
    {
     "data": {
      "application/vnd.plotly.v1+json": {
       "config": {
        "plotlyServerURL": "https://plot.ly"
       },
       "data": [
        {
         "hovertemplate": "<b>%{hovertext}</b><br><br>Cluster=Cluster 0<br>RecencyMean=%{x}<br>MonetaryMean=%{y}<br>FrequencyMean=%{marker.size}<extra></extra>",
         "hovertext": [
          "Cluster 0"
         ],
         "legendgroup": "Cluster 0",
         "marker": {
          "color": "#636efa",
          "size": {
           "bdata": "AAAAAAAAAEA=",
           "dtype": "f8"
          },
          "sizemode": "area",
          "sizeref": 0.0008,
          "symbol": "circle"
         },
         "mode": "markers",
         "name": "Cluster 0",
         "orientation": "v",
         "showlegend": true,
         "type": "scatter",
         "x": {
          "bdata": "AAAAAACAUEA=",
          "dtype": "f8"
         },
         "xaxis": "x",
         "y": {
          "bdata": "AAAAAAAQcUA=",
          "dtype": "f8"
         },
         "yaxis": "y"
        },
        {
         "hovertemplate": "<b>%{hovertext}</b><br><br>Cluster=Cluster 1<br>RecencyMean=%{x}<br>MonetaryMean=%{y}<br>FrequencyMean=%{marker.size}<extra></extra>",
         "hovertext": [
          "Cluster 1"
         ],
         "legendgroup": "Cluster 1",
         "marker": {
          "color": "#EF553B",
          "size": {
           "bdata": "AAAAAAAAEEA=",
           "dtype": "f8"
          },
          "sizemode": "area",
          "sizeref": 0.0008,
          "symbol": "circle"
         },
         "mode": "markers",
         "name": "Cluster 1",
         "orientation": "v",
         "showlegend": true,
         "type": "scatter",
         "x": {
          "bdata": "AAAAAAAARkA=",
          "dtype": "f8"
         },
         "xaxis": "x",
         "y": {
          "bdata": "AAAAAADAgEA=",
          "dtype": "f8"
         },
         "yaxis": "y"
        },
        {
         "hovertemplate": "<b>%{hovertext}</b><br><br>Cluster=Cluster 2<br>RecencyMean=%{x}<br>MonetaryMean=%{y}<br>FrequencyMean=%{marker.size}<extra></extra>",
         "hovertext": [
          "Cluster 2"
         ],
         "legendgroup": "Cluster 2",
         "marker": {
          "color": "#00cc96",
          "size": {
           "bdata": "AAAAAAAAIEA=",
           "dtype": "f8"
          },
          "sizemode": "area",
          "sizeref": 0.0008,
          "symbol": "circle"
         },
         "mode": "markers",
         "name": "Cluster 2",
         "orientation": "v",
         "showlegend": true,
         "type": "scatter",
         "x": {
          "bdata": "AAAAAAAAPkA=",
          "dtype": "f8"
         },
         "xaxis": "x",
         "y": {
          "bdata": "AAAAAACUkUA=",
          "dtype": "f8"
         },
         "yaxis": "y"
        },
        {
         "hovertemplate": "<b>%{hovertext}</b><br><br>Cluster=Cluster 3<br>RecencyMean=%{x}<br>MonetaryMean=%{y}<br>FrequencyMean=%{marker.size}<extra></extra>",
         "hovertext": [
          "Cluster 3"
         ],
         "legendgroup": "Cluster 3",
         "marker": {
          "color": "#ab63fa",
          "size": {
           "bdata": "AAAAAAAA8D8=",
           "dtype": "f8"
          },
          "sizemode": "area",
          "sizeref": 0.0008,
          "symbol": "circle"
         },
         "mode": "markers",
         "name": "Cluster 3",
         "orientation": "v",
         "showlegend": true,
         "type": "scatter",
         "x": {
          "bdata": "AAAAAAAgYUA=",
          "dtype": "f8"
         },
         "xaxis": "x",
         "y": {
          "bdata": "AAAAAACAVkA=",
          "dtype": "f8"
         },
         "yaxis": "y"
        },
        {
         "hovertemplate": "<b>%{hovertext}</b><br><br>Cluster=Cluster 4<br>RecencyMean=%{x}<br>MonetaryMean=%{y}<br>FrequencyMean=%{marker.size}<extra></extra>",
         "hovertext": [
          "Cluster 4"
         ],
         "legendgroup": "Cluster 4",
         "marker": {
          "color": "#FFA15A",
          "size": {
           "bdata": "AAAAAAAA8D8=",
           "dtype": "f8"
          },
          "sizemode": "area",
          "sizeref": 0.0008,
          "symbol": "circle"
         },
         "mode": "markers",
         "name": "Cluster 4",
         "orientation": "v",
         "showlegend": true,
         "type": "scatter",
         "x": {
          "bdata": "AAAAAACAQ0A=",
          "dtype": "f8"
         },
         "xaxis": "x",
         "y": {
          "bdata": "AAAAAAAAXEA=",
          "dtype": "f8"
         },
         "yaxis": "y"
        }
       ],
       "layout": {
        "legend": {
         "itemsizing": "constant",
         "title": {
          "text": "Cluster"
         },
         "tracegroupgap": 0
        },
        "margin": {
         "t": 60
        },
        "template": {
         "data": {
          "bar": [
           {
            "error_x": {
             "color": "#2a3f5f"
            },
            "error_y": {
             "color": "#2a3f5f"
            },
            "marker": {
             "line": {
              "color": "#E5ECF6",
              "width": 0.5
             },
             "pattern": {
              "fillmode": "overlay",
              "size": 10,
              "solidity": 0.2
             }
            },
            "type": "bar"
           }
          ],
          "barpolar": [
           {
            "marker": {
             "line": {
              "color": "#E5ECF6",
              "width": 0.5
             },
             "pattern": {
              "fillmode": "overlay",
              "size": 10,
              "solidity": 0.2
             }
            },
            "type": "barpolar"
           }
          ],
          "carpet": [
           {
            "aaxis": {
             "endlinecolor": "#2a3f5f",
             "gridcolor": "white",
             "linecolor": "white",
             "minorgridcolor": "white",
             "startlinecolor": "#2a3f5f"
            },
            "baxis": {
             "endlinecolor": "#2a3f5f",
             "gridcolor": "white",
             "linecolor": "white",
             "minorgridcolor": "white",
             "startlinecolor": "#2a3f5f"
            },
            "type": "carpet"
           }
          ],
          "choropleth": [
           {
            "colorbar": {
             "outlinewidth": 0,
             "ticks": ""
            },
            "type": "choropleth"
           }
          ],
          "contour": [
           {
            "colorbar": {
             "outlinewidth": 0,
             "ticks": ""
            },
            "colorscale": [
             [
              0,
              "#0d0887"
             ],
             [
              0.1111111111111111,
              "#46039f"
             ],
             [
              0.2222222222222222,
              "#7201a8"
             ],
             [
              0.3333333333333333,
              "#9c179e"
             ],
             [
              0.4444444444444444,
              "#bd3786"
             ],
             [
              0.5555555555555556,
              "#d8576b"
             ],
             [
              0.6666666666666666,
              "#ed7953"
             ],
             [
              0.7777777777777778,
              "#fb9f3a"
             ],
             [
              0.8888888888888888,
              "#fdca26"
             ],
             [
              1,
              "#f0f921"
             ]
            ],
            "type": "contour"
           }
          ],
          "contourcarpet": [
           {
            "colorbar": {
             "outlinewidth": 0,
             "ticks": ""
            },
            "type": "contourcarpet"
           }
          ],
          "heatmap": [
           {
            "colorbar": {
             "outlinewidth": 0,
             "ticks": ""
            },
            "colorscale": [
             [
              0,
              "#0d0887"
             ],
             [
              0.1111111111111111,
              "#46039f"
             ],
             [
              0.2222222222222222,
              "#7201a8"
             ],
             [
              0.3333333333333333,
              "#9c179e"
             ],
             [
              0.4444444444444444,
              "#bd3786"
             ],
             [
              0.5555555555555556,
              "#d8576b"
             ],
             [
              0.6666666666666666,
              "#ed7953"
             ],
             [
              0.7777777777777778,
              "#fb9f3a"
             ],
             [
              0.8888888888888888,
              "#fdca26"
             ],
             [
              1,
              "#f0f921"
             ]
            ],
            "type": "heatmap"
           }
          ],
          "histogram": [
           {
            "marker": {
             "pattern": {
              "fillmode": "overlay",
              "size": 10,
              "solidity": 0.2
             }
            },
            "type": "histogram"
           }
          ],
          "histogram2d": [
           {
            "colorbar": {
             "outlinewidth": 0,
             "ticks": ""
            },
            "colorscale": [
             [
              0,
              "#0d0887"
             ],
             [
              0.1111111111111111,
              "#46039f"
             ],
             [
              0.2222222222222222,
              "#7201a8"
             ],
             [
              0.3333333333333333,
              "#9c179e"
             ],
             [
              0.4444444444444444,
              "#bd3786"
             ],
             [
              0.5555555555555556,
              "#d8576b"
             ],
             [
              0.6666666666666666,
              "#ed7953"
             ],
             [
              0.7777777777777778,
              "#fb9f3a"
             ],
             [
              0.8888888888888888,
              "#fdca26"
             ],
             [
              1,
              "#f0f921"
             ]
            ],
            "type": "histogram2d"
           }
          ],
          "histogram2dcontour": [
           {
            "colorbar": {
             "outlinewidth": 0,
             "ticks": ""
            },
            "colorscale": [
             [
              0,
              "#0d0887"
             ],
             [
              0.1111111111111111,
              "#46039f"
             ],
             [
              0.2222222222222222,
              "#7201a8"
             ],
             [
              0.3333333333333333,
              "#9c179e"
             ],
             [
              0.4444444444444444,
              "#bd3786"
             ],
             [
              0.5555555555555556,
              "#d8576b"
             ],
             [
              0.6666666666666666,
              "#ed7953"
             ],
             [
              0.7777777777777778,
              "#fb9f3a"
             ],
             [
              0.8888888888888888,
              "#fdca26"
             ],
             [
              1,
              "#f0f921"
             ]
            ],
            "type": "histogram2dcontour"
           }
          ],
          "mesh3d": [
           {
            "colorbar": {
             "outlinewidth": 0,
             "ticks": ""
            },
            "type": "mesh3d"
           }
          ],
          "parcoords": [
           {
            "line": {
             "colorbar": {
              "outlinewidth": 0,
              "ticks": ""
             }
            },
            "type": "parcoords"
           }
          ],
          "pie": [
           {
            "automargin": true,
            "type": "pie"
           }
          ],
          "scatter": [
           {
            "fillpattern": {
             "fillmode": "overlay",
             "size": 10,
             "solidity": 0.2
            },
            "type": "scatter"
           }
          ],
          "scatter3d": [
           {
            "line": {
             "colorbar": {
              "outlinewidth": 0,
              "ticks": ""
             }
            },
            "marker": {
             "colorbar": {
              "outlinewidth": 0,
              "ticks": ""
             }
            },
            "type": "scatter3d"
           }
          ],
          "scattercarpet": [
           {
            "marker": {
             "colorbar": {
              "outlinewidth": 0,
              "ticks": ""
             }
            },
            "type": "scattercarpet"
           }
          ],
          "scattergeo": [
           {
            "marker": {
             "colorbar": {
              "outlinewidth": 0,
              "ticks": ""
             }
            },
            "type": "scattergeo"
           }
          ],
          "scattergl": [
           {
            "marker": {
             "colorbar": {
              "outlinewidth": 0,
              "ticks": ""
             }
            },
            "type": "scattergl"
           }
          ],
          "scattermap": [
           {
            "marker": {
             "colorbar": {
              "outlinewidth": 0,
              "ticks": ""
             }
            },
            "type": "scattermap"
           }
          ],
          "scattermapbox": [
           {
            "marker": {
             "colorbar": {
              "outlinewidth": 0,
              "ticks": ""
             }
            },
            "type": "scattermapbox"
           }
          ],
          "scatterpolar": [
           {
            "marker": {
             "colorbar": {
              "outlinewidth": 0,
              "ticks": ""
             }
            },
            "type": "scatterpolar"
           }
          ],
          "scatterpolargl": [
           {
            "marker": {
             "colorbar": {
              "outlinewidth": 0,
              "ticks": ""
             }
            },
            "type": "scatterpolargl"
           }
          ],
          "scatterternary": [
           {
            "marker": {
             "colorbar": {
              "outlinewidth": 0,
              "ticks": ""
             }
            },
            "type": "scatterternary"
           }
          ],
          "surface": [
           {
            "colorbar": {
             "outlinewidth": 0,
             "ticks": ""
            },
            "colorscale": [
             [
              0,
              "#0d0887"
             ],
             [
              0.1111111111111111,
              "#46039f"
             ],
             [
              0.2222222222222222,
              "#7201a8"
             ],
             [
              0.3333333333333333,
              "#9c179e"
             ],
             [
              0.4444444444444444,
              "#bd3786"
             ],
             [
              0.5555555555555556,
              "#d8576b"
             ],
             [
              0.6666666666666666,
              "#ed7953"
             ],
             [
              0.7777777777777778,
              "#fb9f3a"
             ],
             [
              0.8888888888888888,
              "#fdca26"
             ],
             [
              1,
              "#f0f921"
             ]
            ],
            "type": "surface"
           }
          ],
          "table": [
           {
            "cells": {
             "fill": {
              "color": "#EBF0F8"
             },
             "line": {
              "color": "white"
             }
            },
            "header": {
             "fill": {
              "color": "#C8D4E3"
             },
             "line": {
              "color": "white"
             }
            },
            "type": "table"
           }
          ]
         },
         "layout": {
          "annotationdefaults": {
           "arrowcolor": "#2a3f5f",
           "arrowhead": 0,
           "arrowwidth": 1
          },
          "autotypenumbers": "strict",
          "coloraxis": {
           "colorbar": {
            "outlinewidth": 0,
            "ticks": ""
           }
          },
          "colorscale": {
           "diverging": [
            [
             0,
             "#8e0152"
            ],
            [
             0.1,
             "#c51b7d"
            ],
            [
             0.2,
             "#de77ae"
            ],
            [
             0.3,
             "#f1b6da"
            ],
            [
             0.4,
             "#fde0ef"
            ],
            [
             0.5,
             "#f7f7f7"
            ],
            [
             0.6,
             "#e6f5d0"
            ],
            [
             0.7,
             "#b8e186"
            ],
            [
             0.8,
             "#7fbc41"
            ],
            [
             0.9,
             "#4d9221"
            ],
            [
             1,
             "#276419"
            ]
           ],
           "sequential": [
            [
             0,
             "#0d0887"
            ],
            [
             0.1111111111111111,
             "#46039f"
            ],
            [
             0.2222222222222222,
             "#7201a8"
            ],
            [
             0.3333333333333333,
             "#9c179e"
            ],
            [
             0.4444444444444444,
             "#bd3786"
            ],
            [
             0.5555555555555556,
             "#d8576b"
            ],
            [
             0.6666666666666666,
             "#ed7953"
            ],
            [
             0.7777777777777778,
             "#fb9f3a"
            ],
            [
             0.8888888888888888,
             "#fdca26"
            ],
            [
             1,
             "#f0f921"
            ]
           ],
           "sequentialminus": [
            [
             0,
             "#0d0887"
            ],
            [
             0.1111111111111111,
             "#46039f"
            ],
            [
             0.2222222222222222,
             "#7201a8"
            ],
            [
             0.3333333333333333,
             "#9c179e"
            ],
            [
             0.4444444444444444,
             "#bd3786"
            ],
            [
             0.5555555555555556,
             "#d8576b"
            ],
            [
             0.6666666666666666,
             "#ed7953"
            ],
            [
             0.7777777777777778,
             "#fb9f3a"
            ],
            [
             0.8888888888888888,
             "#fdca26"
            ],
            [
             1,
             "#f0f921"
            ]
           ]
          },
          "colorway": [
           "#636efa",
           "#EF553B",
           "#00cc96",
           "#ab63fa",
           "#FFA15A",
           "#19d3f3",
           "#FF6692",
           "#B6E880",
           "#FF97FF",
           "#FECB52"
          ],
          "font": {
           "color": "#2a3f5f"
          },
          "geo": {
           "bgcolor": "white",
           "lakecolor": "white",
           "landcolor": "#E5ECF6",
           "showlakes": true,
           "showland": true,
           "subunitcolor": "white"
          },
          "hoverlabel": {
           "align": "left"
          },
          "hovermode": "closest",
          "mapbox": {
           "style": "light"
          },
          "paper_bgcolor": "white",
          "plot_bgcolor": "#E5ECF6",
          "polar": {
           "angularaxis": {
            "gridcolor": "white",
            "linecolor": "white",
            "ticks": ""
           },
           "bgcolor": "#E5ECF6",
           "radialaxis": {
            "gridcolor": "white",
            "linecolor": "white",
            "ticks": ""
           }
          },
          "scene": {
           "xaxis": {
            "backgroundcolor": "#E5ECF6",
            "gridcolor": "white",
            "gridwidth": 2,
            "linecolor": "white",
            "showbackground": true,
            "ticks": "",
            "zerolinecolor": "white"
           },
           "yaxis": {
            "backgroundcolor": "#E5ECF6",
            "gridcolor": "white",
            "gridwidth": 2,
            "linecolor": "white",
            "showbackground": true,
            "ticks": "",
            "zerolinecolor": "white"
           },
           "zaxis": {
            "backgroundcolor": "#E5ECF6",
            "gridcolor": "white",
            "gridwidth": 2,
            "linecolor": "white",
            "showbackground": true,
            "ticks": "",
            "zerolinecolor": "white"
           }
          },
          "shapedefaults": {
           "line": {
            "color": "#2a3f5f"
           }
          },
          "ternary": {
           "aaxis": {
            "gridcolor": "white",
            "linecolor": "white",
            "ticks": ""
           },
           "baxis": {
            "gridcolor": "white",
            "linecolor": "white",
            "ticks": ""
           },
           "bgcolor": "#E5ECF6",
           "caxis": {
            "gridcolor": "white",
            "linecolor": "white",
            "ticks": ""
           }
          },
          "title": {
           "x": 0.05
          },
          "xaxis": {
           "automargin": true,
           "gridcolor": "white",
           "linecolor": "white",
           "ticks": "",
           "title": {
            "standoff": 15
           },
           "zerolinecolor": "white",
           "zerolinewidth": 2
          },
          "yaxis": {
           "automargin": true,
           "gridcolor": "white",
           "linecolor": "white",
           "ticks": "",
           "title": {
            "standoff": 15
           },
           "zerolinecolor": "white",
           "zerolinewidth": 2
          }
         }
        },
        "xaxis": {
         "anchor": "y",
         "domain": [
          0,
          1
         ],
         "title": {
          "text": "RecencyMean"
         }
        },
        "yaxis": {
         "anchor": "x",
         "domain": [
          0,
          1
         ],
         "title": {
          "text": "MonetaryMean"
         }
        }
       }
      }
     },
     "metadata": {},
     "output_type": "display_data"
    }
   ],
   "source": [
    "import plotly.express as px\n",
    "\n",
    "fig = px.scatter(rfm_agg2, x=\"RecencyMean\", y=\"MonetaryMean\", size=\"FrequencyMean\", color=\"Cluster\",\n",
    "           hover_name=\"Cluster\", size_max=100)\n",
    "fig.show()"
   ]
  },
  {
   "cell_type": "code",
   "execution_count": 44,
   "metadata": {
    "id": "oeaPFUxrTJe4"
   },
   "outputs": [],
   "source": [
    "# Note: Có thể thử nghiệm thêm các cách phân cụm khác và đánh giá kết quả"
   ]
  },
  {
   "cell_type": "markdown",
   "metadata": {
    "id": "I4LTJGt0TJe3"
   },
   "source": [
    "#### Summary\n",
    "- Hãy nhận xét chi tiết cho từng nhóm khách hàng!"
   ]
  }
 ],
 "metadata": {
  "colab": {
   "provenance": []
  },
  "kernelspec": {
   "display_name": "Python 3",
   "language": "python",
   "name": "python3"
  },
  "language_info": {
   "codemirror_mode": {
    "name": "ipython",
    "version": 3
   },
   "file_extension": ".py",
   "mimetype": "text/x-python",
   "name": "python",
   "nbconvert_exporter": "python",
   "pygments_lexer": "ipython3",
   "version": "3.10.0"
  }
 },
 "nbformat": 4,
 "nbformat_minor": 0
}
